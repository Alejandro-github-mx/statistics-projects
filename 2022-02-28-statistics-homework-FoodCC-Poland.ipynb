{
 "cells": [
  {
   "cell_type": "markdown",
   "metadata": {},
   "source": [
    "# Final homework"
   ]
  },
  {
   "cell_type": "markdown",
   "metadata": {},
   "source": [
    "*Akademia Leona Kozminskiego*\n",
    "#### Descriptive Statistics\n"
   ]
  },
  {
   "cell_type": "markdown",
   "metadata": {},
   "source": [
    "*Prof.* Katarzyna Piotrowska <br>\n",
    "*Student* Alejandro Guzmán Rivera (*23-DS*)"
   ]
  },
  {
   "cell_type": "markdown",
   "metadata": {},
   "source": [
    "**Instructions** <br>\n",
    "\n",
    "A simple quantitative, explanatory research (for 5: with the theory-based justification of the hypothesis i.e. literature review with references etc.). At least one variable on the qualitative level of measurement (categorical or ordinal) and one on the quantitative (interval or ratio) level of measurement.<br>\n",
    "\n",
    "1. Research question and hypothesis (if applicable) – is the research descriptive or explanatory?\n",
    "2. Variables’ definitions (conceptualisation)\n",
    "3. Operationalisation (variables’ indicators, their levels and levels of measurement)\n",
    "4. Subject of the study: observation unit\n",
    "5. Data collection procedure\n",
    "6. Data analysis\n",
    "7. Sample description\n",
    "8. Bivariate and/or multivariate analyses (at least two different) with the justification of the choice of\n",
    "the method and interpretation of the results\n",
    "9. The purpose of use descriptive statistics (sample description, the answer to research question, other)\n",
    "10. Conclusions/discussion"
   ]
  },
  {
   "cell_type": "markdown",
   "metadata": {},
   "source": [
    "## 1. Research question"
   ]
  },
  {
   "cell_type": "markdown",
   "metadata": {},
   "source": [
    "* What is the impact of **crop** production in Poland in Greenhouse Gasses (GHG), specifically Nitrous Oxide, Methane and Carbon Dioxide through the period 1961-2019? "
   ]
  },
  {
   "cell_type": "markdown",
   "metadata": {},
   "source": [
    "## 2. Hypothesis"
   ]
  },
  {
   "cell_type": "markdown",
   "metadata": {},
   "source": [
    "* There is a positive correlation between **crop** production and GHG emissions in Poland during the period 1961 to 2019."
   ]
  },
  {
   "cell_type": "markdown",
   "metadata": {},
   "source": [
    "## 3. Variables definition"
   ]
  },
  {
   "cell_type": "code",
   "execution_count": 15,
   "metadata": {},
   "outputs": [
    {
     "name": "stdout",
     "output_type": "stream",
     "text": [
      "╒═══════════════╤═══════╕\n",
      "│ y             │ x     │\n",
      "╞═══════════════╪═══════╡\n",
      "│ GHG Emissions │ Crops │\n",
      "╘═══════════════╧═══════╛\n"
     ]
    }
   ],
   "source": [
    "variables_defi = {\"y\": [\"GHG Emissions\"], \"x\": [\"Crops\"] }\n",
    "print(tabulate(variables_defi, headers=\"keys\", tablefmt=\"fancy_grid\"))"
   ]
  },
  {
   "cell_type": "markdown",
   "metadata": {},
   "source": [
    "## 4. Subject of study"
   ]
  },
  {
   "cell_type": "markdown",
   "metadata": {},
   "source": [
    "GHG emissions according to *crop* production."
   ]
  },
  {
   "cell_type": "markdown",
   "metadata": {},
   "source": [
    "## 5. Data collection procedure"
   ]
  },
  {
   "cell_type": "markdown",
   "metadata": {},
   "source": [
    "### 5.1 Crop production data collection procedure"
   ]
  },
  {
   "cell_type": "markdown",
   "metadata": {},
   "source": [
    "The dataset was obtained from *data.world* which in turn, was taken from the Food and Agriculture Organization of the United Nations (FAO). Specifically, the crop production dataset was taken, which contains statistics of 173 farm products around the world. The original dataset was filtered using SQL by area code, in this case \"173\" that corresponds to Poland. <br>\n",
    "\n",
    "This new dataset contains 281 rows and 125 columns with the next information: "
   ]
  },
  {
   "cell_type": "markdown",
   "metadata": {},
   "source": [
    "*Importing the crops dataset*"
   ]
  },
  {
   "cell_type": "code",
   "execution_count": 61,
   "metadata": {},
   "outputs": [
    {
     "data": {
      "text/html": [
       "<div>\n",
       "<style scoped>\n",
       "    .dataframe tbody tr th:only-of-type {\n",
       "        vertical-align: middle;\n",
       "    }\n",
       "\n",
       "    .dataframe tbody tr th {\n",
       "        vertical-align: top;\n",
       "    }\n",
       "\n",
       "    .dataframe thead th {\n",
       "        text-align: right;\n",
       "    }\n",
       "</style>\n",
       "<table border=\"1\" class=\"dataframe\">\n",
       "  <thead>\n",
       "    <tr style=\"text-align: right;\">\n",
       "      <th></th>\n",
       "      <th>area_code</th>\n",
       "      <th>area</th>\n",
       "      <th>item_code</th>\n",
       "      <th>item</th>\n",
       "      <th>element_code</th>\n",
       "      <th>element</th>\n",
       "      <th>unit</th>\n",
       "      <th>y1961</th>\n",
       "      <th>y1961f</th>\n",
       "      <th>y1962</th>\n",
       "      <th>...</th>\n",
       "      <th>y2015</th>\n",
       "      <th>y2015f</th>\n",
       "      <th>y2016</th>\n",
       "      <th>y2016f</th>\n",
       "      <th>y2017</th>\n",
       "      <th>y2017f</th>\n",
       "      <th>y2018</th>\n",
       "      <th>y2018f</th>\n",
       "      <th>y2019</th>\n",
       "      <th>y2019f</th>\n",
       "    </tr>\n",
       "  </thead>\n",
       "  <tbody>\n",
       "    <tr>\n",
       "      <th>0</th>\n",
       "      <td>173</td>\n",
       "      <td>Poland</td>\n",
       "      <td>221</td>\n",
       "      <td>Almonds, with shell</td>\n",
       "      <td>5312</td>\n",
       "      <td>Area harvested</td>\n",
       "      <td>ha</td>\n",
       "      <td>NaN</td>\n",
       "      <td>NaN</td>\n",
       "      <td>NaN</td>\n",
       "      <td>...</td>\n",
       "      <td>NaN</td>\n",
       "      <td>NaN</td>\n",
       "      <td>NaN</td>\n",
       "      <td>NaN</td>\n",
       "      <td>NaN</td>\n",
       "      <td>NaN</td>\n",
       "      <td>0.0</td>\n",
       "      <td>NaN</td>\n",
       "      <td>0.0</td>\n",
       "      <td>NaN</td>\n",
       "    </tr>\n",
       "    <tr>\n",
       "      <th>1</th>\n",
       "      <td>173</td>\n",
       "      <td>Poland</td>\n",
       "      <td>221</td>\n",
       "      <td>Almonds, with shell</td>\n",
       "      <td>5510</td>\n",
       "      <td>Production</td>\n",
       "      <td>tonnes</td>\n",
       "      <td>NaN</td>\n",
       "      <td>NaN</td>\n",
       "      <td>NaN</td>\n",
       "      <td>...</td>\n",
       "      <td>NaN</td>\n",
       "      <td>NaN</td>\n",
       "      <td>NaN</td>\n",
       "      <td>NaN</td>\n",
       "      <td>NaN</td>\n",
       "      <td>NaN</td>\n",
       "      <td>0.0</td>\n",
       "      <td>NaN</td>\n",
       "      <td>0.0</td>\n",
       "      <td>NaN</td>\n",
       "    </tr>\n",
       "    <tr>\n",
       "      <th>2</th>\n",
       "      <td>173</td>\n",
       "      <td>Poland</td>\n",
       "      <td>711</td>\n",
       "      <td>Anise, badian, fennel, coriander</td>\n",
       "      <td>5312</td>\n",
       "      <td>Area harvested</td>\n",
       "      <td>ha</td>\n",
       "      <td>NaN</td>\n",
       "      <td>NaN</td>\n",
       "      <td>NaN</td>\n",
       "      <td>...</td>\n",
       "      <td>NaN</td>\n",
       "      <td>M</td>\n",
       "      <td>NaN</td>\n",
       "      <td>M</td>\n",
       "      <td>NaN</td>\n",
       "      <td>M</td>\n",
       "      <td>NaN</td>\n",
       "      <td>NaN</td>\n",
       "      <td>NaN</td>\n",
       "      <td>NaN</td>\n",
       "    </tr>\n",
       "    <tr>\n",
       "      <th>3</th>\n",
       "      <td>173</td>\n",
       "      <td>Poland</td>\n",
       "      <td>711</td>\n",
       "      <td>Anise, badian, fennel, coriander</td>\n",
       "      <td>5510</td>\n",
       "      <td>Production</td>\n",
       "      <td>tonnes</td>\n",
       "      <td>1100.0</td>\n",
       "      <td>F</td>\n",
       "      <td>1100.0</td>\n",
       "      <td>...</td>\n",
       "      <td>NaN</td>\n",
       "      <td>M</td>\n",
       "      <td>NaN</td>\n",
       "      <td>M</td>\n",
       "      <td>NaN</td>\n",
       "      <td>M</td>\n",
       "      <td>NaN</td>\n",
       "      <td>NaN</td>\n",
       "      <td>NaN</td>\n",
       "      <td>NaN</td>\n",
       "    </tr>\n",
       "    <tr>\n",
       "      <th>4</th>\n",
       "      <td>173</td>\n",
       "      <td>Poland</td>\n",
       "      <td>515</td>\n",
       "      <td>Apples</td>\n",
       "      <td>5312</td>\n",
       "      <td>Area harvested</td>\n",
       "      <td>ha</td>\n",
       "      <td>NaN</td>\n",
       "      <td>M</td>\n",
       "      <td>NaN</td>\n",
       "      <td>...</td>\n",
       "      <td>180399.0</td>\n",
       "      <td>NaN</td>\n",
       "      <td>177203.0</td>\n",
       "      <td>NaN</td>\n",
       "      <td>176352.0</td>\n",
       "      <td>NaN</td>\n",
       "      <td>166150.0</td>\n",
       "      <td>NaN</td>\n",
       "      <td>166440.0</td>\n",
       "      <td>NaN</td>\n",
       "    </tr>\n",
       "    <tr>\n",
       "      <th>...</th>\n",
       "      <td>...</td>\n",
       "      <td>...</td>\n",
       "      <td>...</td>\n",
       "      <td>...</td>\n",
       "      <td>...</td>\n",
       "      <td>...</td>\n",
       "      <td>...</td>\n",
       "      <td>...</td>\n",
       "      <td>...</td>\n",
       "      <td>...</td>\n",
       "      <td>...</td>\n",
       "      <td>...</td>\n",
       "      <td>...</td>\n",
       "      <td>...</td>\n",
       "      <td>...</td>\n",
       "      <td>...</td>\n",
       "      <td>...</td>\n",
       "      <td>...</td>\n",
       "      <td>...</td>\n",
       "      <td>...</td>\n",
       "      <td>...</td>\n",
       "    </tr>\n",
       "    <tr>\n",
       "      <th>276</th>\n",
       "      <td>173</td>\n",
       "      <td>Poland</td>\n",
       "      <td>1729</td>\n",
       "      <td>Treenuts, Total</td>\n",
       "      <td>5419</td>\n",
       "      <td>Yield</td>\n",
       "      <td>hg/ha</td>\n",
       "      <td>NaN</td>\n",
       "      <td>NaN</td>\n",
       "      <td>NaN</td>\n",
       "      <td>...</td>\n",
       "      <td>20716.0</td>\n",
       "      <td>Fc</td>\n",
       "      <td>19529.0</td>\n",
       "      <td>Fc</td>\n",
       "      <td>12926.0</td>\n",
       "      <td>Fc</td>\n",
       "      <td>25075.0</td>\n",
       "      <td>Fc</td>\n",
       "      <td>17741.0</td>\n",
       "      <td>Fc</td>\n",
       "    </tr>\n",
       "    <tr>\n",
       "      <th>277</th>\n",
       "      <td>173</td>\n",
       "      <td>Poland</td>\n",
       "      <td>1729</td>\n",
       "      <td>Treenuts, Total</td>\n",
       "      <td>5510</td>\n",
       "      <td>Production</td>\n",
       "      <td>tonnes</td>\n",
       "      <td>NaN</td>\n",
       "      <td>A</td>\n",
       "      <td>NaN</td>\n",
       "      <td>...</td>\n",
       "      <td>12502.0</td>\n",
       "      <td>A</td>\n",
       "      <td>12741.0</td>\n",
       "      <td>A</td>\n",
       "      <td>8353.0</td>\n",
       "      <td>A</td>\n",
       "      <td>15120.0</td>\n",
       "      <td>A</td>\n",
       "      <td>10680.0</td>\n",
       "      <td>A</td>\n",
       "    </tr>\n",
       "    <tr>\n",
       "      <th>278</th>\n",
       "      <td>173</td>\n",
       "      <td>Poland</td>\n",
       "      <td>1735</td>\n",
       "      <td>Vegetables Primary</td>\n",
       "      <td>5312</td>\n",
       "      <td>Area harvested</td>\n",
       "      <td>ha</td>\n",
       "      <td>200802.0</td>\n",
       "      <td>A</td>\n",
       "      <td>191934.0</td>\n",
       "      <td>...</td>\n",
       "      <td>181445.0</td>\n",
       "      <td>A</td>\n",
       "      <td>184337.0</td>\n",
       "      <td>A</td>\n",
       "      <td>183441.0</td>\n",
       "      <td>A</td>\n",
       "      <td>191705.0</td>\n",
       "      <td>A</td>\n",
       "      <td>191063.0</td>\n",
       "      <td>A</td>\n",
       "    </tr>\n",
       "    <tr>\n",
       "      <th>279</th>\n",
       "      <td>173</td>\n",
       "      <td>Poland</td>\n",
       "      <td>1735</td>\n",
       "      <td>Vegetables Primary</td>\n",
       "      <td>5419</td>\n",
       "      <td>Yield</td>\n",
       "      <td>hg/ha</td>\n",
       "      <td>159958.0</td>\n",
       "      <td>Fc</td>\n",
       "      <td>147749.0</td>\n",
       "      <td>...</td>\n",
       "      <td>279425.0</td>\n",
       "      <td>Fc</td>\n",
       "      <td>319869.0</td>\n",
       "      <td>Fc</td>\n",
       "      <td>327189.0</td>\n",
       "      <td>Fc</td>\n",
       "      <td>287097.0</td>\n",
       "      <td>Fc</td>\n",
       "      <td>282755.0</td>\n",
       "      <td>Fc</td>\n",
       "    </tr>\n",
       "    <tr>\n",
       "      <th>280</th>\n",
       "      <td>173</td>\n",
       "      <td>Poland</td>\n",
       "      <td>1735</td>\n",
       "      <td>Vegetables Primary</td>\n",
       "      <td>5510</td>\n",
       "      <td>Production</td>\n",
       "      <td>tonnes</td>\n",
       "      <td>3211987.0</td>\n",
       "      <td>A</td>\n",
       "      <td>2835813.0</td>\n",
       "      <td>...</td>\n",
       "      <td>5070030.0</td>\n",
       "      <td>A</td>\n",
       "      <td>5896363.0</td>\n",
       "      <td>A</td>\n",
       "      <td>6001996.0</td>\n",
       "      <td>A</td>\n",
       "      <td>5503800.0</td>\n",
       "      <td>A</td>\n",
       "      <td>5402394.0</td>\n",
       "      <td>A</td>\n",
       "    </tr>\n",
       "  </tbody>\n",
       "</table>\n",
       "<p>281 rows × 125 columns</p>\n",
       "</div>"
      ],
      "text/plain": [
       "     area_code    area  item_code                              item  \\\n",
       "0          173  Poland        221               Almonds, with shell   \n",
       "1          173  Poland        221               Almonds, with shell   \n",
       "2          173  Poland        711  Anise, badian, fennel, coriander   \n",
       "3          173  Poland        711  Anise, badian, fennel, coriander   \n",
       "4          173  Poland        515                            Apples   \n",
       "..         ...     ...        ...                               ...   \n",
       "276        173  Poland       1729                   Treenuts, Total   \n",
       "277        173  Poland       1729                   Treenuts, Total   \n",
       "278        173  Poland       1735                Vegetables Primary   \n",
       "279        173  Poland       1735                Vegetables Primary   \n",
       "280        173  Poland       1735                Vegetables Primary   \n",
       "\n",
       "     element_code         element    unit      y1961 y1961f      y1962  ...  \\\n",
       "0            5312  Area harvested      ha        NaN    NaN        NaN  ...   \n",
       "1            5510      Production  tonnes        NaN    NaN        NaN  ...   \n",
       "2            5312  Area harvested      ha        NaN    NaN        NaN  ...   \n",
       "3            5510      Production  tonnes     1100.0      F     1100.0  ...   \n",
       "4            5312  Area harvested      ha        NaN      M        NaN  ...   \n",
       "..            ...             ...     ...        ...    ...        ...  ...   \n",
       "276          5419           Yield   hg/ha        NaN    NaN        NaN  ...   \n",
       "277          5510      Production  tonnes        NaN      A        NaN  ...   \n",
       "278          5312  Area harvested      ha   200802.0      A   191934.0  ...   \n",
       "279          5419           Yield   hg/ha   159958.0     Fc   147749.0  ...   \n",
       "280          5510      Production  tonnes  3211987.0      A  2835813.0  ...   \n",
       "\n",
       "         y2015  y2015f      y2016  y2016f      y2017  y2017f      y2018  \\\n",
       "0          NaN     NaN        NaN     NaN        NaN     NaN        0.0   \n",
       "1          NaN     NaN        NaN     NaN        NaN     NaN        0.0   \n",
       "2          NaN       M        NaN       M        NaN       M        NaN   \n",
       "3          NaN       M        NaN       M        NaN       M        NaN   \n",
       "4     180399.0     NaN   177203.0     NaN   176352.0     NaN   166150.0   \n",
       "..         ...     ...        ...     ...        ...     ...        ...   \n",
       "276    20716.0      Fc    19529.0      Fc    12926.0      Fc    25075.0   \n",
       "277    12502.0       A    12741.0       A     8353.0       A    15120.0   \n",
       "278   181445.0       A   184337.0       A   183441.0       A   191705.0   \n",
       "279   279425.0      Fc   319869.0      Fc   327189.0      Fc   287097.0   \n",
       "280  5070030.0       A  5896363.0       A  6001996.0       A  5503800.0   \n",
       "\n",
       "     y2018f      y2019  y2019f  \n",
       "0       NaN        0.0     NaN  \n",
       "1       NaN        0.0     NaN  \n",
       "2       NaN        NaN     NaN  \n",
       "3       NaN        NaN     NaN  \n",
       "4       NaN   166440.0     NaN  \n",
       "..      ...        ...     ...  \n",
       "276      Fc    17741.0      Fc  \n",
       "277       A    10680.0       A  \n",
       "278       A   191063.0       A  \n",
       "279      Fc   282755.0      Fc  \n",
       "280       A  5402394.0       A  \n",
       "\n",
       "[281 rows x 125 columns]"
      ]
     },
     "execution_count": 61,
     "metadata": {},
     "output_type": "execute_result"
    }
   ],
   "source": [
    "data_crops = pd.read_csv(r\"C:\\Users\\USER\\Documents\\Desarrollador\\PYTHON\\2021-Python-exercises\\statistics-projects\\2022-02-18-tarea-phd-statistics\\2019-1961-crop-production-in-Poland-QueryResult.csv\")\n",
    "data_crops"
   ]
  },
  {
   "cell_type": "code",
   "execution_count": 60,
   "metadata": {},
   "outputs": [
    {
     "data": {
      "text/plain": [
       "Index(['area_code', 'area', 'item_code', 'item', 'element_code', 'element',\n",
       "       'unit', 'y1961', 'y1961f', 'y1962',\n",
       "       ...\n",
       "       'y2015', 'y2015f', 'y2016', 'y2016f', 'y2017', 'y2017f', 'y2018',\n",
       "       'y2018f', 'y2019', 'y2019f'],\n",
       "      dtype='object', length=125)"
      ]
     },
     "execution_count": 60,
     "metadata": {},
     "output_type": "execute_result"
    }
   ],
   "source": [
    "data_crops.columns"
   ]
  },
  {
   "cell_type": "code",
   "execution_count": 53,
   "metadata": {},
   "outputs": [],
   "source": [
    "data_characteristics = ([[\"Variable\", \"Description\"],\n",
    "                        ['area_code', \"173\"], \n",
    "                        ['area', \"Poland\"], \n",
    "                        ['item_code', \"Product code\"], \n",
    "                        ['item', \"Product name\"], \n",
    "                        ['element_code',\"Code of the element\"], \n",
    "                        ['element',\"Type of production: Production, area harvested, yield\"], \n",
    "                        ['unit',\"Unit of measurement: tonnes, Ha, Hg/Ha\"], \n",
    "                        ['year',\"Years (1961-2019)\"]])"
   ]
  },
  {
   "cell_type": "code",
   "execution_count": 54,
   "metadata": {},
   "outputs": [
    {
     "name": "stdout",
     "output_type": "stream",
     "text": [
      "╒══════════════╤═══════════════════════════════════════════════════════╕\n",
      "│ Variable     │ Description                                           │\n",
      "╞══════════════╪═══════════════════════════════════════════════════════╡\n",
      "│ area_code    │ 173                                                   │\n",
      "├──────────────┼───────────────────────────────────────────────────────┤\n",
      "│ area         │ Poland                                                │\n",
      "├──────────────┼───────────────────────────────────────────────────────┤\n",
      "│ item_code    │ Product code                                          │\n",
      "├──────────────┼───────────────────────────────────────────────────────┤\n",
      "│ item         │ Product name                                          │\n",
      "├──────────────┼───────────────────────────────────────────────────────┤\n",
      "│ element_code │ Code of the element                                   │\n",
      "├──────────────┼───────────────────────────────────────────────────────┤\n",
      "│ element      │ Type of production: Production, area harvested, yield │\n",
      "├──────────────┼───────────────────────────────────────────────────────┤\n",
      "│ unit         │ Unit of measurement: tonnes, Ha, Hg/Ha                │\n",
      "├──────────────┼───────────────────────────────────────────────────────┤\n",
      "│ year         │ Years (1961-2019)                                     │\n",
      "╘══════════════╧═══════════════════════════════════════════════════════╛\n"
     ]
    }
   ],
   "source": [
    "print(tabulate(data_characteristics, headers= \"firstrow\", tablefmt='fancy_grid'))"
   ]
  },
  {
   "cell_type": "markdown",
   "metadata": {},
   "source": [
    "Next, information about the type and level of each variable was provided:"
   ]
  },
  {
   "cell_type": "code",
   "execution_count": 55,
   "metadata": {},
   "outputs": [],
   "source": [
    "vars_characteristics = ([[\"Variable\", \"Type\", \"Level\"],\n",
    "                        ['area_code', \"Integer\", \"Nominal\"], \n",
    "                        ['area', \"String\", \"Nominal\"], \n",
    "                        ['item_code', \"Integer\", \"Nominal\"], \n",
    "                        ['item', \"String\", \"Nominal\"], \n",
    "                        ['element_code',\"Integer\", \"Nominal\"], \n",
    "                        ['element',\"String\", \"Nominal\"], \n",
    "                        ['unit',\"String\", \"Nominal\"], \n",
    "                        ['year',\"String/Float\", \"Ratio\"]])"
   ]
  },
  {
   "cell_type": "code",
   "execution_count": 56,
   "metadata": {},
   "outputs": [
    {
     "name": "stdout",
     "output_type": "stream",
     "text": [
      "╒══════════════╤══════════════╤═════════╕\n",
      "│ Variable     │ Type         │ Level   │\n",
      "╞══════════════╪══════════════╪═════════╡\n",
      "│ area_code    │ Integer      │ Nominal │\n",
      "├──────────────┼──────────────┼─────────┤\n",
      "│ area         │ String       │ Nominal │\n",
      "├──────────────┼──────────────┼─────────┤\n",
      "│ item_code    │ Integer      │ Nominal │\n",
      "├──────────────┼──────────────┼─────────┤\n",
      "│ item         │ String       │ Nominal │\n",
      "├──────────────┼──────────────┼─────────┤\n",
      "│ element_code │ Integer      │ Nominal │\n",
      "├──────────────┼──────────────┼─────────┤\n",
      "│ element      │ String       │ Nominal │\n",
      "├──────────────┼──────────────┼─────────┤\n",
      "│ unit         │ String       │ Nominal │\n",
      "├──────────────┼──────────────┼─────────┤\n",
      "│ year         │ String/Float │ Ratio   │\n",
      "╘══════════════╧══════════════╧═════════╛\n"
     ]
    }
   ],
   "source": [
    "print(tabulate(vars_characteristics, headers=\"firstrow\", tablefmt=\"fancy_grid\"))"
   ]
  },
  {
   "cell_type": "markdown",
   "metadata": {},
   "source": [
    "### 5.2 GHG emission data collection procedure"
   ]
  },
  {
   "cell_type": "markdown",
   "metadata": {},
   "source": [
    "The datasets of Nitrous Oxide (N2O), Methane (CH4) and Carbon dioxide (CO2), were gathered from the *databank.worldbank.org*. Those datasets were filtered using the the tools provided by the website itself to include only Poland from the period from 1971 to 2019."
   ]
  },
  {
   "cell_type": "code",
   "execution_count": 67,
   "metadata": {},
   "outputs": [],
   "source": [
    "data_nitrox = pd.read_csv(r\"C:\\Users\\USER\\Documents\\Desarrollador\\PYTHON\\2021-Python-exercises\\statistics-projects\\2022-02-18-tarea-phd-statistics\\2019-1971-nitrous-Poland.csv\")"
   ]
  },
  {
   "cell_type": "code",
   "execution_count": 66,
   "metadata": {},
   "outputs": [],
   "source": [
    "data_methane = pd.read_csv(r\"C:\\Users\\USER\\Documents\\Desarrollador\\PYTHON\\2021-Python-exercises\\statistics-projects\\2022-02-18-tarea-phd-statistics\\2019-1971-methane-Poland.csv\")"
   ]
  },
  {
   "cell_type": "code",
   "execution_count": 64,
   "metadata": {},
   "outputs": [],
   "source": [
    "data_carbondiox = pd.read_csv(r\"C:\\Users\\USER\\Documents\\Desarrollador\\PYTHON\\2021-Python-exercises\\statistics-projects\\2022-02-18-tarea-phd-statistics\\2019-1971-co2-Poland.csv\")"
   ]
  },
  {
   "cell_type": "markdown",
   "metadata": {},
   "source": [
    "*Importing libraries*"
   ]
  },
  {
   "cell_type": "code",
   "execution_count": 9,
   "metadata": {},
   "outputs": [],
   "source": [
    "from tabulate import tabulate\n",
    "\n",
    "import pandas as pd\n",
    "from matplotlib import pyplot as plt\n",
    "import numpy as np\n",
    "import seaborn as sns"
   ]
  },
  {
   "cell_type": "markdown",
   "metadata": {},
   "source": [
    "*Exploring the dataset*"
   ]
  },
  {
   "cell_type": "code",
   "execution_count": 59,
   "metadata": {},
   "outputs": [
    {
     "data": {
      "text/plain": [
       "Index(['area_code', 'area', 'item_code', 'item', 'element_code', 'element',\n",
       "       'unit', 'y1961', 'y1961f', 'y1962',\n",
       "       ...\n",
       "       'y2015', 'y2015f', 'y2016', 'y2016f', 'y2017', 'y2017f', 'y2018',\n",
       "       'y2018f', 'y2019', 'y2019f'],\n",
       "      dtype='object', length=125)"
      ]
     },
     "execution_count": 59,
     "metadata": {},
     "output_type": "execute_result"
    }
   ],
   "source": [
    "data_crops.columns"
   ]
  },
  {
   "cell_type": "code",
   "execution_count": null,
   "metadata": {},
   "outputs": [],
   "source": []
  },
  {
   "cell_type": "markdown",
   "metadata": {},
   "source": [
    "## Subseting Poland"
   ]
  },
  {
   "cell_type": "markdown",
   "metadata": {},
   "source": [
    "#### Subseting Poland from the global dataset and then transforming the \"dt\" column into a Python Date time object."
   ]
  },
  {
   "cell_type": "code",
   "execution_count": 3,
   "metadata": {},
   "outputs": [],
   "source": [
    "data_poland = global_data[global_data[\"Country\"]==\"Poland\"].copy()\n",
    "data_poland[\"dt\"] = pd.to_datetime(data_poland[\"dt\"])"
   ]
  },
  {
   "cell_type": "markdown",
   "metadata": {},
   "source": [
    "*Checking the amount of NAN in the data set*"
   ]
  },
  {
   "cell_type": "code",
   "execution_count": 4,
   "metadata": {},
   "outputs": [
    {
     "data": {
      "text/plain": [
       "dt                                0\n",
       "AverageTemperature               73\n",
       "AverageTemperatureUncertainty    73\n",
       "Country                           0\n",
       "dtype: int64"
      ]
     },
     "execution_count": 4,
     "metadata": {},
     "output_type": "execute_result"
    }
   ],
   "source": [
    "data_poland.isna().sum()"
   ]
  },
  {
   "cell_type": "markdown",
   "metadata": {},
   "source": [
    "*deleting the NAN in the dataset*"
   ]
  },
  {
   "cell_type": "code",
   "execution_count": 5,
   "metadata": {},
   "outputs": [],
   "source": [
    "data_poland = data_poland.dropna()"
   ]
  },
  {
   "cell_type": "code",
   "execution_count": 6,
   "metadata": {},
   "outputs": [
    {
     "data": {
      "text/plain": [
       "dt                               0\n",
       "AverageTemperature               0\n",
       "AverageTemperatureUncertainty    0\n",
       "Country                          0\n",
       "dtype: int64"
      ]
     },
     "execution_count": 6,
     "metadata": {},
     "output_type": "execute_result"
    }
   ],
   "source": [
    "data_poland.isna().sum()"
   ]
  },
  {
   "cell_type": "markdown",
   "metadata": {},
   "source": [
    "*Grouping data by year*"
   ]
  },
  {
   "cell_type": "code",
   "execution_count": 7,
   "metadata": {},
   "outputs": [
    {
     "data": {
      "text/html": [
       "<div>\n",
       "<style scoped>\n",
       "    .dataframe tbody tr th:only-of-type {\n",
       "        vertical-align: middle;\n",
       "    }\n",
       "\n",
       "    .dataframe tbody tr th {\n",
       "        vertical-align: top;\n",
       "    }\n",
       "\n",
       "    .dataframe thead th {\n",
       "        text-align: right;\n",
       "    }\n",
       "</style>\n",
       "<table border=\"1\" class=\"dataframe\">\n",
       "  <thead>\n",
       "    <tr style=\"text-align: right;\">\n",
       "      <th></th>\n",
       "      <th>AverageTemperature</th>\n",
       "      <th>AverageTemperatureUncertainty</th>\n",
       "    </tr>\n",
       "    <tr>\n",
       "      <th>dt</th>\n",
       "      <th></th>\n",
       "      <th></th>\n",
       "    </tr>\n",
       "  </thead>\n",
       "  <tbody>\n",
       "    <tr>\n",
       "      <th>1743</th>\n",
       "      <td>3.937000</td>\n",
       "      <td>2.057000</td>\n",
       "    </tr>\n",
       "    <tr>\n",
       "      <th>1744</th>\n",
       "      <td>9.321125</td>\n",
       "      <td>2.025375</td>\n",
       "    </tr>\n",
       "    <tr>\n",
       "      <th>1745</th>\n",
       "      <td>-0.971750</td>\n",
       "      <td>1.790500</td>\n",
       "    </tr>\n",
       "    <tr>\n",
       "      <th>1750</th>\n",
       "      <td>8.344818</td>\n",
       "      <td>2.028636</td>\n",
       "    </tr>\n",
       "    <tr>\n",
       "      <th>1751</th>\n",
       "      <td>8.283625</td>\n",
       "      <td>1.974625</td>\n",
       "    </tr>\n",
       "    <tr>\n",
       "      <th>...</th>\n",
       "      <td>...</td>\n",
       "      <td>...</td>\n",
       "    </tr>\n",
       "    <tr>\n",
       "      <th>2009</th>\n",
       "      <td>8.652917</td>\n",
       "      <td>0.232667</td>\n",
       "    </tr>\n",
       "    <tr>\n",
       "      <th>2010</th>\n",
       "      <td>7.621417</td>\n",
       "      <td>0.221750</td>\n",
       "    </tr>\n",
       "    <tr>\n",
       "      <th>2011</th>\n",
       "      <td>8.951667</td>\n",
       "      <td>0.269667</td>\n",
       "    </tr>\n",
       "    <tr>\n",
       "      <th>2012</th>\n",
       "      <td>8.537750</td>\n",
       "      <td>0.302917</td>\n",
       "    </tr>\n",
       "    <tr>\n",
       "      <th>2013</th>\n",
       "      <td>9.257875</td>\n",
       "      <td>0.323250</td>\n",
       "    </tr>\n",
       "  </tbody>\n",
       "</table>\n",
       "<p>267 rows × 2 columns</p>\n",
       "</div>"
      ],
      "text/plain": [
       "      AverageTemperature  AverageTemperatureUncertainty\n",
       "dt                                                     \n",
       "1743            3.937000                       2.057000\n",
       "1744            9.321125                       2.025375\n",
       "1745           -0.971750                       1.790500\n",
       "1750            8.344818                       2.028636\n",
       "1751            8.283625                       1.974625\n",
       "...                  ...                            ...\n",
       "2009            8.652917                       0.232667\n",
       "2010            7.621417                       0.221750\n",
       "2011            8.951667                       0.269667\n",
       "2012            8.537750                       0.302917\n",
       "2013            9.257875                       0.323250\n",
       "\n",
       "[267 rows x 2 columns]"
      ]
     },
     "execution_count": 7,
     "metadata": {},
     "output_type": "execute_result"
    }
   ],
   "source": [
    "annual_mean_Poland = data_poland.groupby(data_poland[\"dt\"].dt.year).mean()\n",
    "annual_mean_Poland"
   ]
  },
  {
   "cell_type": "markdown",
   "metadata": {},
   "source": [
    "*Reference mean temperature of the 1951-1980 period to establish the global base mean temperature. This is standard practice in climate science.*"
   ]
  },
  {
   "cell_type": "code",
   "execution_count": 8,
   "metadata": {},
   "outputs": [],
   "source": [
    "reference_temperature_poland = annual_mean_Poland.loc[1951:1980].mean()[\"AverageTemperature\"]\n",
    "annual_mean_Poland[\"Anomaly\"] = annual_mean_Poland[\"AverageTemperature\"] - reference_temperature_poland"
   ]
  },
  {
   "cell_type": "markdown",
   "metadata": {},
   "source": [
    "### Plotting"
   ]
  },
  {
   "cell_type": "code",
   "execution_count": 9,
   "metadata": {},
   "outputs": [
    {
     "data": {
      "text/html": [
       "<div>\n",
       "<style scoped>\n",
       "    .dataframe tbody tr th:only-of-type {\n",
       "        vertical-align: middle;\n",
       "    }\n",
       "\n",
       "    .dataframe tbody tr th {\n",
       "        vertical-align: top;\n",
       "    }\n",
       "\n",
       "    .dataframe thead th {\n",
       "        text-align: right;\n",
       "    }\n",
       "</style>\n",
       "<table border=\"1\" class=\"dataframe\">\n",
       "  <thead>\n",
       "    <tr style=\"text-align: right;\">\n",
       "      <th></th>\n",
       "      <th>AverageTemperature</th>\n",
       "      <th>AverageTemperatureUncertainty</th>\n",
       "      <th>Anomaly</th>\n",
       "    </tr>\n",
       "    <tr>\n",
       "      <th>dt</th>\n",
       "      <th></th>\n",
       "      <th></th>\n",
       "      <th></th>\n",
       "    </tr>\n",
       "  </thead>\n",
       "  <tbody>\n",
       "    <tr>\n",
       "      <th>1743</th>\n",
       "      <td>3.937000</td>\n",
       "      <td>2.057000</td>\n",
       "      <td>-3.637175</td>\n",
       "    </tr>\n",
       "    <tr>\n",
       "      <th>1744</th>\n",
       "      <td>9.321125</td>\n",
       "      <td>2.025375</td>\n",
       "      <td>1.746950</td>\n",
       "    </tr>\n",
       "    <tr>\n",
       "      <th>1745</th>\n",
       "      <td>-0.971750</td>\n",
       "      <td>1.790500</td>\n",
       "      <td>-8.545925</td>\n",
       "    </tr>\n",
       "    <tr>\n",
       "      <th>1750</th>\n",
       "      <td>8.344818</td>\n",
       "      <td>2.028636</td>\n",
       "      <td>0.770643</td>\n",
       "    </tr>\n",
       "    <tr>\n",
       "      <th>1751</th>\n",
       "      <td>8.283625</td>\n",
       "      <td>1.974625</td>\n",
       "      <td>0.709450</td>\n",
       "    </tr>\n",
       "    <tr>\n",
       "      <th>...</th>\n",
       "      <td>...</td>\n",
       "      <td>...</td>\n",
       "      <td>...</td>\n",
       "    </tr>\n",
       "    <tr>\n",
       "      <th>2009</th>\n",
       "      <td>8.652917</td>\n",
       "      <td>0.232667</td>\n",
       "      <td>1.078742</td>\n",
       "    </tr>\n",
       "    <tr>\n",
       "      <th>2010</th>\n",
       "      <td>7.621417</td>\n",
       "      <td>0.221750</td>\n",
       "      <td>0.047242</td>\n",
       "    </tr>\n",
       "    <tr>\n",
       "      <th>2011</th>\n",
       "      <td>8.951667</td>\n",
       "      <td>0.269667</td>\n",
       "      <td>1.377492</td>\n",
       "    </tr>\n",
       "    <tr>\n",
       "      <th>2012</th>\n",
       "      <td>8.537750</td>\n",
       "      <td>0.302917</td>\n",
       "      <td>0.963575</td>\n",
       "    </tr>\n",
       "    <tr>\n",
       "      <th>2013</th>\n",
       "      <td>9.257875</td>\n",
       "      <td>0.323250</td>\n",
       "      <td>1.683700</td>\n",
       "    </tr>\n",
       "  </tbody>\n",
       "</table>\n",
       "<p>267 rows × 3 columns</p>\n",
       "</div>"
      ],
      "text/plain": [
       "      AverageTemperature  AverageTemperatureUncertainty   Anomaly\n",
       "dt                                                               \n",
       "1743            3.937000                       2.057000 -3.637175\n",
       "1744            9.321125                       2.025375  1.746950\n",
       "1745           -0.971750                       1.790500 -8.545925\n",
       "1750            8.344818                       2.028636  0.770643\n",
       "1751            8.283625                       1.974625  0.709450\n",
       "...                  ...                            ...       ...\n",
       "2009            8.652917                       0.232667  1.078742\n",
       "2010            7.621417                       0.221750  0.047242\n",
       "2011            8.951667                       0.269667  1.377492\n",
       "2012            8.537750                       0.302917  0.963575\n",
       "2013            9.257875                       0.323250  1.683700\n",
       "\n",
       "[267 rows x 3 columns]"
      ]
     },
     "execution_count": 9,
     "metadata": {},
     "output_type": "execute_result"
    }
   ],
   "source": [
    "annual_mean_Poland"
   ]
  },
  {
   "cell_type": "code",
   "execution_count": 10,
   "metadata": {},
   "outputs": [],
   "source": [
    "y = annual_mean_Poland[\"AverageTemperature\"]\n",
    "y_mean = [np.mean]"
   ]
  },
  {
   "cell_type": "code",
   "execution_count": 11,
   "metadata": {},
   "outputs": [
    {
     "data": {
      "text/plain": [
       "[<matplotlib.lines.Line2D at 0x15d5be1f820>]"
      ]
     },
     "execution_count": 11,
     "metadata": {},
     "output_type": "execute_result"
    },
    {
     "data": {
      "image/png": "[encoded data removed]",
      "text/plain": [
       "<Figure size 432x288 with 1 Axes>"
      ]
     },
     "metadata": {
      "needs_background": "light"
     },
     "output_type": "display_data"
    }
   ],
   "source": [
    "plt.plot(annual_mean_Poland[\"AverageTemperature\"],\n",
    "         color = \"green\",\n",
    "         linewidth = 2,\n",
    "         markersize = 12)"
   ]
  },
  {
   "cell_type": "code",
   "execution_count": 14,
   "metadata": {},
   "outputs": [
    {
     "data": {
      "text/plain": [
       "{'whiskers': [<matplotlib.lines.Line2D at 0x15d5c3020a0>,\n",
       "  <matplotlib.lines.Line2D at 0x15d5c302400>,\n",
       "  <matplotlib.lines.Line2D at 0x15d5c30e8b0>,\n",
       "  <matplotlib.lines.Line2D at 0x15d5c30ec10>,\n",
       "  <matplotlib.lines.Line2D at 0x15d5c3250d0>,\n",
       "  <matplotlib.lines.Line2D at 0x15d5c325430>],\n",
       " 'caps': [<matplotlib.lines.Line2D at 0x15d5c302760>,\n",
       "  <matplotlib.lines.Line2D at 0x15d5c302ac0>,\n",
       "  <matplotlib.lines.Line2D at 0x15d5c30ef70>,\n",
       "  <matplotlib.lines.Line2D at 0x15d5c319310>,\n",
       "  <matplotlib.lines.Line2D at 0x15d5c325790>,\n",
       "  <matplotlib.lines.Line2D at 0x15d5c325af0>],\n",
       " 'boxes': [<matplotlib.lines.Line2D at 0x15d5c2b3d00>,\n",
       "  <matplotlib.lines.Line2D at 0x15d5c30e550>,\n",
       "  <matplotlib.lines.Line2D at 0x15d5c319d30>],\n",
       " 'medians': [<matplotlib.lines.Line2D at 0x15d5c302e20>,\n",
       "  <matplotlib.lines.Line2D at 0x15d5c319670>,\n",
       "  <matplotlib.lines.Line2D at 0x15d5c325e50>],\n",
       " 'fliers': [<matplotlib.lines.Line2D at 0x15d5c30e1c0>,\n",
       "  <matplotlib.lines.Line2D at 0x15d5c3199d0>,\n",
       "  <matplotlib.lines.Line2D at 0x15d5c3301f0>],\n",
       " 'means': []}"
      ]
     },
     "execution_count": 14,
     "metadata": {},
     "output_type": "execute_result"
    },
    {
     "data": {
      "image/png": "[encoded data removed]",
      "text/plain": [
       "<Figure size 432x288 with 1 Axes>"
      ]
     },
     "metadata": {
      "needs_background": "light"
     },
     "output_type": "display_data"
    }
   ],
   "source": [
    "plt.boxplot(annual_mean_Poland)"
   ]
  },
  {
   "cell_type": "code",
   "execution_count": null,
   "metadata": {},
   "outputs": [
    {
     "data": {
      "text/plain": [
       "(array([  1.,   0.,   0.,   1.,   1.,   2.,  29., 105., 103.,  25.]),\n",
       " array([-0.97175   ,  0.08764167,  1.14703333,  2.206425  ,  3.26581667,\n",
       "         4.32520833,  5.3846    ,  6.44399167,  7.50338333,  8.562775  ,\n",
       "         9.62216667]),\n",
       " <BarContainer object of 10 artists>)"
      ]
     },
     "execution_count": 20,
     "metadata": {},
     "output_type": "execute_result"
    },
    {
     "data": {
      "image/png": "[encoded data removed]",
      "text/plain": [
       "<Figure size 432x288 with 1 Axes>"
      ]
     },
     "metadata": {
      "needs_background": "light"
     },
     "output_type": "display_data"
    }
   ],
   "source": [
    "plt.hist(annual_mean_Poland[\"AverageTemperature\"])"
   ]
  },
  {
   "cell_type": "code",
   "execution_count": null,
   "metadata": {},
   "outputs": [
    {
     "data": {
      "text/plain": [
       "<AxesSubplot:xlabel='Anomaly', ylabel='AverageTemperature'>"
      ]
     },
     "execution_count": 21,
     "metadata": {},
     "output_type": "execute_result"
    },
    {
     "data": {
      "image/png": "[encoded data removed]",
      "text/plain": [
       "<Figure size 432x288 with 1 Axes>"
      ]
     },
     "metadata": {
      "needs_background": "light"
     },
     "output_type": "display_data"
    }
   ],
   "source": [
    "sns.scatterplot(x=\"Anomaly\", y= \"AverageTemperature\", data = annual_mean_Poland)"
   ]
  }
 ],
 "metadata": {
  "interpreter": {
   "hash": "a41f48461941a5aefc82610e94371dafd9500cffa630c3ca9566e477af78c3ed"
  },
  "kernelspec": {
   "display_name": "Python 3.8.5 ('base')",
   "language": "python",
   "name": "python3"
  },
  "language_info": {
   "codemirror_mode": {
    "name": "ipython",
    "version": 3
   },
   "file_extension": ".py",
   "mimetype": "text/x-python",
   "name": "python",
   "nbconvert_exporter": "python",
   "pygments_lexer": "ipython3",
   "version": "3.8.5"
  },
  "orig_nbformat": 4
 },
 "nbformat": 4,
 "nbformat_minor": 2
}
