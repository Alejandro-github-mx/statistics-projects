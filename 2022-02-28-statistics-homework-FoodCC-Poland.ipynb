{
 "cells": [
  {
   "cell_type": "markdown",
   "metadata": {},
   "source": [
    "# Final homework"
   ]
  },
  {
   "cell_type": "markdown",
   "metadata": {},
   "source": [
    "*Akademia Leona Kozminskiego*\n",
    "#### Descriptive Statistics\n"
   ]
  },
  {
   "cell_type": "markdown",
   "metadata": {},
   "source": [
    "*Prof.* Katarzyna Piotrowska <br>\n",
    "*Student* Alejandro Guzmán Rivera (*23-DS*)"
   ]
  },
  {
   "cell_type": "markdown",
   "metadata": {},
   "source": [
    "**Instructions** <br>\n",
    "\n",
    "A simple quantitative, explanatory research (for 5: with the theory-based justification of the hypothesis i.e. literature review with references etc.). At least one variable on the qualitative level of measurement (categorical or ordinal) and one on the quantitative (interval or ratio) level of measurement.<br>\n",
    "\n",
    "1. Research question and hypothesis (if applicable) – is the research descriptive or explanatory?\n",
    "2. Variables’ definitions (conceptualisation)\n",
    "3. Operationalisation (variables’ indicators, their levels and levels of measurement)\n",
    "4. Subject of the study: observation unit\n",
    "5. Data collection procedure\n",
    "6. Data analysis\n",
    "7. Sample description\n",
    "8. Bivariate and/or multivariate analyses (at least two different) with the justification of the choice of\n",
    "the method and interpretation of the results\n",
    "9. The purpose of use descriptive statistics (sample description, the answer to research question, other)\n",
    "10. Conclusions/discussion"
   ]
  },
  {
   "cell_type": "markdown",
   "metadata": {},
   "source": [
    "## 1. Research question"
   ]
  },
  {
   "cell_type": "markdown",
   "metadata": {},
   "source": [
    "* What is the impact of crops production in Poland in Greenhouse Gasses (GHG), specifically Nitrous Oxide through the period 1961-2019? "
   ]
  },
  {
   "cell_type": "markdown",
   "metadata": {},
   "source": [
    "## 2. Hypothesis"
   ]
  },
  {
   "cell_type": "markdown",
   "metadata": {},
   "source": [
    "* There is a positive correlation between Cereals, Roots and Tubers and Potatoes production and Nitrous Oxide (N2O) emissions in Poland during the period 1971 to 2018."
   ]
  },
  {
   "cell_type": "markdown",
   "metadata": {},
   "source": [
    "## 3. Variables definition"
   ]
  },
  {
   "cell_type": "code",
   "execution_count": 117,
   "metadata": {},
   "outputs": [
    {
     "name": "stdout",
     "output_type": "stream",
     "text": [
      "╒═════════════════════════╤════════════════════╤═════════════════════════════╤═════════════════════╕\n",
      "│ y                       │ x1                 │ x2                          │ x3                  │\n",
      "╞═════════════════════════╪════════════════════╪═════════════════════════════╪═════════════════════╡\n",
      "│ Nitrous Oxide emissions │ Cereals production │ Roots and Tubers production │ Potatoes production │\n",
      "╘═════════════════════════╧════════════════════╧═════════════════════════════╧═════════════════════╛\n"
     ]
    }
   ],
   "source": [
    "variables_defi = {\"y\": [\"Nitrous Oxide emissions\"], \n",
    "                  \"x1\": [\"Cereals production\"] ,\n",
    "                  \"x2\": [\"Roots and Tubers production\"],\n",
    "                  \"x3\": [\"Potatoes production\"]}\n",
    "print(tabulate(variables_defi, headers=\"keys\", tablefmt=\"fancy_grid\"))"
   ]
  },
  {
   "cell_type": "markdown",
   "metadata": {},
   "source": [
    "## 4. Subject of study"
   ]
  },
  {
   "cell_type": "markdown",
   "metadata": {},
   "source": [
    "Nitrous Oxide (N2O) emissions according to crops production."
   ]
  },
  {
   "cell_type": "markdown",
   "metadata": {},
   "source": [
    "## 5. Data collection procedure"
   ]
  },
  {
   "cell_type": "markdown",
   "metadata": {},
   "source": [
    "### 5.1 Crop production data collection procedure"
   ]
  },
  {
   "cell_type": "markdown",
   "metadata": {},
   "source": [
    "#### 5.1.1 Importing libraries"
   ]
  },
  {
   "cell_type": "code",
   "execution_count": 156,
   "metadata": {},
   "outputs": [],
   "source": [
    "from tabulate import tabulate\n",
    "\n",
    "import pandas as pd\n",
    "pd.options.display.float_format = '{:,.2f}'.format\n",
    "\n",
    "from matplotlib import pyplot as plt\n",
    "import numpy as np\n",
    "import statsmodels.api as sm \n",
    "\n",
    "import seaborn as sns\n",
    "sns.set()\n"
   ]
  },
  {
   "cell_type": "markdown",
   "metadata": {},
   "source": [
    "#### 5.1.2 Importing the crops dataset"
   ]
  },
  {
   "cell_type": "markdown",
   "metadata": {},
   "source": [
    "The dataset was obtained from *data.world* which in turn, was taken from the Food and Agriculture Organization of the United Nations (FAO). Specifically, the crop production dataset was taken, which contains statistics of 173 farm products around the world. The original dataset was filtered using SQL by area code, in this case \"173\" that corresponds to Poland. <br>"
   ]
  },
  {
   "cell_type": "code",
   "execution_count": 119,
   "metadata": {},
   "outputs": [],
   "source": [
    "data_crops = pd.read_csv(r\"C:\\Users\\USER\\Documents\\Desarrollador\\PYTHON\\2021-Python-exercises\\statistics-projects\\2022-02-18-tarea-phd-statistics\\2019-1961-crop-production-in-Poland-QueryResult.csv\")"
   ]
  },
  {
   "cell_type": "markdown",
   "metadata": {},
   "source": [
    "#### 5.1.3 Revealing the characteristics of the variables in the dataset."
   ]
  },
  {
   "cell_type": "code",
   "execution_count": 120,
   "metadata": {},
   "outputs": [
    {
     "data": {
      "text/plain": [
       "Index(['area_code', 'area', 'item_code', 'item', 'element_code', 'element',\n",
       "       'unit', 'y1971', 'y1972', 'y1973', 'y1974', 'y1975', 'y1976', 'y1977',\n",
       "       'y1978', 'y1979', 'y1980', 'y1981', 'y1982', 'y1983', 'y1984', 'y1985',\n",
       "       'y1986', 'y1987', 'y1988', 'y1989', 'y1990', 'y1991', 'y1992', 'y1993',\n",
       "       'y1994', 'y1995', 'y1996', 'y1997', 'y1998', 'y1999', 'y2000', 'y2001',\n",
       "       'y2002', 'y2003', 'y2004', 'y2005', 'y2006', 'y2007', 'y2008', 'y2009',\n",
       "       'y2010', 'y2011', 'y2012', 'y2013', 'y2014', 'y2015', 'y2016', 'y2017',\n",
       "       'y2018'],\n",
       "      dtype='object')"
      ]
     },
     "execution_count": 120,
     "metadata": {},
     "output_type": "execute_result"
    }
   ],
   "source": [
    "data_crops.columns"
   ]
  },
  {
   "cell_type": "code",
   "execution_count": 121,
   "metadata": {},
   "outputs": [],
   "source": [
    "data_crops_charact = ([[\"Variable\", \"Description\"],\n",
    "                        ['area_code', \"173\"], \n",
    "                        ['area', \"Poland\"], \n",
    "                        ['item_code', \"Product code\"], \n",
    "                        ['item', \"Product name\"], \n",
    "                        ['element_code',\"Code of the element\"], \n",
    "                        ['element',\"Type of production: Production, area harvested, yield\"], \n",
    "                        ['unit',\"Unit of measurement: tonnes, Ha, Hg/Ha\"], \n",
    "                        ['year',\"Years (1961-2019)\"]])"
   ]
  },
  {
   "cell_type": "code",
   "execution_count": 122,
   "metadata": {},
   "outputs": [
    {
     "name": "stdout",
     "output_type": "stream",
     "text": [
      "╒══════════════╤═══════════════════════════════════════════════════════╕\n",
      "│ Variable     │ Description                                           │\n",
      "╞══════════════╪═══════════════════════════════════════════════════════╡\n",
      "│ area_code    │ 173                                                   │\n",
      "├──────────────┼───────────────────────────────────────────────────────┤\n",
      "│ area         │ Poland                                                │\n",
      "├──────────────┼───────────────────────────────────────────────────────┤\n",
      "│ item_code    │ Product code                                          │\n",
      "├──────────────┼───────────────────────────────────────────────────────┤\n",
      "│ item         │ Product name                                          │\n",
      "├──────────────┼───────────────────────────────────────────────────────┤\n",
      "│ element_code │ Code of the element                                   │\n",
      "├──────────────┼───────────────────────────────────────────────────────┤\n",
      "│ element      │ Type of production: Production, area harvested, yield │\n",
      "├──────────────┼───────────────────────────────────────────────────────┤\n",
      "│ unit         │ Unit of measurement: tonnes, Ha, Hg/Ha                │\n",
      "├──────────────┼───────────────────────────────────────────────────────┤\n",
      "│ year         │ Years (1961-2019)                                     │\n",
      "╘══════════════╧═══════════════════════════════════════════════════════╛\n"
     ]
    }
   ],
   "source": [
    "print(tabulate(data_crops_charact, headers= \"firstrow\", tablefmt='fancy_grid'))"
   ]
  },
  {
   "cell_type": "code",
   "execution_count": 123,
   "metadata": {},
   "outputs": [],
   "source": [
    "vars_crops_charact =    ([[\"Variable\", \"Type\", \"Level\"],\n",
    "                        ['area_code', \"Integer\", \"Nominal\"], \n",
    "                        ['area', \"String\", \"Nominal\"], \n",
    "                        ['item_code', \"Integer\", \"Nominal\"], \n",
    "                        ['item', \"String\", \"Nominal\"], \n",
    "                        ['element_code',\"Integer\", \"Nominal\"], \n",
    "                        ['element',\"String\", \"Nominal\"], \n",
    "                        ['unit',\"String\", \"Nominal\"], \n",
    "                        ['year',\"String/Float\", \"Ratio\"]])"
   ]
  },
  {
   "cell_type": "code",
   "execution_count": 124,
   "metadata": {},
   "outputs": [
    {
     "name": "stdout",
     "output_type": "stream",
     "text": [
      "╒══════════════╤══════════════╤═════════╕\n",
      "│ Variable     │ Type         │ Level   │\n",
      "╞══════════════╪══════════════╪═════════╡\n",
      "│ area_code    │ Integer      │ Nominal │\n",
      "├──────────────┼──────────────┼─────────┤\n",
      "│ area         │ String       │ Nominal │\n",
      "├──────────────┼──────────────┼─────────┤\n",
      "│ item_code    │ Integer      │ Nominal │\n",
      "├──────────────┼──────────────┼─────────┤\n",
      "│ item         │ String       │ Nominal │\n",
      "├──────────────┼──────────────┼─────────┤\n",
      "│ element_code │ Integer      │ Nominal │\n",
      "├──────────────┼──────────────┼─────────┤\n",
      "│ element      │ String       │ Nominal │\n",
      "├──────────────┼──────────────┼─────────┤\n",
      "│ unit         │ String       │ Nominal │\n",
      "├──────────────┼──────────────┼─────────┤\n",
      "│ year         │ String/Float │ Ratio   │\n",
      "╘══════════════╧══════════════╧═════════╛\n"
     ]
    }
   ],
   "source": [
    "print(tabulate(vars_crops_charact, headers=\"firstrow\", tablefmt=\"fancy_grid\"))"
   ]
  },
  {
   "cell_type": "markdown",
   "metadata": {},
   "source": [
    "#### 5.1.4 Cleaning process of the \"data_crops\" dataset"
   ]
  },
  {
   "cell_type": "markdown",
   "metadata": {},
   "source": [
    "##### 5.1.4.1 Checking for NAN values"
   ]
  },
  {
   "cell_type": "code",
   "execution_count": 125,
   "metadata": {},
   "outputs": [
    {
     "data": {
      "text/html": [
       "<div>\n",
       "<style scoped>\n",
       "    .dataframe tbody tr th:only-of-type {\n",
       "        vertical-align: middle;\n",
       "    }\n",
       "\n",
       "    .dataframe tbody tr th {\n",
       "        vertical-align: top;\n",
       "    }\n",
       "\n",
       "    .dataframe thead th {\n",
       "        text-align: right;\n",
       "    }\n",
       "</style>\n",
       "<table border=\"1\" class=\"dataframe\">\n",
       "  <thead>\n",
       "    <tr style=\"text-align: right;\">\n",
       "      <th></th>\n",
       "      <th>area_code</th>\n",
       "      <th>area</th>\n",
       "      <th>item_code</th>\n",
       "      <th>item</th>\n",
       "      <th>element_code</th>\n",
       "      <th>element</th>\n",
       "      <th>unit</th>\n",
       "      <th>y1971</th>\n",
       "      <th>y1972</th>\n",
       "      <th>y1973</th>\n",
       "      <th>...</th>\n",
       "      <th>y2009</th>\n",
       "      <th>y2010</th>\n",
       "      <th>y2011</th>\n",
       "      <th>y2012</th>\n",
       "      <th>y2013</th>\n",
       "      <th>y2014</th>\n",
       "      <th>y2015</th>\n",
       "      <th>y2016</th>\n",
       "      <th>y2017</th>\n",
       "      <th>y2018</th>\n",
       "    </tr>\n",
       "  </thead>\n",
       "  <tbody>\n",
       "    <tr>\n",
       "      <th>0</th>\n",
       "      <td>False</td>\n",
       "      <td>False</td>\n",
       "      <td>False</td>\n",
       "      <td>False</td>\n",
       "      <td>False</td>\n",
       "      <td>False</td>\n",
       "      <td>False</td>\n",
       "      <td>True</td>\n",
       "      <td>True</td>\n",
       "      <td>True</td>\n",
       "      <td>...</td>\n",
       "      <td>True</td>\n",
       "      <td>True</td>\n",
       "      <td>True</td>\n",
       "      <td>True</td>\n",
       "      <td>True</td>\n",
       "      <td>True</td>\n",
       "      <td>True</td>\n",
       "      <td>True</td>\n",
       "      <td>True</td>\n",
       "      <td>False</td>\n",
       "    </tr>\n",
       "    <tr>\n",
       "      <th>1</th>\n",
       "      <td>False</td>\n",
       "      <td>False</td>\n",
       "      <td>False</td>\n",
       "      <td>False</td>\n",
       "      <td>False</td>\n",
       "      <td>False</td>\n",
       "      <td>False</td>\n",
       "      <td>True</td>\n",
       "      <td>True</td>\n",
       "      <td>True</td>\n",
       "      <td>...</td>\n",
       "      <td>True</td>\n",
       "      <td>True</td>\n",
       "      <td>True</td>\n",
       "      <td>True</td>\n",
       "      <td>True</td>\n",
       "      <td>True</td>\n",
       "      <td>True</td>\n",
       "      <td>True</td>\n",
       "      <td>True</td>\n",
       "      <td>False</td>\n",
       "    </tr>\n",
       "    <tr>\n",
       "      <th>2</th>\n",
       "      <td>False</td>\n",
       "      <td>False</td>\n",
       "      <td>False</td>\n",
       "      <td>False</td>\n",
       "      <td>False</td>\n",
       "      <td>False</td>\n",
       "      <td>False</td>\n",
       "      <td>True</td>\n",
       "      <td>True</td>\n",
       "      <td>True</td>\n",
       "      <td>...</td>\n",
       "      <td>True</td>\n",
       "      <td>True</td>\n",
       "      <td>True</td>\n",
       "      <td>True</td>\n",
       "      <td>True</td>\n",
       "      <td>True</td>\n",
       "      <td>True</td>\n",
       "      <td>True</td>\n",
       "      <td>True</td>\n",
       "      <td>True</td>\n",
       "    </tr>\n",
       "    <tr>\n",
       "      <th>3</th>\n",
       "      <td>False</td>\n",
       "      <td>False</td>\n",
       "      <td>False</td>\n",
       "      <td>False</td>\n",
       "      <td>False</td>\n",
       "      <td>False</td>\n",
       "      <td>False</td>\n",
       "      <td>False</td>\n",
       "      <td>True</td>\n",
       "      <td>True</td>\n",
       "      <td>...</td>\n",
       "      <td>True</td>\n",
       "      <td>True</td>\n",
       "      <td>True</td>\n",
       "      <td>True</td>\n",
       "      <td>True</td>\n",
       "      <td>True</td>\n",
       "      <td>True</td>\n",
       "      <td>True</td>\n",
       "      <td>True</td>\n",
       "      <td>True</td>\n",
       "    </tr>\n",
       "    <tr>\n",
       "      <th>4</th>\n",
       "      <td>False</td>\n",
       "      <td>False</td>\n",
       "      <td>False</td>\n",
       "      <td>False</td>\n",
       "      <td>False</td>\n",
       "      <td>False</td>\n",
       "      <td>False</td>\n",
       "      <td>True</td>\n",
       "      <td>True</td>\n",
       "      <td>True</td>\n",
       "      <td>...</td>\n",
       "      <td>False</td>\n",
       "      <td>False</td>\n",
       "      <td>False</td>\n",
       "      <td>False</td>\n",
       "      <td>False</td>\n",
       "      <td>False</td>\n",
       "      <td>False</td>\n",
       "      <td>False</td>\n",
       "      <td>False</td>\n",
       "      <td>False</td>\n",
       "    </tr>\n",
       "    <tr>\n",
       "      <th>...</th>\n",
       "      <td>...</td>\n",
       "      <td>...</td>\n",
       "      <td>...</td>\n",
       "      <td>...</td>\n",
       "      <td>...</td>\n",
       "      <td>...</td>\n",
       "      <td>...</td>\n",
       "      <td>...</td>\n",
       "      <td>...</td>\n",
       "      <td>...</td>\n",
       "      <td>...</td>\n",
       "      <td>...</td>\n",
       "      <td>...</td>\n",
       "      <td>...</td>\n",
       "      <td>...</td>\n",
       "      <td>...</td>\n",
       "      <td>...</td>\n",
       "      <td>...</td>\n",
       "      <td>...</td>\n",
       "      <td>...</td>\n",
       "      <td>...</td>\n",
       "    </tr>\n",
       "    <tr>\n",
       "      <th>276</th>\n",
       "      <td>False</td>\n",
       "      <td>False</td>\n",
       "      <td>False</td>\n",
       "      <td>False</td>\n",
       "      <td>False</td>\n",
       "      <td>False</td>\n",
       "      <td>False</td>\n",
       "      <td>True</td>\n",
       "      <td>True</td>\n",
       "      <td>True</td>\n",
       "      <td>...</td>\n",
       "      <td>False</td>\n",
       "      <td>False</td>\n",
       "      <td>False</td>\n",
       "      <td>False</td>\n",
       "      <td>False</td>\n",
       "      <td>False</td>\n",
       "      <td>False</td>\n",
       "      <td>False</td>\n",
       "      <td>False</td>\n",
       "      <td>False</td>\n",
       "    </tr>\n",
       "    <tr>\n",
       "      <th>277</th>\n",
       "      <td>False</td>\n",
       "      <td>False</td>\n",
       "      <td>False</td>\n",
       "      <td>False</td>\n",
       "      <td>False</td>\n",
       "      <td>False</td>\n",
       "      <td>False</td>\n",
       "      <td>True</td>\n",
       "      <td>True</td>\n",
       "      <td>True</td>\n",
       "      <td>...</td>\n",
       "      <td>False</td>\n",
       "      <td>False</td>\n",
       "      <td>False</td>\n",
       "      <td>False</td>\n",
       "      <td>False</td>\n",
       "      <td>False</td>\n",
       "      <td>False</td>\n",
       "      <td>False</td>\n",
       "      <td>False</td>\n",
       "      <td>False</td>\n",
       "    </tr>\n",
       "    <tr>\n",
       "      <th>278</th>\n",
       "      <td>False</td>\n",
       "      <td>False</td>\n",
       "      <td>False</td>\n",
       "      <td>False</td>\n",
       "      <td>False</td>\n",
       "      <td>False</td>\n",
       "      <td>False</td>\n",
       "      <td>False</td>\n",
       "      <td>False</td>\n",
       "      <td>False</td>\n",
       "      <td>...</td>\n",
       "      <td>False</td>\n",
       "      <td>False</td>\n",
       "      <td>False</td>\n",
       "      <td>False</td>\n",
       "      <td>False</td>\n",
       "      <td>False</td>\n",
       "      <td>False</td>\n",
       "      <td>False</td>\n",
       "      <td>False</td>\n",
       "      <td>False</td>\n",
       "    </tr>\n",
       "    <tr>\n",
       "      <th>279</th>\n",
       "      <td>False</td>\n",
       "      <td>False</td>\n",
       "      <td>False</td>\n",
       "      <td>False</td>\n",
       "      <td>False</td>\n",
       "      <td>False</td>\n",
       "      <td>False</td>\n",
       "      <td>False</td>\n",
       "      <td>False</td>\n",
       "      <td>False</td>\n",
       "      <td>...</td>\n",
       "      <td>False</td>\n",
       "      <td>False</td>\n",
       "      <td>False</td>\n",
       "      <td>False</td>\n",
       "      <td>False</td>\n",
       "      <td>False</td>\n",
       "      <td>False</td>\n",
       "      <td>False</td>\n",
       "      <td>False</td>\n",
       "      <td>False</td>\n",
       "    </tr>\n",
       "    <tr>\n",
       "      <th>280</th>\n",
       "      <td>False</td>\n",
       "      <td>False</td>\n",
       "      <td>False</td>\n",
       "      <td>False</td>\n",
       "      <td>False</td>\n",
       "      <td>False</td>\n",
       "      <td>False</td>\n",
       "      <td>False</td>\n",
       "      <td>False</td>\n",
       "      <td>False</td>\n",
       "      <td>...</td>\n",
       "      <td>False</td>\n",
       "      <td>False</td>\n",
       "      <td>False</td>\n",
       "      <td>False</td>\n",
       "      <td>False</td>\n",
       "      <td>False</td>\n",
       "      <td>False</td>\n",
       "      <td>False</td>\n",
       "      <td>False</td>\n",
       "      <td>False</td>\n",
       "    </tr>\n",
       "  </tbody>\n",
       "</table>\n",
       "<p>281 rows × 55 columns</p>\n",
       "</div>"
      ],
      "text/plain": [
       "     area_code   area  item_code   item  element_code  element   unit  y1971  \\\n",
       "0        False  False      False  False         False    False  False   True   \n",
       "1        False  False      False  False         False    False  False   True   \n",
       "2        False  False      False  False         False    False  False   True   \n",
       "3        False  False      False  False         False    False  False  False   \n",
       "4        False  False      False  False         False    False  False   True   \n",
       "..         ...    ...        ...    ...           ...      ...    ...    ...   \n",
       "276      False  False      False  False         False    False  False   True   \n",
       "277      False  False      False  False         False    False  False   True   \n",
       "278      False  False      False  False         False    False  False  False   \n",
       "279      False  False      False  False         False    False  False  False   \n",
       "280      False  False      False  False         False    False  False  False   \n",
       "\n",
       "     y1972  y1973  ...  y2009  y2010  y2011  y2012  y2013  y2014  y2015  \\\n",
       "0     True   True  ...   True   True   True   True   True   True   True   \n",
       "1     True   True  ...   True   True   True   True   True   True   True   \n",
       "2     True   True  ...   True   True   True   True   True   True   True   \n",
       "3     True   True  ...   True   True   True   True   True   True   True   \n",
       "4     True   True  ...  False  False  False  False  False  False  False   \n",
       "..     ...    ...  ...    ...    ...    ...    ...    ...    ...    ...   \n",
       "276   True   True  ...  False  False  False  False  False  False  False   \n",
       "277   True   True  ...  False  False  False  False  False  False  False   \n",
       "278  False  False  ...  False  False  False  False  False  False  False   \n",
       "279  False  False  ...  False  False  False  False  False  False  False   \n",
       "280  False  False  ...  False  False  False  False  False  False  False   \n",
       "\n",
       "     y2016  y2017  y2018  \n",
       "0     True   True  False  \n",
       "1     True   True  False  \n",
       "2     True   True   True  \n",
       "3     True   True   True  \n",
       "4    False  False  False  \n",
       "..     ...    ...    ...  \n",
       "276  False  False  False  \n",
       "277  False  False  False  \n",
       "278  False  False  False  \n",
       "279  False  False  False  \n",
       "280  False  False  False  \n",
       "\n",
       "[281 rows x 55 columns]"
      ]
     },
     "execution_count": 125,
     "metadata": {},
     "output_type": "execute_result"
    }
   ],
   "source": [
    "data_crops.isna()"
   ]
  },
  {
   "cell_type": "markdown",
   "metadata": {},
   "source": [
    "##### 5.1.4.2 Replacing NAN with 0"
   ]
  },
  {
   "cell_type": "code",
   "execution_count": 126,
   "metadata": {},
   "outputs": [
    {
     "data": {
      "text/html": [
       "<div>\n",
       "<style scoped>\n",
       "    .dataframe tbody tr th:only-of-type {\n",
       "        vertical-align: middle;\n",
       "    }\n",
       "\n",
       "    .dataframe tbody tr th {\n",
       "        vertical-align: top;\n",
       "    }\n",
       "\n",
       "    .dataframe thead th {\n",
       "        text-align: right;\n",
       "    }\n",
       "</style>\n",
       "<table border=\"1\" class=\"dataframe\">\n",
       "  <thead>\n",
       "    <tr style=\"text-align: right;\">\n",
       "      <th></th>\n",
       "      <th>area_code</th>\n",
       "      <th>area</th>\n",
       "      <th>item_code</th>\n",
       "      <th>item</th>\n",
       "      <th>element_code</th>\n",
       "      <th>element</th>\n",
       "      <th>unit</th>\n",
       "      <th>y1971</th>\n",
       "      <th>y1972</th>\n",
       "      <th>y1973</th>\n",
       "      <th>...</th>\n",
       "      <th>y2009</th>\n",
       "      <th>y2010</th>\n",
       "      <th>y2011</th>\n",
       "      <th>y2012</th>\n",
       "      <th>y2013</th>\n",
       "      <th>y2014</th>\n",
       "      <th>y2015</th>\n",
       "      <th>y2016</th>\n",
       "      <th>y2017</th>\n",
       "      <th>y2018</th>\n",
       "    </tr>\n",
       "  </thead>\n",
       "  <tbody>\n",
       "    <tr>\n",
       "      <th>0</th>\n",
       "      <td>173</td>\n",
       "      <td>Poland</td>\n",
       "      <td>221</td>\n",
       "      <td>Almonds, with shell</td>\n",
       "      <td>5312</td>\n",
       "      <td>Area harvested</td>\n",
       "      <td>ha</td>\n",
       "      <td>0.00</td>\n",
       "      <td>0.00</td>\n",
       "      <td>0.00</td>\n",
       "      <td>...</td>\n",
       "      <td>0.00</td>\n",
       "      <td>0.00</td>\n",
       "      <td>0.00</td>\n",
       "      <td>0.00</td>\n",
       "      <td>0.00</td>\n",
       "      <td>0.00</td>\n",
       "      <td>0.00</td>\n",
       "      <td>0.00</td>\n",
       "      <td>0.00</td>\n",
       "      <td>0.00</td>\n",
       "    </tr>\n",
       "    <tr>\n",
       "      <th>1</th>\n",
       "      <td>173</td>\n",
       "      <td>Poland</td>\n",
       "      <td>221</td>\n",
       "      <td>Almonds, with shell</td>\n",
       "      <td>5510</td>\n",
       "      <td>Production</td>\n",
       "      <td>tonnes</td>\n",
       "      <td>0.00</td>\n",
       "      <td>0.00</td>\n",
       "      <td>0.00</td>\n",
       "      <td>...</td>\n",
       "      <td>0.00</td>\n",
       "      <td>0.00</td>\n",
       "      <td>0.00</td>\n",
       "      <td>0.00</td>\n",
       "      <td>0.00</td>\n",
       "      <td>0.00</td>\n",
       "      <td>0.00</td>\n",
       "      <td>0.00</td>\n",
       "      <td>0.00</td>\n",
       "      <td>0.00</td>\n",
       "    </tr>\n",
       "    <tr>\n",
       "      <th>2</th>\n",
       "      <td>173</td>\n",
       "      <td>Poland</td>\n",
       "      <td>711</td>\n",
       "      <td>Anise, badian, fennel, coriander</td>\n",
       "      <td>5312</td>\n",
       "      <td>Area harvested</td>\n",
       "      <td>ha</td>\n",
       "      <td>0.00</td>\n",
       "      <td>0.00</td>\n",
       "      <td>0.00</td>\n",
       "      <td>...</td>\n",
       "      <td>0.00</td>\n",
       "      <td>0.00</td>\n",
       "      <td>0.00</td>\n",
       "      <td>0.00</td>\n",
       "      <td>0.00</td>\n",
       "      <td>0.00</td>\n",
       "      <td>0.00</td>\n",
       "      <td>0.00</td>\n",
       "      <td>0.00</td>\n",
       "      <td>0.00</td>\n",
       "    </tr>\n",
       "    <tr>\n",
       "      <th>3</th>\n",
       "      <td>173</td>\n",
       "      <td>Poland</td>\n",
       "      <td>711</td>\n",
       "      <td>Anise, badian, fennel, coriander</td>\n",
       "      <td>5510</td>\n",
       "      <td>Production</td>\n",
       "      <td>tonnes</td>\n",
       "      <td>3,400.00</td>\n",
       "      <td>0.00</td>\n",
       "      <td>0.00</td>\n",
       "      <td>...</td>\n",
       "      <td>0.00</td>\n",
       "      <td>0.00</td>\n",
       "      <td>0.00</td>\n",
       "      <td>0.00</td>\n",
       "      <td>0.00</td>\n",
       "      <td>0.00</td>\n",
       "      <td>0.00</td>\n",
       "      <td>0.00</td>\n",
       "      <td>0.00</td>\n",
       "      <td>0.00</td>\n",
       "    </tr>\n",
       "    <tr>\n",
       "      <th>4</th>\n",
       "      <td>173</td>\n",
       "      <td>Poland</td>\n",
       "      <td>515</td>\n",
       "      <td>Apples</td>\n",
       "      <td>5312</td>\n",
       "      <td>Area harvested</td>\n",
       "      <td>ha</td>\n",
       "      <td>0.00</td>\n",
       "      <td>0.00</td>\n",
       "      <td>0.00</td>\n",
       "      <td>...</td>\n",
       "      <td>173,607.00</td>\n",
       "      <td>170,443.00</td>\n",
       "      <td>183,526.00</td>\n",
       "      <td>194,680.00</td>\n",
       "      <td>193,439.00</td>\n",
       "      <td>176,335.00</td>\n",
       "      <td>180,399.00</td>\n",
       "      <td>177,203.00</td>\n",
       "      <td>176,352.00</td>\n",
       "      <td>166,150.00</td>\n",
       "    </tr>\n",
       "    <tr>\n",
       "      <th>...</th>\n",
       "      <td>...</td>\n",
       "      <td>...</td>\n",
       "      <td>...</td>\n",
       "      <td>...</td>\n",
       "      <td>...</td>\n",
       "      <td>...</td>\n",
       "      <td>...</td>\n",
       "      <td>...</td>\n",
       "      <td>...</td>\n",
       "      <td>...</td>\n",
       "      <td>...</td>\n",
       "      <td>...</td>\n",
       "      <td>...</td>\n",
       "      <td>...</td>\n",
       "      <td>...</td>\n",
       "      <td>...</td>\n",
       "      <td>...</td>\n",
       "      <td>...</td>\n",
       "      <td>...</td>\n",
       "      <td>...</td>\n",
       "      <td>...</td>\n",
       "    </tr>\n",
       "    <tr>\n",
       "      <th>276</th>\n",
       "      <td>173</td>\n",
       "      <td>Poland</td>\n",
       "      <td>1729</td>\n",
       "      <td>Treenuts, Total</td>\n",
       "      <td>5419</td>\n",
       "      <td>Yield</td>\n",
       "      <td>hg/ha</td>\n",
       "      <td>0.00</td>\n",
       "      <td>0.00</td>\n",
       "      <td>0.00</td>\n",
       "      <td>...</td>\n",
       "      <td>6,873.00</td>\n",
       "      <td>3,734.00</td>\n",
       "      <td>4,637.00</td>\n",
       "      <td>8,406.00</td>\n",
       "      <td>19,370.00</td>\n",
       "      <td>18,345.00</td>\n",
       "      <td>20,716.00</td>\n",
       "      <td>19,529.00</td>\n",
       "      <td>12,926.00</td>\n",
       "      <td>25,075.00</td>\n",
       "    </tr>\n",
       "    <tr>\n",
       "      <th>277</th>\n",
       "      <td>173</td>\n",
       "      <td>Poland</td>\n",
       "      <td>1729</td>\n",
       "      <td>Treenuts, Total</td>\n",
       "      <td>5510</td>\n",
       "      <td>Production</td>\n",
       "      <td>tonnes</td>\n",
       "      <td>0.00</td>\n",
       "      <td>0.00</td>\n",
       "      <td>0.00</td>\n",
       "      <td>...</td>\n",
       "      <td>15,650.00</td>\n",
       "      <td>12,187.00</td>\n",
       "      <td>13,930.00</td>\n",
       "      <td>16,993.00</td>\n",
       "      <td>13,594.00</td>\n",
       "      <td>12,467.00</td>\n",
       "      <td>12,502.00</td>\n",
       "      <td>12,741.00</td>\n",
       "      <td>8,353.00</td>\n",
       "      <td>15,120.00</td>\n",
       "    </tr>\n",
       "    <tr>\n",
       "      <th>278</th>\n",
       "      <td>173</td>\n",
       "      <td>Poland</td>\n",
       "      <td>1735</td>\n",
       "      <td>Vegetables Primary</td>\n",
       "      <td>5312</td>\n",
       "      <td>Area harvested</td>\n",
       "      <td>ha</td>\n",
       "      <td>233,905.00</td>\n",
       "      <td>200,454.00</td>\n",
       "      <td>238,313.00</td>\n",
       "      <td>...</td>\n",
       "      <td>212,151.00</td>\n",
       "      <td>165,970.00</td>\n",
       "      <td>184,480.00</td>\n",
       "      <td>181,070.00</td>\n",
       "      <td>148,478.00</td>\n",
       "      <td>178,360.00</td>\n",
       "      <td>181,445.00</td>\n",
       "      <td>184,337.00</td>\n",
       "      <td>183,441.00</td>\n",
       "      <td>191,705.00</td>\n",
       "    </tr>\n",
       "    <tr>\n",
       "      <th>279</th>\n",
       "      <td>173</td>\n",
       "      <td>Poland</td>\n",
       "      <td>1735</td>\n",
       "      <td>Vegetables Primary</td>\n",
       "      <td>5419</td>\n",
       "      <td>Yield</td>\n",
       "      <td>hg/ha</td>\n",
       "      <td>152,635.00</td>\n",
       "      <td>184,122.00</td>\n",
       "      <td>171,518.00</td>\n",
       "      <td>...</td>\n",
       "      <td>273,983.00</td>\n",
       "      <td>308,092.00</td>\n",
       "      <td>314,489.00</td>\n",
       "      <td>312,919.00</td>\n",
       "      <td>352,941.00</td>\n",
       "      <td>329,477.00</td>\n",
       "      <td>279,425.00</td>\n",
       "      <td>319,869.00</td>\n",
       "      <td>327,189.00</td>\n",
       "      <td>287,097.00</td>\n",
       "    </tr>\n",
       "    <tr>\n",
       "      <th>280</th>\n",
       "      <td>173</td>\n",
       "      <td>Poland</td>\n",
       "      <td>1735</td>\n",
       "      <td>Vegetables Primary</td>\n",
       "      <td>5510</td>\n",
       "      <td>Production</td>\n",
       "      <td>tonnes</td>\n",
       "      <td>3,570,202.00</td>\n",
       "      <td>3,690,807.00</td>\n",
       "      <td>4,087,492.00</td>\n",
       "      <td>...</td>\n",
       "      <td>5,812,587.00</td>\n",
       "      <td>5,113,402.00</td>\n",
       "      <td>5,801,702.00</td>\n",
       "      <td>5,666,027.00</td>\n",
       "      <td>5,240,397.00</td>\n",
       "      <td>5,876,549.00</td>\n",
       "      <td>5,070,030.00</td>\n",
       "      <td>5,896,363.00</td>\n",
       "      <td>6,001,996.00</td>\n",
       "      <td>5,503,800.00</td>\n",
       "    </tr>\n",
       "  </tbody>\n",
       "</table>\n",
       "<p>281 rows × 55 columns</p>\n",
       "</div>"
      ],
      "text/plain": [
       "     area_code    area  item_code                              item  \\\n",
       "0          173  Poland        221               Almonds, with shell   \n",
       "1          173  Poland        221               Almonds, with shell   \n",
       "2          173  Poland        711  Anise, badian, fennel, coriander   \n",
       "3          173  Poland        711  Anise, badian, fennel, coriander   \n",
       "4          173  Poland        515                            Apples   \n",
       "..         ...     ...        ...                               ...   \n",
       "276        173  Poland       1729                   Treenuts, Total   \n",
       "277        173  Poland       1729                   Treenuts, Total   \n",
       "278        173  Poland       1735                Vegetables Primary   \n",
       "279        173  Poland       1735                Vegetables Primary   \n",
       "280        173  Poland       1735                Vegetables Primary   \n",
       "\n",
       "     element_code         element    unit        y1971        y1972  \\\n",
       "0            5312  Area harvested      ha         0.00         0.00   \n",
       "1            5510      Production  tonnes         0.00         0.00   \n",
       "2            5312  Area harvested      ha         0.00         0.00   \n",
       "3            5510      Production  tonnes     3,400.00         0.00   \n",
       "4            5312  Area harvested      ha         0.00         0.00   \n",
       "..            ...             ...     ...          ...          ...   \n",
       "276          5419           Yield   hg/ha         0.00         0.00   \n",
       "277          5510      Production  tonnes         0.00         0.00   \n",
       "278          5312  Area harvested      ha   233,905.00   200,454.00   \n",
       "279          5419           Yield   hg/ha   152,635.00   184,122.00   \n",
       "280          5510      Production  tonnes 3,570,202.00 3,690,807.00   \n",
       "\n",
       "           y1973  ...        y2009        y2010        y2011        y2012  \\\n",
       "0           0.00  ...         0.00         0.00         0.00         0.00   \n",
       "1           0.00  ...         0.00         0.00         0.00         0.00   \n",
       "2           0.00  ...         0.00         0.00         0.00         0.00   \n",
       "3           0.00  ...         0.00         0.00         0.00         0.00   \n",
       "4           0.00  ...   173,607.00   170,443.00   183,526.00   194,680.00   \n",
       "..           ...  ...          ...          ...          ...          ...   \n",
       "276         0.00  ...     6,873.00     3,734.00     4,637.00     8,406.00   \n",
       "277         0.00  ...    15,650.00    12,187.00    13,930.00    16,993.00   \n",
       "278   238,313.00  ...   212,151.00   165,970.00   184,480.00   181,070.00   \n",
       "279   171,518.00  ...   273,983.00   308,092.00   314,489.00   312,919.00   \n",
       "280 4,087,492.00  ... 5,812,587.00 5,113,402.00 5,801,702.00 5,666,027.00   \n",
       "\n",
       "           y2013        y2014        y2015        y2016        y2017  \\\n",
       "0           0.00         0.00         0.00         0.00         0.00   \n",
       "1           0.00         0.00         0.00         0.00         0.00   \n",
       "2           0.00         0.00         0.00         0.00         0.00   \n",
       "3           0.00         0.00         0.00         0.00         0.00   \n",
       "4     193,439.00   176,335.00   180,399.00   177,203.00   176,352.00   \n",
       "..           ...          ...          ...          ...          ...   \n",
       "276    19,370.00    18,345.00    20,716.00    19,529.00    12,926.00   \n",
       "277    13,594.00    12,467.00    12,502.00    12,741.00     8,353.00   \n",
       "278   148,478.00   178,360.00   181,445.00   184,337.00   183,441.00   \n",
       "279   352,941.00   329,477.00   279,425.00   319,869.00   327,189.00   \n",
       "280 5,240,397.00 5,876,549.00 5,070,030.00 5,896,363.00 6,001,996.00   \n",
       "\n",
       "           y2018  \n",
       "0           0.00  \n",
       "1           0.00  \n",
       "2           0.00  \n",
       "3           0.00  \n",
       "4     166,150.00  \n",
       "..           ...  \n",
       "276    25,075.00  \n",
       "277    15,120.00  \n",
       "278   191,705.00  \n",
       "279   287,097.00  \n",
       "280 5,503,800.00  \n",
       "\n",
       "[281 rows x 55 columns]"
      ]
     },
     "execution_count": 126,
     "metadata": {},
     "output_type": "execute_result"
    }
   ],
   "source": [
    "data_crops.replace(np.nan, 0)"
   ]
  },
  {
   "cell_type": "markdown",
   "metadata": {},
   "source": [
    "##### 5.1.4.3 Describing **data_crops** Dataset"
   ]
  },
  {
   "cell_type": "code",
   "execution_count": 127,
   "metadata": {},
   "outputs": [
    {
     "name": "stdout",
     "output_type": "stream",
     "text": [
      "       area_code  item_code  element_code         y1971         y1972  \\\n",
      "count     281.00     281.00        281.00        139.00        137.00   \n",
      "mean      173.00     549.43      5,413.57  1,337,679.62  1,517,007.68   \n",
      "std         0.00     485.83         84.36  5,291,723.22  6,359,745.23   \n",
      "min       173.00      15.00      5,312.00          0.00      2,000.00   \n",
      "25%       173.00     234.00      5,312.00     17,333.50     15,597.00   \n",
      "50%       173.00     423.00      5,419.00     58,100.00     55,500.00   \n",
      "75%       173.00     554.00      5,510.00    344,950.00    327,420.00   \n",
      "max       173.00   1,841.00      5,510.00 39,801,104.00 48,735,408.00   \n",
      "\n",
      "              y1973         y1974         y1975         y1976         y1977  \\\n",
      "count        137.00        137.00        137.00        136.00        134.00   \n",
      "mean   1,581,959.62  1,523,738.79  1,499,987.72  1,581,047.73  1,451,646.66   \n",
      "std    6,725,453.28  6,360,684.95  6,115,782.55  6,532,992.92  5,603,411.45   \n",
      "min        2,000.00      2,000.00      1,052.00          0.00        812.00   \n",
      "25%       17,000.00     13,604.00     18,600.00     18,665.50     17,898.00   \n",
      "50%       53,000.00     55,200.00     61,219.00     62,994.50     59,258.00   \n",
      "75%      346,630.00    294,862.00    329,927.00    383,290.25    359,463.25   \n",
      "max   51,928,208.00 48,518,800.00 46,429,040.00 49,951,088.00 41,147,616.00   \n",
      "\n",
      "       ...         y2009         y2010         y2011         y2012  \\\n",
      "count  ...        221.00        221.00        221.00        221.00   \n",
      "mean   ...    716,338.82    650,480.99    678,442.25    700,831.53   \n",
      "std    ...  2,645,785.89  2,397,053.10  2,475,072.31  2,580,421.64   \n",
      "min    ...         28.00         28.00         28.00         30.00   \n",
      "25%    ...     11,023.00     10,797.00     10,812.00     11,457.00   \n",
      "50%    ...     35,678.00     34,541.00     33,369.00     35,338.00   \n",
      "75%    ...    206,613.00    210,838.00    222,222.00    243,751.00   \n",
      "max    ... 29,826,416.00 27,228,098.00 26,767,403.00 28,543,870.00   \n",
      "\n",
      "              y2013         y2014         y2015         y2016         y2017  \\\n",
      "count        220.00        219.00        219.00        220.00        220.00   \n",
      "mean     687,824.83    765,630.36    662,024.27    742,512.31    782,658.25   \n",
      "std    2,499,649.72  2,837,224.94  2,414,471.23  2,735,219.60  2,954,905.89   \n",
      "min            0.00          0.00          0.00         29.00         28.00   \n",
      "25%       11,722.00     12,653.00     12,434.00     12,468.75     12,234.50   \n",
      "50%       35,162.50     40,173.00     40,679.00     40,586.00     35,636.00   \n",
      "75%      238,513.75    265,880.00    240,549.50    249,120.25    263,481.25   \n",
      "max   28,455,154.00 31,945,433.00 28,002,726.00 29,849,223.00 31,924,964.00   \n",
      "\n",
      "              y2018  \n",
      "count        234.00  \n",
      "mean     658,372.72  \n",
      "std    2,464,466.63  \n",
      "min            0.00  \n",
      "25%        5,097.50  \n",
      "50%       31,202.50  \n",
      "75%      217,175.25  \n",
      "max   26,281,580.00  \n",
      "\n",
      "[8 rows x 51 columns]\n"
     ]
    }
   ],
   "source": [
    "print(data_crops.describe())"
   ]
  },
  {
   "cell_type": "markdown",
   "metadata": {},
   "source": [
    "##### 5.1.4.4 Grouping **data_crops** dataset by item"
   ]
  },
  {
   "cell_type": "code",
   "execution_count": 128,
   "metadata": {},
   "outputs": [],
   "source": [
    "dataCropsGrouped = data_crops.groupby([\"item\"]).sum()"
   ]
  },
  {
   "cell_type": "code",
   "execution_count": 129,
   "metadata": {},
   "outputs": [],
   "source": [
    "dataCropsGrouped = dataCropsGrouped.drop(columns=[\"area_code\", \"item_code\", \"element_code\"])"
   ]
  },
  {
   "cell_type": "code",
   "execution_count": 130,
   "metadata": {},
   "outputs": [
    {
     "data": {
      "text/html": [
       "<div>\n",
       "<style scoped>\n",
       "    .dataframe tbody tr th:only-of-type {\n",
       "        vertical-align: middle;\n",
       "    }\n",
       "\n",
       "    .dataframe tbody tr th {\n",
       "        vertical-align: top;\n",
       "    }\n",
       "\n",
       "    .dataframe thead th {\n",
       "        text-align: right;\n",
       "    }\n",
       "</style>\n",
       "<table border=\"1\" class=\"dataframe\">\n",
       "  <thead>\n",
       "    <tr style=\"text-align: right;\">\n",
       "      <th></th>\n",
       "      <th>y1971</th>\n",
       "      <th>y1972</th>\n",
       "      <th>y1973</th>\n",
       "      <th>y1974</th>\n",
       "      <th>y1975</th>\n",
       "      <th>y1976</th>\n",
       "      <th>y1977</th>\n",
       "      <th>y1978</th>\n",
       "      <th>y1979</th>\n",
       "      <th>y1980</th>\n",
       "      <th>...</th>\n",
       "      <th>y2009</th>\n",
       "      <th>y2010</th>\n",
       "      <th>y2011</th>\n",
       "      <th>y2012</th>\n",
       "      <th>y2013</th>\n",
       "      <th>y2014</th>\n",
       "      <th>y2015</th>\n",
       "      <th>y2016</th>\n",
       "      <th>y2017</th>\n",
       "      <th>y2018</th>\n",
       "    </tr>\n",
       "    <tr>\n",
       "      <th>item</th>\n",
       "      <th></th>\n",
       "      <th></th>\n",
       "      <th></th>\n",
       "      <th></th>\n",
       "      <th></th>\n",
       "      <th></th>\n",
       "      <th></th>\n",
       "      <th></th>\n",
       "      <th></th>\n",
       "      <th></th>\n",
       "      <th></th>\n",
       "      <th></th>\n",
       "      <th></th>\n",
       "      <th></th>\n",
       "      <th></th>\n",
       "      <th></th>\n",
       "      <th></th>\n",
       "      <th></th>\n",
       "      <th></th>\n",
       "      <th></th>\n",
       "      <th></th>\n",
       "    </tr>\n",
       "  </thead>\n",
       "  <tbody>\n",
       "    <tr>\n",
       "      <th>Almonds, with shell</th>\n",
       "      <td>0.00</td>\n",
       "      <td>0.00</td>\n",
       "      <td>0.00</td>\n",
       "      <td>0.00</td>\n",
       "      <td>0.00</td>\n",
       "      <td>0.00</td>\n",
       "      <td>0.00</td>\n",
       "      <td>0.00</td>\n",
       "      <td>0.00</td>\n",
       "      <td>0.00</td>\n",
       "      <td>...</td>\n",
       "      <td>0.00</td>\n",
       "      <td>0.00</td>\n",
       "      <td>0.00</td>\n",
       "      <td>0.00</td>\n",
       "      <td>0.00</td>\n",
       "      <td>0.00</td>\n",
       "      <td>0.00</td>\n",
       "      <td>0.00</td>\n",
       "      <td>0.00</td>\n",
       "      <td>0.00</td>\n",
       "    </tr>\n",
       "    <tr>\n",
       "      <th>Anise, badian, fennel, coriander</th>\n",
       "      <td>3,400.00</td>\n",
       "      <td>0.00</td>\n",
       "      <td>0.00</td>\n",
       "      <td>0.00</td>\n",
       "      <td>0.00</td>\n",
       "      <td>0.00</td>\n",
       "      <td>0.00</td>\n",
       "      <td>0.00</td>\n",
       "      <td>0.00</td>\n",
       "      <td>0.00</td>\n",
       "      <td>...</td>\n",
       "      <td>0.00</td>\n",
       "      <td>0.00</td>\n",
       "      <td>0.00</td>\n",
       "      <td>0.00</td>\n",
       "      <td>0.00</td>\n",
       "      <td>0.00</td>\n",
       "      <td>0.00</td>\n",
       "      <td>0.00</td>\n",
       "      <td>0.00</td>\n",
       "      <td>0.00</td>\n",
       "    </tr>\n",
       "    <tr>\n",
       "      <th>Apples</th>\n",
       "      <td>563,200.00</td>\n",
       "      <td>558,500.00</td>\n",
       "      <td>682,500.00</td>\n",
       "      <td>594,300.00</td>\n",
       "      <td>840,722.00</td>\n",
       "      <td>1,160,890.00</td>\n",
       "      <td>911,928.00</td>\n",
       "      <td>1,030,343.00</td>\n",
       "      <td>1,050,671.00</td>\n",
       "      <td>844,106.00</td>\n",
       "      <td>...</td>\n",
       "      <td>2,951,157.00</td>\n",
       "      <td>2,158,527.00</td>\n",
       "      <td>2,812,447.00</td>\n",
       "      <td>3,219,814.00</td>\n",
       "      <td>3,437,999.00</td>\n",
       "      <td>3,552,840.00</td>\n",
       "      <td>3,524,873.00</td>\n",
       "      <td>3,984,872.00</td>\n",
       "      <td>2,756,184.00</td>\n",
       "      <td>4,406,387.00</td>\n",
       "    </tr>\n",
       "    <tr>\n",
       "      <th>Apricots</th>\n",
       "      <td>0.00</td>\n",
       "      <td>0.00</td>\n",
       "      <td>0.00</td>\n",
       "      <td>0.00</td>\n",
       "      <td>0.00</td>\n",
       "      <td>0.00</td>\n",
       "      <td>0.00</td>\n",
       "      <td>0.00</td>\n",
       "      <td>0.00</td>\n",
       "      <td>0.00</td>\n",
       "      <td>...</td>\n",
       "      <td>35,862.00</td>\n",
       "      <td>25,295.00</td>\n",
       "      <td>29,499.00</td>\n",
       "      <td>25,704.00</td>\n",
       "      <td>34,849.00</td>\n",
       "      <td>34,003.00</td>\n",
       "      <td>38,043.00</td>\n",
       "      <td>32,657.00</td>\n",
       "      <td>15,110.00</td>\n",
       "      <td>41,683.00</td>\n",
       "    </tr>\n",
       "    <tr>\n",
       "      <th>Artichokes</th>\n",
       "      <td>0.00</td>\n",
       "      <td>0.00</td>\n",
       "      <td>0.00</td>\n",
       "      <td>0.00</td>\n",
       "      <td>0.00</td>\n",
       "      <td>0.00</td>\n",
       "      <td>0.00</td>\n",
       "      <td>0.00</td>\n",
       "      <td>0.00</td>\n",
       "      <td>0.00</td>\n",
       "      <td>...</td>\n",
       "      <td>0.00</td>\n",
       "      <td>0.00</td>\n",
       "      <td>0.00</td>\n",
       "      <td>0.00</td>\n",
       "      <td>0.00</td>\n",
       "      <td>0.00</td>\n",
       "      <td>0.00</td>\n",
       "      <td>0.00</td>\n",
       "      <td>0.00</td>\n",
       "      <td>0.00</td>\n",
       "    </tr>\n",
       "    <tr>\n",
       "      <th>...</th>\n",
       "      <td>...</td>\n",
       "      <td>...</td>\n",
       "      <td>...</td>\n",
       "      <td>...</td>\n",
       "      <td>...</td>\n",
       "      <td>...</td>\n",
       "      <td>...</td>\n",
       "      <td>...</td>\n",
       "      <td>...</td>\n",
       "      <td>...</td>\n",
       "      <td>...</td>\n",
       "      <td>...</td>\n",
       "      <td>...</td>\n",
       "      <td>...</td>\n",
       "      <td>...</td>\n",
       "      <td>...</td>\n",
       "      <td>...</td>\n",
       "      <td>...</td>\n",
       "      <td>...</td>\n",
       "      <td>...</td>\n",
       "      <td>...</td>\n",
       "    </tr>\n",
       "    <tr>\n",
       "      <th>Vegetables, leguminous nes</th>\n",
       "      <td>0.00</td>\n",
       "      <td>0.00</td>\n",
       "      <td>0.00</td>\n",
       "      <td>0.00</td>\n",
       "      <td>0.00</td>\n",
       "      <td>0.00</td>\n",
       "      <td>0.00</td>\n",
       "      <td>0.00</td>\n",
       "      <td>0.00</td>\n",
       "      <td>0.00</td>\n",
       "      <td>...</td>\n",
       "      <td>89,899.00</td>\n",
       "      <td>92,088.00</td>\n",
       "      <td>91,775.00</td>\n",
       "      <td>84,947.00</td>\n",
       "      <td>106,889.00</td>\n",
       "      <td>104,806.00</td>\n",
       "      <td>85,981.00</td>\n",
       "      <td>91,517.00</td>\n",
       "      <td>106,885.00</td>\n",
       "      <td>81,238.00</td>\n",
       "    </tr>\n",
       "    <tr>\n",
       "      <th>Vetches</th>\n",
       "      <td>76,706.00</td>\n",
       "      <td>62,621.00</td>\n",
       "      <td>62,000.00</td>\n",
       "      <td>70,000.00</td>\n",
       "      <td>52,600.00</td>\n",
       "      <td>43,447.00</td>\n",
       "      <td>39,093.00</td>\n",
       "      <td>30,609.00</td>\n",
       "      <td>32,745.00</td>\n",
       "      <td>27,687.00</td>\n",
       "      <td>...</td>\n",
       "      <td>25,106.00</td>\n",
       "      <td>31,807.00</td>\n",
       "      <td>21,201.00</td>\n",
       "      <td>23,306.00</td>\n",
       "      <td>24,243.00</td>\n",
       "      <td>35,655.00</td>\n",
       "      <td>43,190.00</td>\n",
       "      <td>45,018.00</td>\n",
       "      <td>9,234.00</td>\n",
       "      <td>0.00</td>\n",
       "    </tr>\n",
       "    <tr>\n",
       "      <th>Walnuts, with shell</th>\n",
       "      <td>0.00</td>\n",
       "      <td>0.00</td>\n",
       "      <td>0.00</td>\n",
       "      <td>0.00</td>\n",
       "      <td>0.00</td>\n",
       "      <td>0.00</td>\n",
       "      <td>0.00</td>\n",
       "      <td>0.00</td>\n",
       "      <td>0.00</td>\n",
       "      <td>0.00</td>\n",
       "      <td>...</td>\n",
       "      <td>38,435.00</td>\n",
       "      <td>41,391.00</td>\n",
       "      <td>40,945.00</td>\n",
       "      <td>36,287.00</td>\n",
       "      <td>37,866.00</td>\n",
       "      <td>34,722.00</td>\n",
       "      <td>38,087.00</td>\n",
       "      <td>35,766.00</td>\n",
       "      <td>20,099.00</td>\n",
       "      <td>47,500.00</td>\n",
       "    </tr>\n",
       "    <tr>\n",
       "      <th>Watermelons</th>\n",
       "      <td>0.00</td>\n",
       "      <td>0.00</td>\n",
       "      <td>0.00</td>\n",
       "      <td>0.00</td>\n",
       "      <td>0.00</td>\n",
       "      <td>0.00</td>\n",
       "      <td>0.00</td>\n",
       "      <td>0.00</td>\n",
       "      <td>0.00</td>\n",
       "      <td>0.00</td>\n",
       "      <td>...</td>\n",
       "      <td>0.00</td>\n",
       "      <td>0.00</td>\n",
       "      <td>0.00</td>\n",
       "      <td>0.00</td>\n",
       "      <td>0.00</td>\n",
       "      <td>0.00</td>\n",
       "      <td>0.00</td>\n",
       "      <td>0.00</td>\n",
       "      <td>0.00</td>\n",
       "      <td>0.00</td>\n",
       "    </tr>\n",
       "    <tr>\n",
       "      <th>Wheat</th>\n",
       "      <td>7,542,678.00</td>\n",
       "      <td>7,219,635.00</td>\n",
       "      <td>7,797,799.00</td>\n",
       "      <td>8,442,607.00</td>\n",
       "      <td>7,076,864.00</td>\n",
       "      <td>7,608,323.00</td>\n",
       "      <td>7,171,078.00</td>\n",
       "      <td>7,914,251.00</td>\n",
       "      <td>5,763,497.00</td>\n",
       "      <td>5,810,066.00</td>\n",
       "      <td>...</td>\n",
       "      <td>12,177,511.00</td>\n",
       "      <td>11,576,622.00</td>\n",
       "      <td>11,639,248.00</td>\n",
       "      <td>10,726,238.00</td>\n",
       "      <td>11,667,418.00</td>\n",
       "      <td>14,017,173.00</td>\n",
       "      <td>13,398,982.00</td>\n",
       "      <td>13,237,782.00</td>\n",
       "      <td>14,106,328.00</td>\n",
       "      <td>12,094,721.00</td>\n",
       "    </tr>\n",
       "  </tbody>\n",
       "</table>\n",
       "<p>102 rows × 48 columns</p>\n",
       "</div>"
      ],
      "text/plain": [
       "                                        y1971        y1972        y1973  \\\n",
       "item                                                                      \n",
       "Almonds, with shell                      0.00         0.00         0.00   \n",
       "Anise, badian, fennel, coriander     3,400.00         0.00         0.00   \n",
       "Apples                             563,200.00   558,500.00   682,500.00   \n",
       "Apricots                                 0.00         0.00         0.00   \n",
       "Artichokes                               0.00         0.00         0.00   \n",
       "...                                       ...          ...          ...   \n",
       "Vegetables, leguminous nes               0.00         0.00         0.00   \n",
       "Vetches                             76,706.00    62,621.00    62,000.00   \n",
       "Walnuts, with shell                      0.00         0.00         0.00   \n",
       "Watermelons                              0.00         0.00         0.00   \n",
       "Wheat                            7,542,678.00 7,219,635.00 7,797,799.00   \n",
       "\n",
       "                                        y1974        y1975        y1976  \\\n",
       "item                                                                      \n",
       "Almonds, with shell                      0.00         0.00         0.00   \n",
       "Anise, badian, fennel, coriander         0.00         0.00         0.00   \n",
       "Apples                             594,300.00   840,722.00 1,160,890.00   \n",
       "Apricots                                 0.00         0.00         0.00   \n",
       "Artichokes                               0.00         0.00         0.00   \n",
       "...                                       ...          ...          ...   \n",
       "Vegetables, leguminous nes               0.00         0.00         0.00   \n",
       "Vetches                             70,000.00    52,600.00    43,447.00   \n",
       "Walnuts, with shell                      0.00         0.00         0.00   \n",
       "Watermelons                              0.00         0.00         0.00   \n",
       "Wheat                            8,442,607.00 7,076,864.00 7,608,323.00   \n",
       "\n",
       "                                        y1977        y1978        y1979  \\\n",
       "item                                                                      \n",
       "Almonds, with shell                      0.00         0.00         0.00   \n",
       "Anise, badian, fennel, coriander         0.00         0.00         0.00   \n",
       "Apples                             911,928.00 1,030,343.00 1,050,671.00   \n",
       "Apricots                                 0.00         0.00         0.00   \n",
       "Artichokes                               0.00         0.00         0.00   \n",
       "...                                       ...          ...          ...   \n",
       "Vegetables, leguminous nes               0.00         0.00         0.00   \n",
       "Vetches                             39,093.00    30,609.00    32,745.00   \n",
       "Walnuts, with shell                      0.00         0.00         0.00   \n",
       "Watermelons                              0.00         0.00         0.00   \n",
       "Wheat                            7,171,078.00 7,914,251.00 5,763,497.00   \n",
       "\n",
       "                                        y1980  ...         y2009  \\\n",
       "item                                           ...                 \n",
       "Almonds, with shell                      0.00  ...          0.00   \n",
       "Anise, badian, fennel, coriander         0.00  ...          0.00   \n",
       "Apples                             844,106.00  ...  2,951,157.00   \n",
       "Apricots                                 0.00  ...     35,862.00   \n",
       "Artichokes                               0.00  ...          0.00   \n",
       "...                                       ...  ...           ...   \n",
       "Vegetables, leguminous nes               0.00  ...     89,899.00   \n",
       "Vetches                             27,687.00  ...     25,106.00   \n",
       "Walnuts, with shell                      0.00  ...     38,435.00   \n",
       "Watermelons                              0.00  ...          0.00   \n",
       "Wheat                            5,810,066.00  ... 12,177,511.00   \n",
       "\n",
       "                                         y2010         y2011         y2012  \\\n",
       "item                                                                         \n",
       "Almonds, with shell                       0.00          0.00          0.00   \n",
       "Anise, badian, fennel, coriander          0.00          0.00          0.00   \n",
       "Apples                            2,158,527.00  2,812,447.00  3,219,814.00   \n",
       "Apricots                             25,295.00     29,499.00     25,704.00   \n",
       "Artichokes                                0.00          0.00          0.00   \n",
       "...                                        ...           ...           ...   \n",
       "Vegetables, leguminous nes           92,088.00     91,775.00     84,947.00   \n",
       "Vetches                              31,807.00     21,201.00     23,306.00   \n",
       "Walnuts, with shell                  41,391.00     40,945.00     36,287.00   \n",
       "Watermelons                               0.00          0.00          0.00   \n",
       "Wheat                            11,576,622.00 11,639,248.00 10,726,238.00   \n",
       "\n",
       "                                         y2013         y2014         y2015  \\\n",
       "item                                                                         \n",
       "Almonds, with shell                       0.00          0.00          0.00   \n",
       "Anise, badian, fennel, coriander          0.00          0.00          0.00   \n",
       "Apples                            3,437,999.00  3,552,840.00  3,524,873.00   \n",
       "Apricots                             34,849.00     34,003.00     38,043.00   \n",
       "Artichokes                                0.00          0.00          0.00   \n",
       "...                                        ...           ...           ...   \n",
       "Vegetables, leguminous nes          106,889.00    104,806.00     85,981.00   \n",
       "Vetches                              24,243.00     35,655.00     43,190.00   \n",
       "Walnuts, with shell                  37,866.00     34,722.00     38,087.00   \n",
       "Watermelons                               0.00          0.00          0.00   \n",
       "Wheat                            11,667,418.00 14,017,173.00 13,398,982.00   \n",
       "\n",
       "                                         y2016         y2017         y2018  \n",
       "item                                                                        \n",
       "Almonds, with shell                       0.00          0.00          0.00  \n",
       "Anise, badian, fennel, coriander          0.00          0.00          0.00  \n",
       "Apples                            3,984,872.00  2,756,184.00  4,406,387.00  \n",
       "Apricots                             32,657.00     15,110.00     41,683.00  \n",
       "Artichokes                                0.00          0.00          0.00  \n",
       "...                                        ...           ...           ...  \n",
       "Vegetables, leguminous nes           91,517.00    106,885.00     81,238.00  \n",
       "Vetches                              45,018.00      9,234.00          0.00  \n",
       "Walnuts, with shell                  35,766.00     20,099.00     47,500.00  \n",
       "Watermelons                               0.00          0.00          0.00  \n",
       "Wheat                            13,237,782.00 14,106,328.00 12,094,721.00  \n",
       "\n",
       "[102 rows x 48 columns]"
      ]
     },
     "execution_count": 130,
     "metadata": {},
     "output_type": "execute_result"
    }
   ],
   "source": [
    "dataCropsGrouped"
   ]
  },
  {
   "cell_type": "markdown",
   "metadata": {},
   "source": [
    "##### 5.1.4.5 Checking for the most important crops from **dataCropsGrouped** dataset"
   ]
  },
  {
   "cell_type": "code",
   "execution_count": 131,
   "metadata": {},
   "outputs": [],
   "source": [
    "dataCropsGroupedSum = dataCropsGrouped.sum(axis=1)"
   ]
  },
  {
   "cell_type": "code",
   "execution_count": 132,
   "metadata": {},
   "outputs": [
    {
     "data": {
      "text/plain": [
       "item\n",
       "Cereals, Total            1,583,068,952.00\n",
       "Roots and Tubers, Total   1,334,122,051.00\n",
       "Potatoes                  1,334,122,051.00\n",
       "Sugar Crops Primary         682,033,347.00\n",
       "Sugar beet                  682,033,347.00\n",
       "                                ...       \n",
       "Sorghum                               0.00\n",
       "Figs                                  0.00\n",
       "Eggplants (aubergines)                0.00\n",
       "Cranberries                           0.00\n",
       "Almonds, with shell                   0.00\n",
       "Length: 102, dtype: float64"
      ]
     },
     "execution_count": 132,
     "metadata": {},
     "output_type": "execute_result"
    }
   ],
   "source": [
    "dataCropsGroupedSum.sort_values(ascending=False)"
   ]
  },
  {
   "cell_type": "markdown",
   "metadata": {},
   "source": [
    "The most prolific crop products produced in Poland between 1961 and 2019 are:\n",
    "\n",
    "1. Cereals                                 1,866,275,855.00\n",
    "2. Roots and Tubers                        1,828,499,656.00\n",
    "3. Potatoes                                1,828,499,656.00\n"
   ]
  },
  {
   "cell_type": "markdown",
   "metadata": {},
   "source": [
    "##### 5.1.4.6 Deleting all the rows with 0 sum"
   ]
  },
  {
   "cell_type": "code",
   "execution_count": 133,
   "metadata": {},
   "outputs": [],
   "source": [
    "cleanDataCrops = dataCropsGroupedSum.loc[~(dataCropsGroupedSum == 0)]"
   ]
  },
  {
   "cell_type": "markdown",
   "metadata": {},
   "source": [
    "##### 5.1.4.7 Calculating mean and median"
   ]
  },
  {
   "cell_type": "code",
   "execution_count": 134,
   "metadata": {},
   "outputs": [
    {
     "name": "stdout",
     "output_type": "stream",
     "text": [
      "The mean is: 83768657.25490196\n",
      "The median is: 2892161.0\n"
     ]
    }
   ],
   "source": [
    "print(f\"The mean is: {dataCropsGroupedSum.mean()}\")\n",
    "print(f\"The median is: {dataCropsGroupedSum.median()}\")"
   ]
  },
  {
   "cell_type": "markdown",
   "metadata": {},
   "source": [
    "##### 5.1.4.8 Getting all the rows above the median value (3,513,392.5)"
   ]
  },
  {
   "cell_type": "code",
   "execution_count": 135,
   "metadata": {},
   "outputs": [],
   "source": [
    "ImportantDataCrops = cleanDataCrops[cleanDataCrops > 3513392.5]"
   ]
  },
  {
   "cell_type": "code",
   "execution_count": 136,
   "metadata": {},
   "outputs": [
    {
     "data": {
      "text/plain": [
       "item\n",
       "Cereals, Total                       1,583,068,952.00\n",
       "Potatoes                             1,334,122,051.00\n",
       "Roots and Tubers, Total              1,334,122,051.00\n",
       "Sugar beet                             682,033,347.00\n",
       "Sugar Crops Primary                    682,033,347.00\n",
       "Wheat                                  481,914,327.00\n",
       "Rye                                    357,267,735.00\n",
       "Vegetables Primary                     272,225,930.00\n",
       "Barley                                 223,207,509.00\n",
       "Grain, mixed                           193,430,115.00\n",
       "Fruit Primary                          144,404,694.00\n",
       "Triticale                              134,487,774.00\n",
       "Oats                                   128,929,791.00\n",
       "Apples                                  94,693,448.00\n",
       "Oilcrops                                90,830,209.00\n",
       "Cabbages and other brassicas            89,368,578.00\n",
       "Rapeseed                                86,585,212.00\n",
       "Maize                                   66,068,760.00\n",
       "Oilcrops, Cake Equivalent               65,446,793.00\n",
       "Vegetables, fresh nes                   61,448,457.00\n",
       "Oilcrops, Oil Equivalent                51,335,465.00\n",
       "Carrots and turnips                     49,363,505.00\n",
       "Tomatoes                                37,774,850.00\n",
       "Onions, dry                             37,534,921.00\n",
       "Cucumbers and gherkins                  29,426,975.00\n",
       "Pulses, Total                           28,136,439.00\n",
       "Cauliflowers and broccoli               19,582,317.00\n",
       "Pulses nes                              13,510,398.00\n",
       "Strawberries                            13,357,574.00\n",
       "Currants                                10,177,397.00\n",
       "Leeks, other alliaceous vegetables       8,228,364.00\n",
       "Pumpkins, squash and gourds              8,183,405.00\n",
       "Chicory roots                            7,940,146.00\n",
       "Cherries, sour                           7,939,953.00\n",
       "Plums and sloes                          7,609,392.00\n",
       "Lupins                                   7,338,320.00\n",
       "Lettuce and chicory                      6,420,782.00\n",
       "Beans, green                             6,211,761.00\n",
       "Buckwheat                                6,168,774.00\n",
       "Pears                                    5,856,879.00\n",
       "Mushrooms and truffles                   5,322,545.00\n",
       "Tobacco, unmanufactured                  5,082,116.00\n",
       "Peas, dry                                4,810,637.00\n",
       "Raspberries                              4,694,268.00\n",
       "String beans                             4,179,811.00\n",
       "Maize, green                             3,574,993.00\n",
       "dtype: float64"
      ]
     },
     "execution_count": 136,
     "metadata": {},
     "output_type": "execute_result"
    }
   ],
   "source": [
    "ImportantDataCrops.sort_values(ascending=False)"
   ]
  },
  {
   "cell_type": "markdown",
   "metadata": {},
   "source": [
    "##### 5.1.4.9 Removing all rows with 0 values from the **dataCropsCleaned** dataset"
   ]
  },
  {
   "cell_type": "code",
   "execution_count": 137,
   "metadata": {},
   "outputs": [],
   "source": [
    "dataCropsCleaned = dataCropsGrouped.loc[~(dataCropsGrouped == 0).all(axis=1)]"
   ]
  },
  {
   "cell_type": "markdown",
   "metadata": {},
   "source": [
    "##### 5.1.4.10 Transposing the **dataCropsCleaned** dataset"
   ]
  },
  {
   "cell_type": "code",
   "execution_count": 138,
   "metadata": {},
   "outputs": [],
   "source": [
    "dataCropsTransposed = dataCropsCleaned.transpose()"
   ]
  },
  {
   "cell_type": "code",
   "execution_count": 139,
   "metadata": {},
   "outputs": [
    {
     "data": {
      "text/plain": [
       "[<matplotlib.lines.Line2D at 0x202f67a8700>,\n",
       " <matplotlib.lines.Line2D at 0x202f67a85b0>,\n",
       " <matplotlib.lines.Line2D at 0x202f67a8790>,\n",
       " <matplotlib.lines.Line2D at 0x202f67a8880>,\n",
       " <matplotlib.lines.Line2D at 0x202f67a8940>,\n",
       " <matplotlib.lines.Line2D at 0x202f67a8a00>,\n",
       " <matplotlib.lines.Line2D at 0x202f67a8ac0>,\n",
       " <matplotlib.lines.Line2D at 0x202f67a8b80>,\n",
       " <matplotlib.lines.Line2D at 0x202f67a8c40>,\n",
       " <matplotlib.lines.Line2D at 0x202f67a8d00>,\n",
       " <matplotlib.lines.Line2D at 0x202f578f9a0>,\n",
       " <matplotlib.lines.Line2D at 0x202f67a8e50>,\n",
       " <matplotlib.lines.Line2D at 0x202f67a8f10>,\n",
       " <matplotlib.lines.Line2D at 0x202f67a8fd0>,\n",
       " <matplotlib.lines.Line2D at 0x202f67b20d0>,\n",
       " <matplotlib.lines.Line2D at 0x202f67b2190>,\n",
       " <matplotlib.lines.Line2D at 0x202f67b2250>,\n",
       " <matplotlib.lines.Line2D at 0x202f67b2310>,\n",
       " <matplotlib.lines.Line2D at 0x202f67b23d0>,\n",
       " <matplotlib.lines.Line2D at 0x202f67b2490>,\n",
       " <matplotlib.lines.Line2D at 0x202f67b2550>,\n",
       " <matplotlib.lines.Line2D at 0x202f67b2610>,\n",
       " <matplotlib.lines.Line2D at 0x202f67b26d0>,\n",
       " <matplotlib.lines.Line2D at 0x202f67b2790>,\n",
       " <matplotlib.lines.Line2D at 0x202f67b2850>,\n",
       " <matplotlib.lines.Line2D at 0x202f67b2910>,\n",
       " <matplotlib.lines.Line2D at 0x202f67b29d0>,\n",
       " <matplotlib.lines.Line2D at 0x202f67b2a90>,\n",
       " <matplotlib.lines.Line2D at 0x202f67b2b50>,\n",
       " <matplotlib.lines.Line2D at 0x202f67b2c10>,\n",
       " <matplotlib.lines.Line2D at 0x202f67b2cd0>,\n",
       " <matplotlib.lines.Line2D at 0x202f67b2d90>,\n",
       " <matplotlib.lines.Line2D at 0x202f67b2e50>,\n",
       " <matplotlib.lines.Line2D at 0x202f67b2f10>,\n",
       " <matplotlib.lines.Line2D at 0x202f67b2fd0>,\n",
       " <matplotlib.lines.Line2D at 0x202f67b90d0>,\n",
       " <matplotlib.lines.Line2D at 0x202f67b9190>,\n",
       " <matplotlib.lines.Line2D at 0x202f67b9250>,\n",
       " <matplotlib.lines.Line2D at 0x202f67b9310>,\n",
       " <matplotlib.lines.Line2D at 0x202f67b93d0>,\n",
       " <matplotlib.lines.Line2D at 0x202f67b9490>,\n",
       " <matplotlib.lines.Line2D at 0x202f67b9550>,\n",
       " <matplotlib.lines.Line2D at 0x202f67b9610>,\n",
       " <matplotlib.lines.Line2D at 0x202f67b96d0>,\n",
       " <matplotlib.lines.Line2D at 0x202f67b9790>,\n",
       " <matplotlib.lines.Line2D at 0x202f67b9850>,\n",
       " <matplotlib.lines.Line2D at 0x202f67b9910>,\n",
       " <matplotlib.lines.Line2D at 0x202f67b99d0>,\n",
       " <matplotlib.lines.Line2D at 0x202f67b9a90>,\n",
       " <matplotlib.lines.Line2D at 0x202f67b9b50>,\n",
       " <matplotlib.lines.Line2D at 0x202f67b9c10>,\n",
       " <matplotlib.lines.Line2D at 0x202f67b9cd0>,\n",
       " <matplotlib.lines.Line2D at 0x202f67b9d90>,\n",
       " <matplotlib.lines.Line2D at 0x202f67b9e50>,\n",
       " <matplotlib.lines.Line2D at 0x202f67b9f10>,\n",
       " <matplotlib.lines.Line2D at 0x202f67b9fd0>,\n",
       " <matplotlib.lines.Line2D at 0x202f67c00d0>,\n",
       " <matplotlib.lines.Line2D at 0x202f67c0190>,\n",
       " <matplotlib.lines.Line2D at 0x202f67c0250>,\n",
       " <matplotlib.lines.Line2D at 0x202f67c0310>,\n",
       " <matplotlib.lines.Line2D at 0x202f67c03d0>,\n",
       " <matplotlib.lines.Line2D at 0x202f67c0490>,\n",
       " <matplotlib.lines.Line2D at 0x202f67c0550>,\n",
       " <matplotlib.lines.Line2D at 0x202f67c0610>,\n",
       " <matplotlib.lines.Line2D at 0x202f67c06d0>,\n",
       " <matplotlib.lines.Line2D at 0x202f67c0790>,\n",
       " <matplotlib.lines.Line2D at 0x202f67c0850>,\n",
       " <matplotlib.lines.Line2D at 0x202f67c0910>,\n",
       " <matplotlib.lines.Line2D at 0x202f67c09d0>,\n",
       " <matplotlib.lines.Line2D at 0x202f67c0a90>,\n",
       " <matplotlib.lines.Line2D at 0x202f67c0b50>,\n",
       " <matplotlib.lines.Line2D at 0x202f67c0c10>,\n",
       " <matplotlib.lines.Line2D at 0x202f67c0cd0>,\n",
       " <matplotlib.lines.Line2D at 0x202f67c0d90>,\n",
       " <matplotlib.lines.Line2D at 0x202f67c0e50>,\n",
       " <matplotlib.lines.Line2D at 0x202f67c0f10>,\n",
       " <matplotlib.lines.Line2D at 0x202f67c0fd0>,\n",
       " <matplotlib.lines.Line2D at 0x202f67c50d0>,\n",
       " <matplotlib.lines.Line2D at 0x202f67c5190>,\n",
       " <matplotlib.lines.Line2D at 0x202f67c5250>,\n",
       " <matplotlib.lines.Line2D at 0x202f67c5310>]"
      ]
     },
     "execution_count": 139,
     "metadata": {},
     "output_type": "execute_result"
    },
    {
     "data": {
      "image/png": "[encoded data removed]",
      "text/plain": [
       "<Figure size 432x288 with 1 Axes>"
      ]
     },
     "metadata": {},
     "output_type": "display_data"
    }
   ],
   "source": [
    "plt.plot(dataCropsTransposed)"
   ]
  },
  {
   "cell_type": "markdown",
   "metadata": {},
   "source": [
    "#### 5.1.5 Plotting **dataCropsTransposed**"
   ]
  },
  {
   "cell_type": "code",
   "execution_count": 140,
   "metadata": {},
   "outputs": [
    {
     "data": {
      "text/plain": [
       "Index(['Anise, badian, fennel, coriander', 'Apples', 'Apricots', 'Asparagus',\n",
       "       'Barley', 'Beans, dry', 'Beans, green', 'Berries nes', 'Blueberries',\n",
       "       'Broad beans, horse beans, dry', 'Buckwheat',\n",
       "       'Cabbages and other brassicas', 'Carrots and turnips',\n",
       "       'Cauliflowers and broccoli', 'Cereals nes', 'Cereals, Total',\n",
       "       'Cherries', 'Cherries, sour', 'Chestnut', 'Chicory roots',\n",
       "       'Chillies and peppers, green', 'Cucumbers and gherkins', 'Currants',\n",
       "       'Fibre Crops Primary', 'Flax fibre and tow', 'Fruit Primary',\n",
       "       'Fruit, fresh nes', 'Fruit, stone nes', 'Garlic', 'Gooseberries',\n",
       "       'Grain, mixed', 'Grapes', 'Hazelnuts, with shell', 'Hemp tow waste',\n",
       "       'Hempseed', 'Hops', 'Leeks, other alliaceous vegetables',\n",
       "       'Lettuce and chicory', 'Linseed', 'Lupins', 'Maize', 'Maize, green',\n",
       "       'Millet', 'Mushrooms and truffles', 'Nuts nes', 'Oats', 'Oilcrops',\n",
       "       'Oilcrops, Cake Equivalent', 'Oilcrops, Oil Equivalent', 'Oilseeds nes',\n",
       "       'Onions, dry', 'Peaches and nectarines', 'Pears', 'Peas, dry',\n",
       "       'Peas, green', 'Plums and sloes', 'Potatoes', 'Pulses nes',\n",
       "       'Pulses, Total', 'Pumpkins, squash and gourds', 'Rapeseed',\n",
       "       'Raspberries', 'Roots and Tubers, Total', 'Rye', 'Soybeans', 'Spinach',\n",
       "       'Strawberries', 'String beans', 'Sugar Crops Primary', 'Sugar beet',\n",
       "       'Sunflower seed', 'Tobacco, unmanufactured', 'Tomatoes',\n",
       "       'Treenuts, Total', 'Triticale', 'Vegetables Primary',\n",
       "       'Vegetables, fresh nes', 'Vegetables, leguminous nes', 'Vetches',\n",
       "       'Walnuts, with shell', 'Wheat'],\n",
       "      dtype='object', name='item')"
      ]
     },
     "execution_count": 140,
     "metadata": {},
     "output_type": "execute_result"
    }
   ],
   "source": [
    "dataCropsTransposed.columns"
   ]
  },
  {
   "cell_type": "code",
   "execution_count": 141,
   "metadata": {},
   "outputs": [
    {
     "data": {
      "text/plain": [
       "[<matplotlib.lines.Line2D at 0x202f5290b80>]"
      ]
     },
     "execution_count": 141,
     "metadata": {},
     "output_type": "execute_result"
    },
    {
     "data": {
      "image/png": "[encoded data removed]",
      "text/plain": [
       "<Figure size 432x288 with 1 Axes>"
      ]
     },
     "metadata": {},
     "output_type": "display_data"
    }
   ],
   "source": [
    "#Plotting cereals\n",
    "plt.plot(dataCropsTransposed[\"Cereals, Total\"])"
   ]
  },
  {
   "cell_type": "code",
   "execution_count": 142,
   "metadata": {},
   "outputs": [
    {
     "data": {
      "text/plain": [
       "[<matplotlib.lines.Line2D at 0x202f57548e0>]"
      ]
     },
     "execution_count": 142,
     "metadata": {},
     "output_type": "execute_result"
    },
    {
     "data": {
      "image/png": "[encoded data removed]",
      "text/plain": [
       "<Figure size 432x288 with 1 Axes>"
      ]
     },
     "metadata": {},
     "output_type": "display_data"
    }
   ],
   "source": [
    "#Ploting \"Roots and Tubers, Total\"\n",
    "plt.plot(dataCropsTransposed[\"Roots and Tubers, Total\"])"
   ]
  },
  {
   "cell_type": "code",
   "execution_count": 143,
   "metadata": {},
   "outputs": [
    {
     "data": {
      "text/plain": [
       "[<matplotlib.lines.Line2D at 0x202f697ce20>]"
      ]
     },
     "execution_count": 143,
     "metadata": {},
     "output_type": "execute_result"
    },
    {
     "data": {
      "image/png": "[encoded data removed]",
      "text/plain": [
       "<Figure size 432x288 with 1 Axes>"
      ]
     },
     "metadata": {},
     "output_type": "display_data"
    }
   ],
   "source": [
    "#Plotting \"Potatoes\"\n",
    "plt.plot(dataCropsTransposed[\"Potatoes\"])"
   ]
  },
  {
   "cell_type": "code",
   "execution_count": 144,
   "metadata": {},
   "outputs": [
    {
     "data": {
      "text/plain": [
       "[<matplotlib.lines.Line2D at 0x202f6a2cd60>]"
      ]
     },
     "execution_count": 144,
     "metadata": {},
     "output_type": "execute_result"
    },
    {
     "data": {
      "image/png": "[encoded data removed]",
      "text/plain": [
       "<Figure size 432x288 with 1 Axes>"
      ]
     },
     "metadata": {},
     "output_type": "display_data"
    }
   ],
   "source": [
    "# Plotting the three together\n",
    "plt.plot(dataCropsTransposed[\"Cereals, Total\"], color = 'blue')\n",
    "plt.plot(dataCropsTransposed[\"Roots and Tubers, Total\"], color = \"green\")\n",
    "plt.plot(dataCropsTransposed[\"Potatoes\"], color = 'red')"
   ]
  },
  {
   "cell_type": "markdown",
   "metadata": {},
   "source": [
    "### 5.2 GHG emission data collection procedure"
   ]
  },
  {
   "cell_type": "markdown",
   "metadata": {},
   "source": [
    "The datasets of Nitrous Oxide (N2O), Methane (CH4) and Carbon dioxide (CO2), were gathered from the *databank.worldbank.org*. Those datasets were filtered using the the tools provided by the website itself to include only Poland from the period from 1971 to 2019."
   ]
  },
  {
   "cell_type": "markdown",
   "metadata": {},
   "source": [
    "#### 5.2.1 Loading the dataset"
   ]
  },
  {
   "cell_type": "code",
   "execution_count": 167,
   "metadata": {},
   "outputs": [],
   "source": [
    "# Loading Nitrous Oxide (N2O) dataset\n",
    "data_nitrox = pd.read_csv(r\"C:\\Users\\USER\\Documents\\Desarrollador\\PYTHON\\2021-Python-exercises\\statistics-projects\\2022-02-18-tarea-phd-statistics\\2019-1971-nitrous-TRANSPOSED-Poland.csv\", index_col=None)"
   ]
  },
  {
   "cell_type": "markdown",
   "metadata": {},
   "source": [
    "#### 5.2.2 Describing the N20 dataset"
   ]
  },
  {
   "cell_type": "code",
   "execution_count": 168,
   "metadata": {},
   "outputs": [
    {
     "data": {
      "text/plain": [
       "Index(['Year', 'Nitrous oxide emissions (thousand metric tons of CO2 equivalent)'], dtype='object')"
      ]
     },
     "execution_count": 168,
     "metadata": {},
     "output_type": "execute_result"
    }
   ],
   "source": [
    "data_nitrox.columns"
   ]
  },
  {
   "cell_type": "code",
   "execution_count": 71,
   "metadata": {},
   "outputs": [],
   "source": [
    "vars_ghg_charact = ([[\"Variable\", \"Description\", \"Type\", \"Level\"],\n",
    "                     [\"Series Name\", \"Nitrous Oxide\", \"String\", \"Nominal\"],\n",
    "                     [\"Series Code\", \"Code of the series\", \"String\", \"Nominal\"],\n",
    "                     [\"Country Name\", \"Poland\", \"String\", \"Nominal\"],\n",
    "                     [\"Country Code\", \"POL\", \"String\", \"Nominal\"],\n",
    "                     [\"Year\", \"From 1971 to 2019\", \"Float\", \"Ratio\"]])"
   ]
  },
  {
   "cell_type": "code",
   "execution_count": 169,
   "metadata": {},
   "outputs": [
    {
     "name": "stdout",
     "output_type": "stream",
     "text": [
      "╒══════════════╤════════════════════╤════════╤═════════╕\n",
      "│ Variable     │ Description        │ Type   │ Level   │\n",
      "╞══════════════╪════════════════════╪════════╪═════════╡\n",
      "│ Series Name  │ Nitrous Oxide      │ String │ Nominal │\n",
      "├──────────────┼────────────────────┼────────┼─────────┤\n",
      "│ Series Code  │ Code of the series │ String │ Nominal │\n",
      "├──────────────┼────────────────────┼────────┼─────────┤\n",
      "│ Country Name │ Poland             │ String │ Nominal │\n",
      "├──────────────┼────────────────────┼────────┼─────────┤\n",
      "│ Country Code │ POL                │ String │ Nominal │\n",
      "├──────────────┼────────────────────┼────────┼─────────┤\n",
      "│ Year         │ From 1971 to 2019  │ Float  │ Ratio   │\n",
      "╘══════════════╧════════════════════╧════════╧═════════╛\n"
     ]
    }
   ],
   "source": [
    "print(tabulate(vars_ghg_charact, headers=\"firstrow\", tablefmt=\"fancy_grid\"))"
   ]
  },
  {
   "cell_type": "code",
   "execution_count": 170,
   "metadata": {},
   "outputs": [
    {
     "data": {
      "text/html": [
       "<div>\n",
       "<style scoped>\n",
       "    .dataframe tbody tr th:only-of-type {\n",
       "        vertical-align: middle;\n",
       "    }\n",
       "\n",
       "    .dataframe tbody tr th {\n",
       "        vertical-align: top;\n",
       "    }\n",
       "\n",
       "    .dataframe thead th {\n",
       "        text-align: right;\n",
       "    }\n",
       "</style>\n",
       "<table border=\"1\" class=\"dataframe\">\n",
       "  <thead>\n",
       "    <tr style=\"text-align: right;\">\n",
       "      <th></th>\n",
       "      <th>Nitrous oxide emissions (thousand metric tons of CO2 equivalent)</th>\n",
       "    </tr>\n",
       "  </thead>\n",
       "  <tbody>\n",
       "    <tr>\n",
       "      <th>count</th>\n",
       "      <td>48.00</td>\n",
       "    </tr>\n",
       "    <tr>\n",
       "      <th>mean</th>\n",
       "      <td>30,026.39</td>\n",
       "    </tr>\n",
       "    <tr>\n",
       "      <th>std</th>\n",
       "      <td>8,996.23</td>\n",
       "    </tr>\n",
       "    <tr>\n",
       "      <th>min</th>\n",
       "      <td>20,500.00</td>\n",
       "    </tr>\n",
       "    <tr>\n",
       "      <th>25%</th>\n",
       "      <td>23,230.00</td>\n",
       "    </tr>\n",
       "    <tr>\n",
       "      <th>50%</th>\n",
       "      <td>24,595.00</td>\n",
       "    </tr>\n",
       "    <tr>\n",
       "      <th>75%</th>\n",
       "      <td>38,085.51</td>\n",
       "    </tr>\n",
       "    <tr>\n",
       "      <th>max</th>\n",
       "      <td>46,495.35</td>\n",
       "    </tr>\n",
       "  </tbody>\n",
       "</table>\n",
       "</div>"
      ],
      "text/plain": [
       "       Nitrous oxide emissions (thousand metric tons of CO2 equivalent)\n",
       "count                                              48.00               \n",
       "mean                                           30,026.39               \n",
       "std                                             8,996.23               \n",
       "min                                            20,500.00               \n",
       "25%                                            23,230.00               \n",
       "50%                                            24,595.00               \n",
       "75%                                            38,085.51               \n",
       "max                                            46,495.35               "
      ]
     },
     "execution_count": 170,
     "metadata": {},
     "output_type": "execute_result"
    }
   ],
   "source": [
    "data_nitrox.describe()"
   ]
  },
  {
   "cell_type": "markdown",
   "metadata": {},
   "source": [
    "#### 5.2.3 Preparing **data_nitrox** dataset for plotting"
   ]
  },
  {
   "cell_type": "markdown",
   "metadata": {},
   "source": [
    "#### 5.2.4 Plotting **data_nitrox**"
   ]
  },
  {
   "cell_type": "code",
   "execution_count": 171,
   "metadata": {},
   "outputs": [
    {
     "data": {
      "text/plain": [
       "[<matplotlib.lines.Line2D at 0x202f7a20f40>]"
      ]
     },
     "execution_count": 171,
     "metadata": {},
     "output_type": "execute_result"
    },
    {
     "data": {
      "image/png": "[encoded data removed]",
      "text/plain": [
       "<Figure size 432x288 with 1 Axes>"
      ]
     },
     "metadata": {},
     "output_type": "display_data"
    }
   ],
   "source": [
    "plt.plot(data_nitrox[\"Year\"], data_nitrox[\"Nitrous oxide emissions (thousand metric tons of CO2 equivalent)\"])"
   ]
  },
  {
   "cell_type": "markdown",
   "metadata": {},
   "source": [
    "## 6. Data analysis"
   ]
  },
  {
   "cell_type": "markdown",
   "metadata": {},
   "source": [
    "To analyze the data, it was required to create a correlation analysis."
   ]
  },
  {
   "cell_type": "markdown",
   "metadata": {},
   "source": [
    "#### 6.1 Cereals vs N2O"
   ]
  },
  {
   "cell_type": "markdown",
   "metadata": {},
   "source": [
    "##### 6.1.1 Scatter plot N2O vs Cereals"
   ]
  },
  {
   "cell_type": "code",
   "execution_count": 154,
   "metadata": {},
   "outputs": [],
   "source": [
    "y = data_nitrox[\"Nitrous oxide emissions (thousand metric tons of CO2 equivalent)\"]\n",
    "x1 = dataCropsTransposed[\"Cereals, Total\"]"
   ]
  },
  {
   "cell_type": "code",
   "execution_count": 172,
   "metadata": {},
   "outputs": [
    {
     "data": {
      "text/plain": [
       "0    37,691.04\n",
       "1    38,576.71\n",
       "2    43,345.13\n",
       "3    45,306.19\n",
       "4    46,495.35\n",
       "5    45,570.62\n",
       "6    45,052.30\n",
       "7    45,157.70\n",
       "8    43,692.33\n",
       "9    42,734.12\n",
       "10   39,221.51\n",
       "11   38,505.41\n",
       "12   38,738.53\n",
       "13   37,945.55\n",
       "14   36,851.87\n",
       "15   37,214.88\n",
       "16   36,149.10\n",
       "17   36,435.54\n",
       "18   35,743.00\n",
       "19   24,920.00\n",
       "20   24,010.00\n",
       "21   23,110.00\n",
       "22   23,780.00\n",
       "23   24,040.00\n",
       "24   24,550.00\n",
       "25   24,600.00\n",
       "26   25,110.00\n",
       "27   23,650.00\n",
       "28   23,270.00\n",
       "29   23,720.00\n",
       "30   23,500.00\n",
       "31   23,040.00\n",
       "32   23,670.00\n",
       "33   23,760.00\n",
       "34   24,590.00\n",
       "35   24,670.00\n",
       "36   25,570.00\n",
       "37   24,350.00\n",
       "38   21,020.00\n",
       "39   21,740.00\n",
       "40   21,420.00\n",
       "41   21,890.00\n",
       "42   21,030.00\n",
       "43   20,500.00\n",
       "44   20,680.00\n",
       "45   21,620.00\n",
       "46   21,550.00\n",
       "47   21,480.00\n",
       "Name: Nitrous oxide emissions (thousand metric tons of CO2 equivalent), dtype: float64"
      ]
     },
     "execution_count": 172,
     "metadata": {},
     "output_type": "execute_result"
    }
   ],
   "source": [
    "data_nitrox[\"Nitrous oxide emissions (thousand metric tons of CO2 equivalent)\"]"
   ]
  },
  {
   "cell_type": "code",
   "execution_count": 166,
   "metadata": {},
   "outputs": [
    {
     "data": {
      "text/plain": [
       "y1971   28,346,210.00\n",
       "y1972   28,911,646.00\n",
       "y1973   30,132,506.00\n",
       "y1974   31,093,909.00\n",
       "y1975   27,446,629.00\n",
       "y1976   28,658,665.00\n",
       "y1977   27,424,996.00\n",
       "y1978   29,416,690.00\n",
       "y1979   25,234,198.00\n",
       "y1980   26,205,947.00\n",
       "y1981   27,652,185.00\n",
       "y1982   29,286,687.00\n",
       "y1983   30,231,578.00\n",
       "y1984   32,581,375.00\n",
       "y1985   31,975,403.00\n",
       "y1986   33,303,737.00\n",
       "y1987   34,473,651.00\n",
       "y1988   32,972,378.00\n",
       "y1989   35,366,606.00\n",
       "y1990   36,577,197.00\n",
       "y1991   36,559,688.00\n",
       "y1992   28,307,266.00\n",
       "y1993   31,950,781.00\n",
       "y1994   30,270,087.00\n",
       "y1995   34,506,752.00\n",
       "y1996   34,046,935.00\n",
       "y1997   34,327,440.00\n",
       "y1998   36,033,151.00\n",
       "y1999   34,481,217.00\n",
       "y2000   31,179,589.00\n",
       "y2001   35,811,818.00\n",
       "y2002   35,203,080.00\n",
       "y2003   31,582,668.00\n",
       "y2004   38,047,796.00\n",
       "y2005   35,289,159.00\n",
       "y2006   30,183,042.00\n",
       "y2007   35,528,166.00\n",
       "y2008   36,295,275.00\n",
       "y2009   38,443,994.00\n",
       "y2010   34,860,982.00\n",
       "y2011   34,604,733.00\n",
       "y2012   36,285,230.00\n",
       "y2013   35,972,650.00\n",
       "y2014   39,473,069.00\n",
       "y2015   35,551,856.00\n",
       "y2016   37,289,822.00\n",
       "y2017   39,568,956.00\n",
       "y2018   34,121,557.00\n",
       "Name: Cereals, Total, dtype: float64"
      ]
     },
     "execution_count": 166,
     "metadata": {},
     "output_type": "execute_result"
    }
   ],
   "source": [
    "dataCropsTransposed[\"Cereals, Total\"]"
   ]
  },
  {
   "cell_type": "code",
   "execution_count": 173,
   "metadata": {},
   "outputs": [
    {
     "name": "stderr",
     "output_type": "stream",
     "text": [
      "C:\\Users\\USER\\Anaconda\\lib\\site-packages\\seaborn\\_decorators.py:36: FutureWarning: Pass the following variables as keyword args: x, y. From version 0.12, the only valid positional argument will be `data`, and passing other arguments without an explicit keyword will result in an error or misinterpretation.\n",
      "  warnings.warn(\n"
     ]
    },
    {
     "data": {
      "image/png": "[encoded data removed]",
      "text/plain": [
       "<Figure size 432x288 with 1 Axes>"
      ]
     },
     "metadata": {},
     "output_type": "display_data"
    }
   ],
   "source": [
    "sns.regplot(x1, y)\n",
    "plt.xlabel(\"Cereals\")\n",
    "plt.ylabel(\"N2O\")\n",
    "plt.show()"
   ]
  },
  {
   "cell_type": "markdown",
   "metadata": {},
   "source": [
    "##### 6.1.2 Regression itself N2O vs Cereals"
   ]
  },
  {
   "cell_type": "code",
   "execution_count": 174,
   "metadata": {},
   "outputs": [
    {
     "ename": "ValueError",
     "evalue": "The indices for endog and exog are not aligned",
     "output_type": "error",
     "traceback": [
      "\u001b[1;31m---------------------------------------------------------------------------\u001b[0m",
      "\u001b[1;31mValueError\u001b[0m                                Traceback (most recent call last)",
      "\u001b[1;32m<ipython-input-174-b062078d70c4>\u001b[0m in \u001b[0;36m<module>\u001b[1;34m\u001b[0m\n\u001b[0;32m      1\u001b[0m \u001b[0mX\u001b[0m \u001b[1;33m=\u001b[0m \u001b[0msm\u001b[0m\u001b[1;33m.\u001b[0m\u001b[0madd_constant\u001b[0m\u001b[1;33m(\u001b[0m\u001b[0mx1\u001b[0m\u001b[1;33m)\u001b[0m\u001b[1;33m\u001b[0m\u001b[1;33m\u001b[0m\u001b[0m\n\u001b[1;32m----> 2\u001b[1;33m \u001b[0mresults_cereals\u001b[0m \u001b[1;33m=\u001b[0m \u001b[0msm\u001b[0m\u001b[1;33m.\u001b[0m\u001b[0mOLS\u001b[0m\u001b[1;33m(\u001b[0m\u001b[0my\u001b[0m\u001b[1;33m,\u001b[0m\u001b[0mX\u001b[0m\u001b[1;33m)\u001b[0m\u001b[1;33m.\u001b[0m\u001b[0mfit\u001b[0m\u001b[1;33m(\u001b[0m\u001b[1;33m)\u001b[0m\u001b[1;33m\u001b[0m\u001b[1;33m\u001b[0m\u001b[0m\n\u001b[0m\u001b[0;32m      3\u001b[0m \u001b[0mresults_cereals\u001b[0m\u001b[1;33m.\u001b[0m\u001b[0msummary\u001b[0m\u001b[1;33m(\u001b[0m\u001b[1;33m)\u001b[0m\u001b[1;33m\u001b[0m\u001b[1;33m\u001b[0m\u001b[0m\n",
      "\u001b[1;32m~\\Anaconda\\lib\\site-packages\\statsmodels\\regression\\linear_model.py\u001b[0m in \u001b[0;36m__init__\u001b[1;34m(self, endog, exog, missing, hasconst, **kwargs)\u001b[0m\n\u001b[0;32m    870\u001b[0m     def __init__(self, endog, exog=None, missing='none', hasconst=None,\n\u001b[0;32m    871\u001b[0m                  **kwargs):\n\u001b[1;32m--> 872\u001b[1;33m         super(OLS, self).__init__(endog, exog, missing=missing,\n\u001b[0m\u001b[0;32m    873\u001b[0m                                   hasconst=hasconst, **kwargs)\n\u001b[0;32m    874\u001b[0m         \u001b[1;32mif\u001b[0m \u001b[1;34m\"weights\"\u001b[0m \u001b[1;32min\u001b[0m \u001b[0mself\u001b[0m\u001b[1;33m.\u001b[0m\u001b[0m_init_keys\u001b[0m\u001b[1;33m:\u001b[0m\u001b[1;33m\u001b[0m\u001b[1;33m\u001b[0m\u001b[0m\n",
      "\u001b[1;32m~\\Anaconda\\lib\\site-packages\\statsmodels\\regression\\linear_model.py\u001b[0m in \u001b[0;36m__init__\u001b[1;34m(self, endog, exog, weights, missing, hasconst, **kwargs)\u001b[0m\n\u001b[0;32m    701\u001b[0m         \u001b[1;32melse\u001b[0m\u001b[1;33m:\u001b[0m\u001b[1;33m\u001b[0m\u001b[1;33m\u001b[0m\u001b[0m\n\u001b[0;32m    702\u001b[0m             \u001b[0mweights\u001b[0m \u001b[1;33m=\u001b[0m \u001b[0mweights\u001b[0m\u001b[1;33m.\u001b[0m\u001b[0msqueeze\u001b[0m\u001b[1;33m(\u001b[0m\u001b[1;33m)\u001b[0m\u001b[1;33m\u001b[0m\u001b[1;33m\u001b[0m\u001b[0m\n\u001b[1;32m--> 703\u001b[1;33m         super(WLS, self).__init__(endog, exog, missing=missing,\n\u001b[0m\u001b[0;32m    704\u001b[0m                                   weights=weights, hasconst=hasconst, **kwargs)\n\u001b[0;32m    705\u001b[0m         \u001b[0mnobs\u001b[0m \u001b[1;33m=\u001b[0m \u001b[0mself\u001b[0m\u001b[1;33m.\u001b[0m\u001b[0mexog\u001b[0m\u001b[1;33m.\u001b[0m\u001b[0mshape\u001b[0m\u001b[1;33m[\u001b[0m\u001b[1;36m0\u001b[0m\u001b[1;33m]\u001b[0m\u001b[1;33m\u001b[0m\u001b[1;33m\u001b[0m\u001b[0m\n",
      "\u001b[1;32m~\\Anaconda\\lib\\site-packages\\statsmodels\\regression\\linear_model.py\u001b[0m in \u001b[0;36m__init__\u001b[1;34m(self, endog, exog, **kwargs)\u001b[0m\n\u001b[0;32m    188\u001b[0m     \"\"\"\n\u001b[0;32m    189\u001b[0m     \u001b[1;32mdef\u001b[0m \u001b[0m__init__\u001b[0m\u001b[1;33m(\u001b[0m\u001b[0mself\u001b[0m\u001b[1;33m,\u001b[0m \u001b[0mendog\u001b[0m\u001b[1;33m,\u001b[0m \u001b[0mexog\u001b[0m\u001b[1;33m,\u001b[0m \u001b[1;33m**\u001b[0m\u001b[0mkwargs\u001b[0m\u001b[1;33m)\u001b[0m\u001b[1;33m:\u001b[0m\u001b[1;33m\u001b[0m\u001b[1;33m\u001b[0m\u001b[0m\n\u001b[1;32m--> 190\u001b[1;33m         \u001b[0msuper\u001b[0m\u001b[1;33m(\u001b[0m\u001b[0mRegressionModel\u001b[0m\u001b[1;33m,\u001b[0m \u001b[0mself\u001b[0m\u001b[1;33m)\u001b[0m\u001b[1;33m.\u001b[0m\u001b[0m__init__\u001b[0m\u001b[1;33m(\u001b[0m\u001b[0mendog\u001b[0m\u001b[1;33m,\u001b[0m \u001b[0mexog\u001b[0m\u001b[1;33m,\u001b[0m \u001b[1;33m**\u001b[0m\u001b[0mkwargs\u001b[0m\u001b[1;33m)\u001b[0m\u001b[1;33m\u001b[0m\u001b[1;33m\u001b[0m\u001b[0m\n\u001b[0m\u001b[0;32m    191\u001b[0m         \u001b[0mself\u001b[0m\u001b[1;33m.\u001b[0m\u001b[0m_data_attr\u001b[0m\u001b[1;33m.\u001b[0m\u001b[0mextend\u001b[0m\u001b[1;33m(\u001b[0m\u001b[1;33m[\u001b[0m\u001b[1;34m'pinv_wexog'\u001b[0m\u001b[1;33m,\u001b[0m \u001b[1;34m'weights'\u001b[0m\u001b[1;33m]\u001b[0m\u001b[1;33m)\u001b[0m\u001b[1;33m\u001b[0m\u001b[1;33m\u001b[0m\u001b[0m\n\u001b[0;32m    192\u001b[0m \u001b[1;33m\u001b[0m\u001b[0m\n",
      "\u001b[1;32m~\\Anaconda\\lib\\site-packages\\statsmodels\\base\\model.py\u001b[0m in \u001b[0;36m__init__\u001b[1;34m(self, endog, exog, **kwargs)\u001b[0m\n\u001b[0;32m    235\u001b[0m \u001b[1;33m\u001b[0m\u001b[0m\n\u001b[0;32m    236\u001b[0m     \u001b[1;32mdef\u001b[0m \u001b[0m__init__\u001b[0m\u001b[1;33m(\u001b[0m\u001b[0mself\u001b[0m\u001b[1;33m,\u001b[0m \u001b[0mendog\u001b[0m\u001b[1;33m,\u001b[0m \u001b[0mexog\u001b[0m\u001b[1;33m=\u001b[0m\u001b[1;32mNone\u001b[0m\u001b[1;33m,\u001b[0m \u001b[1;33m**\u001b[0m\u001b[0mkwargs\u001b[0m\u001b[1;33m)\u001b[0m\u001b[1;33m:\u001b[0m\u001b[1;33m\u001b[0m\u001b[1;33m\u001b[0m\u001b[0m\n\u001b[1;32m--> 237\u001b[1;33m         \u001b[0msuper\u001b[0m\u001b[1;33m(\u001b[0m\u001b[0mLikelihoodModel\u001b[0m\u001b[1;33m,\u001b[0m \u001b[0mself\u001b[0m\u001b[1;33m)\u001b[0m\u001b[1;33m.\u001b[0m\u001b[0m__init__\u001b[0m\u001b[1;33m(\u001b[0m\u001b[0mendog\u001b[0m\u001b[1;33m,\u001b[0m \u001b[0mexog\u001b[0m\u001b[1;33m,\u001b[0m \u001b[1;33m**\u001b[0m\u001b[0mkwargs\u001b[0m\u001b[1;33m)\u001b[0m\u001b[1;33m\u001b[0m\u001b[1;33m\u001b[0m\u001b[0m\n\u001b[0m\u001b[0;32m    238\u001b[0m         \u001b[0mself\u001b[0m\u001b[1;33m.\u001b[0m\u001b[0minitialize\u001b[0m\u001b[1;33m(\u001b[0m\u001b[1;33m)\u001b[0m\u001b[1;33m\u001b[0m\u001b[1;33m\u001b[0m\u001b[0m\n\u001b[0;32m    239\u001b[0m \u001b[1;33m\u001b[0m\u001b[0m\n",
      "\u001b[1;32m~\\Anaconda\\lib\\site-packages\\statsmodels\\base\\model.py\u001b[0m in \u001b[0;36m__init__\u001b[1;34m(self, endog, exog, **kwargs)\u001b[0m\n\u001b[0;32m     75\u001b[0m         \u001b[0mmissing\u001b[0m \u001b[1;33m=\u001b[0m \u001b[0mkwargs\u001b[0m\u001b[1;33m.\u001b[0m\u001b[0mpop\u001b[0m\u001b[1;33m(\u001b[0m\u001b[1;34m'missing'\u001b[0m\u001b[1;33m,\u001b[0m \u001b[1;34m'none'\u001b[0m\u001b[1;33m)\u001b[0m\u001b[1;33m\u001b[0m\u001b[1;33m\u001b[0m\u001b[0m\n\u001b[0;32m     76\u001b[0m         \u001b[0mhasconst\u001b[0m \u001b[1;33m=\u001b[0m \u001b[0mkwargs\u001b[0m\u001b[1;33m.\u001b[0m\u001b[0mpop\u001b[0m\u001b[1;33m(\u001b[0m\u001b[1;34m'hasconst'\u001b[0m\u001b[1;33m,\u001b[0m \u001b[1;32mNone\u001b[0m\u001b[1;33m)\u001b[0m\u001b[1;33m\u001b[0m\u001b[1;33m\u001b[0m\u001b[0m\n\u001b[1;32m---> 77\u001b[1;33m         self.data = self._handle_data(endog, exog, missing, hasconst,\n\u001b[0m\u001b[0;32m     78\u001b[0m                                       **kwargs)\n\u001b[0;32m     79\u001b[0m         \u001b[0mself\u001b[0m\u001b[1;33m.\u001b[0m\u001b[0mk_constant\u001b[0m \u001b[1;33m=\u001b[0m \u001b[0mself\u001b[0m\u001b[1;33m.\u001b[0m\u001b[0mdata\u001b[0m\u001b[1;33m.\u001b[0m\u001b[0mk_constant\u001b[0m\u001b[1;33m\u001b[0m\u001b[1;33m\u001b[0m\u001b[0m\n",
      "\u001b[1;32m~\\Anaconda\\lib\\site-packages\\statsmodels\\base\\model.py\u001b[0m in \u001b[0;36m_handle_data\u001b[1;34m(self, endog, exog, missing, hasconst, **kwargs)\u001b[0m\n\u001b[0;32m     99\u001b[0m \u001b[1;33m\u001b[0m\u001b[0m\n\u001b[0;32m    100\u001b[0m     \u001b[1;32mdef\u001b[0m \u001b[0m_handle_data\u001b[0m\u001b[1;33m(\u001b[0m\u001b[0mself\u001b[0m\u001b[1;33m,\u001b[0m \u001b[0mendog\u001b[0m\u001b[1;33m,\u001b[0m \u001b[0mexog\u001b[0m\u001b[1;33m,\u001b[0m \u001b[0mmissing\u001b[0m\u001b[1;33m,\u001b[0m \u001b[0mhasconst\u001b[0m\u001b[1;33m,\u001b[0m \u001b[1;33m**\u001b[0m\u001b[0mkwargs\u001b[0m\u001b[1;33m)\u001b[0m\u001b[1;33m:\u001b[0m\u001b[1;33m\u001b[0m\u001b[1;33m\u001b[0m\u001b[0m\n\u001b[1;32m--> 101\u001b[1;33m         \u001b[0mdata\u001b[0m \u001b[1;33m=\u001b[0m \u001b[0mhandle_data\u001b[0m\u001b[1;33m(\u001b[0m\u001b[0mendog\u001b[0m\u001b[1;33m,\u001b[0m \u001b[0mexog\u001b[0m\u001b[1;33m,\u001b[0m \u001b[0mmissing\u001b[0m\u001b[1;33m,\u001b[0m \u001b[0mhasconst\u001b[0m\u001b[1;33m,\u001b[0m \u001b[1;33m**\u001b[0m\u001b[0mkwargs\u001b[0m\u001b[1;33m)\u001b[0m\u001b[1;33m\u001b[0m\u001b[1;33m\u001b[0m\u001b[0m\n\u001b[0m\u001b[0;32m    102\u001b[0m         \u001b[1;31m# kwargs arrays could have changed, easier to just attach here\u001b[0m\u001b[1;33m\u001b[0m\u001b[1;33m\u001b[0m\u001b[1;33m\u001b[0m\u001b[0m\n\u001b[0;32m    103\u001b[0m         \u001b[1;32mfor\u001b[0m \u001b[0mkey\u001b[0m \u001b[1;32min\u001b[0m \u001b[0mkwargs\u001b[0m\u001b[1;33m:\u001b[0m\u001b[1;33m\u001b[0m\u001b[1;33m\u001b[0m\u001b[0m\n",
      "\u001b[1;32m~\\Anaconda\\lib\\site-packages\\statsmodels\\base\\data.py\u001b[0m in \u001b[0;36mhandle_data\u001b[1;34m(endog, exog, missing, hasconst, **kwargs)\u001b[0m\n\u001b[0;32m    670\u001b[0m \u001b[1;33m\u001b[0m\u001b[0m\n\u001b[0;32m    671\u001b[0m     \u001b[0mklass\u001b[0m \u001b[1;33m=\u001b[0m \u001b[0mhandle_data_class_factory\u001b[0m\u001b[1;33m(\u001b[0m\u001b[0mendog\u001b[0m\u001b[1;33m,\u001b[0m \u001b[0mexog\u001b[0m\u001b[1;33m)\u001b[0m\u001b[1;33m\u001b[0m\u001b[1;33m\u001b[0m\u001b[0m\n\u001b[1;32m--> 672\u001b[1;33m     return klass(endog, exog=exog, missing=missing, hasconst=hasconst,\n\u001b[0m\u001b[0;32m    673\u001b[0m                  **kwargs)\n",
      "\u001b[1;32m~\\Anaconda\\lib\\site-packages\\statsmodels\\base\\data.py\u001b[0m in \u001b[0;36m__init__\u001b[1;34m(self, endog, exog, missing, hasconst, **kwargs)\u001b[0m\n\u001b[0;32m     86\u001b[0m         \u001b[0mself\u001b[0m\u001b[1;33m.\u001b[0m\u001b[0mk_constant\u001b[0m \u001b[1;33m=\u001b[0m \u001b[1;36m0\u001b[0m\u001b[1;33m\u001b[0m\u001b[1;33m\u001b[0m\u001b[0m\n\u001b[0;32m     87\u001b[0m         \u001b[0mself\u001b[0m\u001b[1;33m.\u001b[0m\u001b[0m_handle_constant\u001b[0m\u001b[1;33m(\u001b[0m\u001b[0mhasconst\u001b[0m\u001b[1;33m)\u001b[0m\u001b[1;33m\u001b[0m\u001b[1;33m\u001b[0m\u001b[0m\n\u001b[1;32m---> 88\u001b[1;33m         \u001b[0mself\u001b[0m\u001b[1;33m.\u001b[0m\u001b[0m_check_integrity\u001b[0m\u001b[1;33m(\u001b[0m\u001b[1;33m)\u001b[0m\u001b[1;33m\u001b[0m\u001b[1;33m\u001b[0m\u001b[0m\n\u001b[0m\u001b[0;32m     89\u001b[0m         \u001b[0mself\u001b[0m\u001b[1;33m.\u001b[0m\u001b[0m_cache\u001b[0m \u001b[1;33m=\u001b[0m \u001b[1;33m{\u001b[0m\u001b[1;33m}\u001b[0m\u001b[1;33m\u001b[0m\u001b[1;33m\u001b[0m\u001b[0m\n\u001b[0;32m     90\u001b[0m \u001b[1;33m\u001b[0m\u001b[0m\n",
      "\u001b[1;32m~\\Anaconda\\lib\\site-packages\\statsmodels\\base\\data.py\u001b[0m in \u001b[0;36m_check_integrity\u001b[1;34m(self)\u001b[0m\n\u001b[0;32m    530\u001b[0m                 \u001b[1;33m(\u001b[0m\u001b[0mhasattr\u001b[0m\u001b[1;33m(\u001b[0m\u001b[0mendog\u001b[0m\u001b[1;33m,\u001b[0m \u001b[1;34m'index'\u001b[0m\u001b[1;33m)\u001b[0m \u001b[1;32mand\u001b[0m \u001b[0mhasattr\u001b[0m\u001b[1;33m(\u001b[0m\u001b[0mexog\u001b[0m\u001b[1;33m,\u001b[0m \u001b[1;34m'index'\u001b[0m\u001b[1;33m)\u001b[0m\u001b[1;33m)\u001b[0m \u001b[1;32mand\u001b[0m\u001b[1;33m\u001b[0m\u001b[1;33m\u001b[0m\u001b[0m\n\u001b[0;32m    531\u001b[0m                 not self.orig_endog.index.equals(self.orig_exog.index)):\n\u001b[1;32m--> 532\u001b[1;33m             \u001b[1;32mraise\u001b[0m \u001b[0mValueError\u001b[0m\u001b[1;33m(\u001b[0m\u001b[1;34m\"The indices for endog and exog are not aligned\"\u001b[0m\u001b[1;33m)\u001b[0m\u001b[1;33m\u001b[0m\u001b[1;33m\u001b[0m\u001b[0m\n\u001b[0m\u001b[0;32m    533\u001b[0m         \u001b[0msuper\u001b[0m\u001b[1;33m(\u001b[0m\u001b[0mPandasData\u001b[0m\u001b[1;33m,\u001b[0m \u001b[0mself\u001b[0m\u001b[1;33m)\u001b[0m\u001b[1;33m.\u001b[0m\u001b[0m_check_integrity\u001b[0m\u001b[1;33m(\u001b[0m\u001b[1;33m)\u001b[0m\u001b[1;33m\u001b[0m\u001b[1;33m\u001b[0m\u001b[0m\n\u001b[0;32m    534\u001b[0m \u001b[1;33m\u001b[0m\u001b[0m\n",
      "\u001b[1;31mValueError\u001b[0m: The indices for endog and exog are not aligned"
     ]
    }
   ],
   "source": [
    "X = sm.add_constant(x1)\n",
    "results_cereals = sm.OLS(y,X).fit()\n",
    "results_cereals.summary()"
   ]
  },
  {
   "cell_type": "markdown",
   "metadata": {},
   "source": [
    "## Subseting Poland"
   ]
  },
  {
   "cell_type": "markdown",
   "metadata": {},
   "source": [
    "#### Subseting Poland from the global dataset and then transforming the \"dt\" column into a Python Date time object."
   ]
  },
  {
   "cell_type": "code",
   "execution_count": 152,
   "metadata": {},
   "outputs": [
    {
     "ename": "NameError",
     "evalue": "name 'global_data' is not defined",
     "output_type": "error",
     "traceback": [
      "\u001b[1;31m---------------------------------------------------------------------------\u001b[0m",
      "\u001b[1;31mNameError\u001b[0m                                 Traceback (most recent call last)",
      "\u001b[1;32m<ipython-input-152-b538db4f5b83>\u001b[0m in \u001b[0;36m<module>\u001b[1;34m\u001b[0m\n\u001b[1;32m----> 1\u001b[1;33m \u001b[0mdata_poland\u001b[0m \u001b[1;33m=\u001b[0m \u001b[0mglobal_data\u001b[0m\u001b[1;33m[\u001b[0m\u001b[0mglobal_data\u001b[0m\u001b[1;33m[\u001b[0m\u001b[1;34m\"Country\"\u001b[0m\u001b[1;33m]\u001b[0m\u001b[1;33m==\u001b[0m\u001b[1;34m\"Poland\"\u001b[0m\u001b[1;33m]\u001b[0m\u001b[1;33m.\u001b[0m\u001b[0mcopy\u001b[0m\u001b[1;33m(\u001b[0m\u001b[1;33m)\u001b[0m\u001b[1;33m\u001b[0m\u001b[1;33m\u001b[0m\u001b[0m\n\u001b[0m\u001b[0;32m      2\u001b[0m \u001b[0mdata_poland\u001b[0m\u001b[1;33m[\u001b[0m\u001b[1;34m\"dt\"\u001b[0m\u001b[1;33m]\u001b[0m \u001b[1;33m=\u001b[0m \u001b[0mpd\u001b[0m\u001b[1;33m.\u001b[0m\u001b[0mto_datetime\u001b[0m\u001b[1;33m(\u001b[0m\u001b[0mdata_poland\u001b[0m\u001b[1;33m[\u001b[0m\u001b[1;34m\"dt\"\u001b[0m\u001b[1;33m]\u001b[0m\u001b[1;33m)\u001b[0m\u001b[1;33m\u001b[0m\u001b[1;33m\u001b[0m\u001b[0m\n",
      "\u001b[1;31mNameError\u001b[0m: name 'global_data' is not defined"
     ]
    }
   ],
   "source": [
    "data_poland = global_data[global_data[\"Country\"]==\"Poland\"].copy()\n",
    "data_poland[\"dt\"] = pd.to_datetime(data_poland[\"dt\"])"
   ]
  },
  {
   "cell_type": "markdown",
   "metadata": {},
   "source": [
    "*Checking the amount of NAN in the data set*"
   ]
  },
  {
   "cell_type": "code",
   "execution_count": null,
   "metadata": {},
   "outputs": [
    {
     "data": {
      "text/plain": [
       "dt                                0\n",
       "AverageTemperature               73\n",
       "AverageTemperatureUncertainty    73\n",
       "Country                           0\n",
       "dtype: int64"
      ]
     },
     "execution_count": 4,
     "metadata": {},
     "output_type": "execute_result"
    }
   ],
   "source": [
    "data_poland.isna().sum()"
   ]
  },
  {
   "cell_type": "markdown",
   "metadata": {},
   "source": [
    "*deleting the NAN in the dataset*"
   ]
  },
  {
   "cell_type": "code",
   "execution_count": null,
   "metadata": {},
   "outputs": [],
   "source": [
    "data_poland = data_poland.dropna()"
   ]
  },
  {
   "cell_type": "code",
   "execution_count": null,
   "metadata": {},
   "outputs": [
    {
     "data": {
      "text/plain": [
       "dt                               0\n",
       "AverageTemperature               0\n",
       "AverageTemperatureUncertainty    0\n",
       "Country                          0\n",
       "dtype: int64"
      ]
     },
     "execution_count": 6,
     "metadata": {},
     "output_type": "execute_result"
    }
   ],
   "source": [
    "data_poland.isna().sum()"
   ]
  },
  {
   "cell_type": "markdown",
   "metadata": {},
   "source": [
    "*Grouping data by year*"
   ]
  },
  {
   "cell_type": "code",
   "execution_count": null,
   "metadata": {},
   "outputs": [
    {
     "data": {
      "text/html": [
       "<div>\n",
       "<style scoped>\n",
       "    .dataframe tbody tr th:only-of-type {\n",
       "        vertical-align: middle;\n",
       "    }\n",
       "\n",
       "    .dataframe tbody tr th {\n",
       "        vertical-align: top;\n",
       "    }\n",
       "\n",
       "    .dataframe thead th {\n",
       "        text-align: right;\n",
       "    }\n",
       "</style>\n",
       "<table border=\"1\" class=\"dataframe\">\n",
       "  <thead>\n",
       "    <tr style=\"text-align: right;\">\n",
       "      <th></th>\n",
       "      <th>AverageTemperature</th>\n",
       "      <th>AverageTemperatureUncertainty</th>\n",
       "    </tr>\n",
       "    <tr>\n",
       "      <th>dt</th>\n",
       "      <th></th>\n",
       "      <th></th>\n",
       "    </tr>\n",
       "  </thead>\n",
       "  <tbody>\n",
       "    <tr>\n",
       "      <th>1743</th>\n",
       "      <td>3.937000</td>\n",
       "      <td>2.057000</td>\n",
       "    </tr>\n",
       "    <tr>\n",
       "      <th>1744</th>\n",
       "      <td>9.321125</td>\n",
       "      <td>2.025375</td>\n",
       "    </tr>\n",
       "    <tr>\n",
       "      <th>1745</th>\n",
       "      <td>-0.971750</td>\n",
       "      <td>1.790500</td>\n",
       "    </tr>\n",
       "    <tr>\n",
       "      <th>1750</th>\n",
       "      <td>8.344818</td>\n",
       "      <td>2.028636</td>\n",
       "    </tr>\n",
       "    <tr>\n",
       "      <th>1751</th>\n",
       "      <td>8.283625</td>\n",
       "      <td>1.974625</td>\n",
       "    </tr>\n",
       "    <tr>\n",
       "      <th>...</th>\n",
       "      <td>...</td>\n",
       "      <td>...</td>\n",
       "    </tr>\n",
       "    <tr>\n",
       "      <th>2009</th>\n",
       "      <td>8.652917</td>\n",
       "      <td>0.232667</td>\n",
       "    </tr>\n",
       "    <tr>\n",
       "      <th>2010</th>\n",
       "      <td>7.621417</td>\n",
       "      <td>0.221750</td>\n",
       "    </tr>\n",
       "    <tr>\n",
       "      <th>2011</th>\n",
       "      <td>8.951667</td>\n",
       "      <td>0.269667</td>\n",
       "    </tr>\n",
       "    <tr>\n",
       "      <th>2012</th>\n",
       "      <td>8.537750</td>\n",
       "      <td>0.302917</td>\n",
       "    </tr>\n",
       "    <tr>\n",
       "      <th>2013</th>\n",
       "      <td>9.257875</td>\n",
       "      <td>0.323250</td>\n",
       "    </tr>\n",
       "  </tbody>\n",
       "</table>\n",
       "<p>267 rows × 2 columns</p>\n",
       "</div>"
      ],
      "text/plain": [
       "      AverageTemperature  AverageTemperatureUncertainty\n",
       "dt                                                     \n",
       "1743            3.937000                       2.057000\n",
       "1744            9.321125                       2.025375\n",
       "1745           -0.971750                       1.790500\n",
       "1750            8.344818                       2.028636\n",
       "1751            8.283625                       1.974625\n",
       "...                  ...                            ...\n",
       "2009            8.652917                       0.232667\n",
       "2010            7.621417                       0.221750\n",
       "2011            8.951667                       0.269667\n",
       "2012            8.537750                       0.302917\n",
       "2013            9.257875                       0.323250\n",
       "\n",
       "[267 rows x 2 columns]"
      ]
     },
     "execution_count": 7,
     "metadata": {},
     "output_type": "execute_result"
    }
   ],
   "source": [
    "annual_mean_Poland = data_poland.groupby(data_poland[\"dt\"].dt.year).mean()\n",
    "annual_mean_Poland"
   ]
  },
  {
   "cell_type": "markdown",
   "metadata": {},
   "source": [
    "*Reference mean temperature of the 1951-1980 period to establish the global base mean temperature. This is standard practice in climate science.*"
   ]
  },
  {
   "cell_type": "code",
   "execution_count": null,
   "metadata": {},
   "outputs": [],
   "source": [
    "reference_temperature_poland = annual_mean_Poland.loc[1951:1980].mean()[\"AverageTemperature\"]\n",
    "annual_mean_Poland[\"Anomaly\"] = annual_mean_Poland[\"AverageTemperature\"] - reference_temperature_poland"
   ]
  },
  {
   "cell_type": "markdown",
   "metadata": {},
   "source": [
    "### Plotting"
   ]
  },
  {
   "cell_type": "code",
   "execution_count": null,
   "metadata": {},
   "outputs": [
    {
     "data": {
      "text/html": [
       "<div>\n",
       "<style scoped>\n",
       "    .dataframe tbody tr th:only-of-type {\n",
       "        vertical-align: middle;\n",
       "    }\n",
       "\n",
       "    .dataframe tbody tr th {\n",
       "        vertical-align: top;\n",
       "    }\n",
       "\n",
       "    .dataframe thead th {\n",
       "        text-align: right;\n",
       "    }\n",
       "</style>\n",
       "<table border=\"1\" class=\"dataframe\">\n",
       "  <thead>\n",
       "    <tr style=\"text-align: right;\">\n",
       "      <th></th>\n",
       "      <th>AverageTemperature</th>\n",
       "      <th>AverageTemperatureUncertainty</th>\n",
       "      <th>Anomaly</th>\n",
       "    </tr>\n",
       "    <tr>\n",
       "      <th>dt</th>\n",
       "      <th></th>\n",
       "      <th></th>\n",
       "      <th></th>\n",
       "    </tr>\n",
       "  </thead>\n",
       "  <tbody>\n",
       "    <tr>\n",
       "      <th>1743</th>\n",
       "      <td>3.937000</td>\n",
       "      <td>2.057000</td>\n",
       "      <td>-3.637175</td>\n",
       "    </tr>\n",
       "    <tr>\n",
       "      <th>1744</th>\n",
       "      <td>9.321125</td>\n",
       "      <td>2.025375</td>\n",
       "      <td>1.746950</td>\n",
       "    </tr>\n",
       "    <tr>\n",
       "      <th>1745</th>\n",
       "      <td>-0.971750</td>\n",
       "      <td>1.790500</td>\n",
       "      <td>-8.545925</td>\n",
       "    </tr>\n",
       "    <tr>\n",
       "      <th>1750</th>\n",
       "      <td>8.344818</td>\n",
       "      <td>2.028636</td>\n",
       "      <td>0.770643</td>\n",
       "    </tr>\n",
       "    <tr>\n",
       "      <th>1751</th>\n",
       "      <td>8.283625</td>\n",
       "      <td>1.974625</td>\n",
       "      <td>0.709450</td>\n",
       "    </tr>\n",
       "    <tr>\n",
       "      <th>...</th>\n",
       "      <td>...</td>\n",
       "      <td>...</td>\n",
       "      <td>...</td>\n",
       "    </tr>\n",
       "    <tr>\n",
       "      <th>2009</th>\n",
       "      <td>8.652917</td>\n",
       "      <td>0.232667</td>\n",
       "      <td>1.078742</td>\n",
       "    </tr>\n",
       "    <tr>\n",
       "      <th>2010</th>\n",
       "      <td>7.621417</td>\n",
       "      <td>0.221750</td>\n",
       "      <td>0.047242</td>\n",
       "    </tr>\n",
       "    <tr>\n",
       "      <th>2011</th>\n",
       "      <td>8.951667</td>\n",
       "      <td>0.269667</td>\n",
       "      <td>1.377492</td>\n",
       "    </tr>\n",
       "    <tr>\n",
       "      <th>2012</th>\n",
       "      <td>8.537750</td>\n",
       "      <td>0.302917</td>\n",
       "      <td>0.963575</td>\n",
       "    </tr>\n",
       "    <tr>\n",
       "      <th>2013</th>\n",
       "      <td>9.257875</td>\n",
       "      <td>0.323250</td>\n",
       "      <td>1.683700</td>\n",
       "    </tr>\n",
       "  </tbody>\n",
       "</table>\n",
       "<p>267 rows × 3 columns</p>\n",
       "</div>"
      ],
      "text/plain": [
       "      AverageTemperature  AverageTemperatureUncertainty   Anomaly\n",
       "dt                                                               \n",
       "1743            3.937000                       2.057000 -3.637175\n",
       "1744            9.321125                       2.025375  1.746950\n",
       "1745           -0.971750                       1.790500 -8.545925\n",
       "1750            8.344818                       2.028636  0.770643\n",
       "1751            8.283625                       1.974625  0.709450\n",
       "...                  ...                            ...       ...\n",
       "2009            8.652917                       0.232667  1.078742\n",
       "2010            7.621417                       0.221750  0.047242\n",
       "2011            8.951667                       0.269667  1.377492\n",
       "2012            8.537750                       0.302917  0.963575\n",
       "2013            9.257875                       0.323250  1.683700\n",
       "\n",
       "[267 rows x 3 columns]"
      ]
     },
     "execution_count": 9,
     "metadata": {},
     "output_type": "execute_result"
    }
   ],
   "source": [
    "annual_mean_Poland"
   ]
  },
  {
   "cell_type": "code",
   "execution_count": null,
   "metadata": {},
   "outputs": [],
   "source": [
    "y = annual_mean_Poland[\"AverageTemperature\"]\n",
    "y_mean = [np.mean]"
   ]
  },
  {
   "cell_type": "code",
   "execution_count": null,
   "metadata": {},
   "outputs": [
    {
     "data": {
      "text/plain": [
       "[<matplotlib.lines.Line2D at 0x15d5be1f820>]"
      ]
     },
     "execution_count": 11,
     "metadata": {},
     "output_type": "execute_result"
    },
    {
     "data": {
      "image/png": "[encoded data removed]",
      "text/plain": [
       "<Figure size 432x288 with 1 Axes>"
      ]
     },
     "metadata": {
      "needs_background": "light"
     },
     "output_type": "display_data"
    }
   ],
   "source": [
    "plt.plot(annual_mean_Poland[\"AverageTemperature\"],\n",
    "         color = \"green\",\n",
    "         linewidth = 2,\n",
    "         markersize = 12)"
   ]
  },
  {
   "cell_type": "code",
   "execution_count": null,
   "metadata": {},
   "outputs": [
    {
     "data": {
      "text/plain": [
       "{'whiskers': [<matplotlib.lines.Line2D at 0x15d5c3020a0>,\n",
       "  <matplotlib.lines.Line2D at 0x15d5c302400>,\n",
       "  <matplotlib.lines.Line2D at 0x15d5c30e8b0>,\n",
       "  <matplotlib.lines.Line2D at 0x15d5c30ec10>,\n",
       "  <matplotlib.lines.Line2D at 0x15d5c3250d0>,\n",
       "  <matplotlib.lines.Line2D at 0x15d5c325430>],\n",
       " 'caps': [<matplotlib.lines.Line2D at 0x15d5c302760>,\n",
       "  <matplotlib.lines.Line2D at 0x15d5c302ac0>,\n",
       "  <matplotlib.lines.Line2D at 0x15d5c30ef70>,\n",
       "  <matplotlib.lines.Line2D at 0x15d5c319310>,\n",
       "  <matplotlib.lines.Line2D at 0x15d5c325790>,\n",
       "  <matplotlib.lines.Line2D at 0x15d5c325af0>],\n",
       " 'boxes': [<matplotlib.lines.Line2D at 0x15d5c2b3d00>,\n",
       "  <matplotlib.lines.Line2D at 0x15d5c30e550>,\n",
       "  <matplotlib.lines.Line2D at 0x15d5c319d30>],\n",
       " 'medians': [<matplotlib.lines.Line2D at 0x15d5c302e20>,\n",
       "  <matplotlib.lines.Line2D at 0x15d5c319670>,\n",
       "  <matplotlib.lines.Line2D at 0x15d5c325e50>],\n",
       " 'fliers': [<matplotlib.lines.Line2D at 0x15d5c30e1c0>,\n",
       "  <matplotlib.lines.Line2D at 0x15d5c3199d0>,\n",
       "  <matplotlib.lines.Line2D at 0x15d5c3301f0>],\n",
       " 'means': []}"
      ]
     },
     "execution_count": 14,
     "metadata": {},
     "output_type": "execute_result"
    },
    {
     "data": {
      "image/png": "[encoded data removed]",
      "text/plain": [
       "<Figure size 432x288 with 1 Axes>"
      ]
     },
     "metadata": {
      "needs_background": "light"
     },
     "output_type": "display_data"
    }
   ],
   "source": [
    "plt.boxplot(annual_mean_Poland)"
   ]
  },
  {
   "cell_type": "code",
   "execution_count": null,
   "metadata": {},
   "outputs": [
    {
     "data": {
      "text/plain": [
       "(array([  1.,   0.,   0.,   1.,   1.,   2.,  29., 105., 103.,  25.]),\n",
       " array([-0.97175   ,  0.08764167,  1.14703333,  2.206425  ,  3.26581667,\n",
       "         4.32520833,  5.3846    ,  6.44399167,  7.50338333,  8.562775  ,\n",
       "         9.62216667]),\n",
       " <BarContainer object of 10 artists>)"
      ]
     },
     "execution_count": 20,
     "metadata": {},
     "output_type": "execute_result"
    },
    {
     "data": {
      "image/png": "[encoded data removed]",
      "text/plain": [
       "<Figure size 432x288 with 1 Axes>"
      ]
     },
     "metadata": {
      "needs_background": "light"
     },
     "output_type": "display_data"
    }
   ],
   "source": [
    "plt.hist(annual_mean_Poland[\"AverageTemperature\"])"
   ]
  },
  {
   "cell_type": "code",
   "execution_count": null,
   "metadata": {},
   "outputs": [
    {
     "data": {
      "text/plain": [
       "<AxesSubplot:xlabel='Anomaly', ylabel='AverageTemperature'>"
      ]
     },
     "execution_count": 21,
     "metadata": {},
     "output_type": "execute_result"
    },
    {
     "data": {
      "image/png": "[encoded data removed]",
      "text/plain": [
       "<Figure size 432x288 with 1 Axes>"
      ]
     },
     "metadata": {
      "needs_background": "light"
     },
     "output_type": "display_data"
    }
   ],
   "source": [
    "sns.scatterplot(x=\"Anomaly\", y= \"AverageTemperature\", data = annual_mean_Poland)"
   ]
  }
 ],
 "metadata": {
  "interpreter": {
   "hash": "a41f48461941a5aefc82610e94371dafd9500cffa630c3ca9566e477af78c3ed"
  },
  "kernelspec": {
   "display_name": "Python 3.8.5 ('base')",
   "language": "python",
   "name": "python3"
  },
  "language_info": {
   "codemirror_mode": {
    "name": "ipython",
    "version": 3
   },
   "file_extension": ".py",
   "mimetype": "text/x-python",
   "name": "python",
   "nbconvert_exporter": "python",
   "pygments_lexer": "ipython3",
   "version": "3.8.5"
  },
  "orig_nbformat": 4
 },
 "nbformat": 4,
 "nbformat_minor": 2
}
