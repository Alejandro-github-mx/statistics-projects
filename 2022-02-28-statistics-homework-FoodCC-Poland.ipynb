{
 "cells": [
  {
   "cell_type": "markdown",
   "metadata": {},
   "source": [
    "# Final homework"
   ]
  },
  {
   "cell_type": "markdown",
   "metadata": {},
   "source": [
    "*Akademia Leona Kozminskiego*\n",
    "#### Descriptive Statistics\n"
   ]
  },
  {
   "cell_type": "markdown",
   "metadata": {},
   "source": [
    "*Prof.* Katarzyna Piotrowska <br>\n",
    "*Student* Alejandro Guzmán Rivera (*23-DS*)"
   ]
  },
  {
   "cell_type": "markdown",
   "metadata": {},
   "source": [
    "**Instructions** <br>\n",
    "\n",
    "A simple quantitative, explanatory research (for 5: with the theory-based justification of the hypothesis i.e. literature review with references etc.). At least one variable on the qualitative level of measurement (categorical or ordinal) and one on the quantitative (interval or ratio) level of measurement.<br>\n",
    "\n",
    "1. Research question and hypothesis (if applicable) – is the research descriptive or explanatory?\n",
    "2. Variables’ definitions (conceptualisation)\n",
    "3. Operationalisation (variables’ indicators, their levels and levels of measurement)\n",
    "4. Subject of the study: observation unit\n",
    "5. Data collection procedure\n",
    "6. Data analysis\n",
    "7. Sample description\n",
    "8. Bivariate and/or multivariate analyses (at least two different) with the justification of the choice of\n",
    "the method and interpretation of the results\n",
    "9. The purpose of use descriptive statistics (sample description, the answer to research question, other)\n",
    "10. Conclusions/discussion"
   ]
  },
  {
   "cell_type": "markdown",
   "metadata": {},
   "source": [
    "## 1. Research question"
   ]
  },
  {
   "cell_type": "markdown",
   "metadata": {},
   "source": [
    "* What is the impact of crops production in Poland in Greenhouse Gasses (GHG), specifically Nitrous Oxide through the period 1961-2019? "
   ]
  },
  {
   "cell_type": "markdown",
   "metadata": {},
   "source": [
    "## 2. Hypothesis"
   ]
  },
  {
   "cell_type": "markdown",
   "metadata": {},
   "source": [
    "* There is a positive correlation between Cereals, Roots and Tubers and Potatoes production and Nitrous Oxide (N2O) emissions in Poland during the period 1971 to 2018."
   ]
  },
  {
   "cell_type": "markdown",
   "metadata": {},
   "source": [
    "## 3. Variables definition"
   ]
  },
  {
   "cell_type": "code",
   "execution_count": 117,
   "metadata": {},
   "outputs": [
    {
     "name": "stdout",
     "output_type": "stream",
     "text": [
      "╒═════════════════════════╤════════════════════╤═════════════════════════════╤═════════════════════╕\n",
      "│ y                       │ x1                 │ x2                          │ x3                  │\n",
      "╞═════════════════════════╪════════════════════╪═════════════════════════════╪═════════════════════╡\n",
      "│ Nitrous Oxide emissions │ Cereals production │ Roots and Tubers production │ Potatoes production │\n",
      "╘═════════════════════════╧════════════════════╧═════════════════════════════╧═════════════════════╛\n"
     ]
    }
   ],
   "source": [
    "variables_defi = {\"y\": [\"Nitrous Oxide emissions\"], \n",
    "                  \"x1\": [\"Cereals production\"] ,\n",
    "                  \"x2\": [\"Roots and Tubers production\"],\n",
    "                  \"x3\": [\"Potatoes production\"]}\n",
    "print(tabulate(variables_defi, headers=\"keys\", tablefmt=\"fancy_grid\"))"
   ]
  },
  {
   "cell_type": "markdown",
   "metadata": {},
   "source": [
    "## 4. Subject of study"
   ]
  },
  {
   "cell_type": "markdown",
   "metadata": {},
   "source": [
    "Nitrous Oxide (N2O) emissions according to crops production."
   ]
  },
  {
   "cell_type": "markdown",
   "metadata": {},
   "source": [
    "## 5. Data collection procedure"
   ]
  },
  {
   "cell_type": "markdown",
   "metadata": {},
   "source": [
    "### 5.1 Crop production data collection procedure"
   ]
  },
  {
   "cell_type": "markdown",
   "metadata": {},
   "source": [
    "#### 5.1.1 Importing libraries"
   ]
  },
  {
   "cell_type": "code",
   "execution_count": 208,
   "metadata": {},
   "outputs": [],
   "source": [
    "# Tables creation\n",
    "from tabulate import tabulate\n",
    "\n",
    "# Tables manipulation and numbers formatting\n",
    "import pandas as pd\n",
    "pd.options.display.float_format = '{:,.2f}'.format\n",
    "\n",
    "# Statistical analysis\n",
    "from matplotlib import pyplot as plt\n",
    "from mpl_toolkits.mplot3d import Axes3D\n",
    "\n",
    "import numpy as np\n",
    "import statsmodels.api as sm\n",
    "import statsmodels.formula.api as smf  \n",
    "\n",
    "# Graphics creation and aesthetics\n",
    "import seaborn as sns\n",
    "sns.set()\n"
   ]
  },
  {
   "cell_type": "markdown",
   "metadata": {},
   "source": [
    "#### 5.1.2 Importing the crops dataset"
   ]
  },
  {
   "cell_type": "markdown",
   "metadata": {},
   "source": [
    "The dataset was obtained from *data.world* which in turn, was taken from the Food and Agriculture Organization of the United Nations (FAO). Specifically, the crop production dataset was taken, which contains statistics of 173 farm products around the world. The original dataset was filtered using SQL by area code, in this case \"173\" that corresponds to Poland. <br>"
   ]
  },
  {
   "cell_type": "code",
   "execution_count": 119,
   "metadata": {},
   "outputs": [],
   "source": [
    "data_crops = pd.read_csv(r\"C:\\Users\\USER\\Documents\\Desarrollador\\PYTHON\\2021-Python-exercises\\statistics-projects\\2022-02-18-tarea-phd-statistics\\2019-1961-crop-production-in-Poland-QueryResult.csv\")"
   ]
  },
  {
   "cell_type": "markdown",
   "metadata": {},
   "source": [
    "#### 5.1.3 Revealing the characteristics of the variables in the dataset."
   ]
  },
  {
   "cell_type": "code",
   "execution_count": 120,
   "metadata": {},
   "outputs": [
    {
     "data": {
      "text/plain": [
       "Index(['area_code', 'area', 'item_code', 'item', 'element_code', 'element',\n",
       "       'unit', 'y1971', 'y1972', 'y1973', 'y1974', 'y1975', 'y1976', 'y1977',\n",
       "       'y1978', 'y1979', 'y1980', 'y1981', 'y1982', 'y1983', 'y1984', 'y1985',\n",
       "       'y1986', 'y1987', 'y1988', 'y1989', 'y1990', 'y1991', 'y1992', 'y1993',\n",
       "       'y1994', 'y1995', 'y1996', 'y1997', 'y1998', 'y1999', 'y2000', 'y2001',\n",
       "       'y2002', 'y2003', 'y2004', 'y2005', 'y2006', 'y2007', 'y2008', 'y2009',\n",
       "       'y2010', 'y2011', 'y2012', 'y2013', 'y2014', 'y2015', 'y2016', 'y2017',\n",
       "       'y2018'],\n",
       "      dtype='object')"
      ]
     },
     "execution_count": 120,
     "metadata": {},
     "output_type": "execute_result"
    }
   ],
   "source": [
    "data_crops.columns"
   ]
  },
  {
   "cell_type": "code",
   "execution_count": 121,
   "metadata": {},
   "outputs": [],
   "source": [
    "data_crops_charact = ([[\"Variable\", \"Description\"],\n",
    "                        ['area_code', \"173\"], \n",
    "                        ['area', \"Poland\"], \n",
    "                        ['item_code', \"Product code\"], \n",
    "                        ['item', \"Product name\"], \n",
    "                        ['element_code',\"Code of the element\"], \n",
    "                        ['element',\"Type of production: Production, area harvested, yield\"], \n",
    "                        ['unit',\"Unit of measurement: tonnes, Ha, Hg/Ha\"], \n",
    "                        ['year',\"Years (1961-2019)\"]])"
   ]
  },
  {
   "cell_type": "code",
   "execution_count": 122,
   "metadata": {},
   "outputs": [
    {
     "name": "stdout",
     "output_type": "stream",
     "text": [
      "╒══════════════╤═══════════════════════════════════════════════════════╕\n",
      "│ Variable     │ Description                                           │\n",
      "╞══════════════╪═══════════════════════════════════════════════════════╡\n",
      "│ area_code    │ 173                                                   │\n",
      "├──────────────┼───────────────────────────────────────────────────────┤\n",
      "│ area         │ Poland                                                │\n",
      "├──────────────┼───────────────────────────────────────────────────────┤\n",
      "│ item_code    │ Product code                                          │\n",
      "├──────────────┼───────────────────────────────────────────────────────┤\n",
      "│ item         │ Product name                                          │\n",
      "├──────────────┼───────────────────────────────────────────────────────┤\n",
      "│ element_code │ Code of the element                                   │\n",
      "├──────────────┼───────────────────────────────────────────────────────┤\n",
      "│ element      │ Type of production: Production, area harvested, yield │\n",
      "├──────────────┼───────────────────────────────────────────────────────┤\n",
      "│ unit         │ Unit of measurement: tonnes, Ha, Hg/Ha                │\n",
      "├──────────────┼───────────────────────────────────────────────────────┤\n",
      "│ year         │ Years (1961-2019)                                     │\n",
      "╘══════════════╧═══════════════════════════════════════════════════════╛\n"
     ]
    }
   ],
   "source": [
    "print(tabulate(data_crops_charact, headers= \"firstrow\", tablefmt='fancy_grid'))"
   ]
  },
  {
   "cell_type": "code",
   "execution_count": 123,
   "metadata": {},
   "outputs": [],
   "source": [
    "vars_crops_charact =    ([[\"Variable\", \"Type\", \"Level\"],\n",
    "                        ['area_code', \"Integer\", \"Nominal\"], \n",
    "                        ['area', \"String\", \"Nominal\"], \n",
    "                        ['item_code', \"Integer\", \"Nominal\"], \n",
    "                        ['item', \"String\", \"Nominal\"], \n",
    "                        ['element_code',\"Integer\", \"Nominal\"], \n",
    "                        ['element',\"String\", \"Nominal\"], \n",
    "                        ['unit',\"String\", \"Nominal\"], \n",
    "                        ['year',\"String/Float\", \"Ratio\"]])"
   ]
  },
  {
   "cell_type": "code",
   "execution_count": 124,
   "metadata": {},
   "outputs": [
    {
     "name": "stdout",
     "output_type": "stream",
     "text": [
      "╒══════════════╤══════════════╤═════════╕\n",
      "│ Variable     │ Type         │ Level   │\n",
      "╞══════════════╪══════════════╪═════════╡\n",
      "│ area_code    │ Integer      │ Nominal │\n",
      "├──────────────┼──────────────┼─────────┤\n",
      "│ area         │ String       │ Nominal │\n",
      "├──────────────┼──────────────┼─────────┤\n",
      "│ item_code    │ Integer      │ Nominal │\n",
      "├──────────────┼──────────────┼─────────┤\n",
      "│ item         │ String       │ Nominal │\n",
      "├──────────────┼──────────────┼─────────┤\n",
      "│ element_code │ Integer      │ Nominal │\n",
      "├──────────────┼──────────────┼─────────┤\n",
      "│ element      │ String       │ Nominal │\n",
      "├──────────────┼──────────────┼─────────┤\n",
      "│ unit         │ String       │ Nominal │\n",
      "├──────────────┼──────────────┼─────────┤\n",
      "│ year         │ String/Float │ Ratio   │\n",
      "╘══════════════╧══════════════╧═════════╛\n"
     ]
    }
   ],
   "source": [
    "print(tabulate(vars_crops_charact, headers=\"firstrow\", tablefmt=\"fancy_grid\"))"
   ]
  },
  {
   "cell_type": "markdown",
   "metadata": {},
   "source": [
    "#### 5.1.4 Cleaning process of the \"data_crops\" dataset"
   ]
  },
  {
   "cell_type": "markdown",
   "metadata": {},
   "source": [
    "##### 5.1.4.1 Checking for NAN values"
   ]
  },
  {
   "cell_type": "code",
   "execution_count": 125,
   "metadata": {},
   "outputs": [
    {
     "data": {
      "text/html": [
       "<div>\n",
       "<style scoped>\n",
       "    .dataframe tbody tr th:only-of-type {\n",
       "        vertical-align: middle;\n",
       "    }\n",
       "\n",
       "    .dataframe tbody tr th {\n",
       "        vertical-align: top;\n",
       "    }\n",
       "\n",
       "    .dataframe thead th {\n",
       "        text-align: right;\n",
       "    }\n",
       "</style>\n",
       "<table border=\"1\" class=\"dataframe\">\n",
       "  <thead>\n",
       "    <tr style=\"text-align: right;\">\n",
       "      <th></th>\n",
       "      <th>area_code</th>\n",
       "      <th>area</th>\n",
       "      <th>item_code</th>\n",
       "      <th>item</th>\n",
       "      <th>element_code</th>\n",
       "      <th>element</th>\n",
       "      <th>unit</th>\n",
       "      <th>y1971</th>\n",
       "      <th>y1972</th>\n",
       "      <th>y1973</th>\n",
       "      <th>...</th>\n",
       "      <th>y2009</th>\n",
       "      <th>y2010</th>\n",
       "      <th>y2011</th>\n",
       "      <th>y2012</th>\n",
       "      <th>y2013</th>\n",
       "      <th>y2014</th>\n",
       "      <th>y2015</th>\n",
       "      <th>y2016</th>\n",
       "      <th>y2017</th>\n",
       "      <th>y2018</th>\n",
       "    </tr>\n",
       "  </thead>\n",
       "  <tbody>\n",
       "    <tr>\n",
       "      <th>0</th>\n",
       "      <td>False</td>\n",
       "      <td>False</td>\n",
       "      <td>False</td>\n",
       "      <td>False</td>\n",
       "      <td>False</td>\n",
       "      <td>False</td>\n",
       "      <td>False</td>\n",
       "      <td>True</td>\n",
       "      <td>True</td>\n",
       "      <td>True</td>\n",
       "      <td>...</td>\n",
       "      <td>True</td>\n",
       "      <td>True</td>\n",
       "      <td>True</td>\n",
       "      <td>True</td>\n",
       "      <td>True</td>\n",
       "      <td>True</td>\n",
       "      <td>True</td>\n",
       "      <td>True</td>\n",
       "      <td>True</td>\n",
       "      <td>False</td>\n",
       "    </tr>\n",
       "    <tr>\n",
       "      <th>1</th>\n",
       "      <td>False</td>\n",
       "      <td>False</td>\n",
       "      <td>False</td>\n",
       "      <td>False</td>\n",
       "      <td>False</td>\n",
       "      <td>False</td>\n",
       "      <td>False</td>\n",
       "      <td>True</td>\n",
       "      <td>True</td>\n",
       "      <td>True</td>\n",
       "      <td>...</td>\n",
       "      <td>True</td>\n",
       "      <td>True</td>\n",
       "      <td>True</td>\n",
       "      <td>True</td>\n",
       "      <td>True</td>\n",
       "      <td>True</td>\n",
       "      <td>True</td>\n",
       "      <td>True</td>\n",
       "      <td>True</td>\n",
       "      <td>False</td>\n",
       "    </tr>\n",
       "    <tr>\n",
       "      <th>2</th>\n",
       "      <td>False</td>\n",
       "      <td>False</td>\n",
       "      <td>False</td>\n",
       "      <td>False</td>\n",
       "      <td>False</td>\n",
       "      <td>False</td>\n",
       "      <td>False</td>\n",
       "      <td>True</td>\n",
       "      <td>True</td>\n",
       "      <td>True</td>\n",
       "      <td>...</td>\n",
       "      <td>True</td>\n",
       "      <td>True</td>\n",
       "      <td>True</td>\n",
       "      <td>True</td>\n",
       "      <td>True</td>\n",
       "      <td>True</td>\n",
       "      <td>True</td>\n",
       "      <td>True</td>\n",
       "      <td>True</td>\n",
       "      <td>True</td>\n",
       "    </tr>\n",
       "    <tr>\n",
       "      <th>3</th>\n",
       "      <td>False</td>\n",
       "      <td>False</td>\n",
       "      <td>False</td>\n",
       "      <td>False</td>\n",
       "      <td>False</td>\n",
       "      <td>False</td>\n",
       "      <td>False</td>\n",
       "      <td>False</td>\n",
       "      <td>True</td>\n",
       "      <td>True</td>\n",
       "      <td>...</td>\n",
       "      <td>True</td>\n",
       "      <td>True</td>\n",
       "      <td>True</td>\n",
       "      <td>True</td>\n",
       "      <td>True</td>\n",
       "      <td>True</td>\n",
       "      <td>True</td>\n",
       "      <td>True</td>\n",
       "      <td>True</td>\n",
       "      <td>True</td>\n",
       "    </tr>\n",
       "    <tr>\n",
       "      <th>4</th>\n",
       "      <td>False</td>\n",
       "      <td>False</td>\n",
       "      <td>False</td>\n",
       "      <td>False</td>\n",
       "      <td>False</td>\n",
       "      <td>False</td>\n",
       "      <td>False</td>\n",
       "      <td>True</td>\n",
       "      <td>True</td>\n",
       "      <td>True</td>\n",
       "      <td>...</td>\n",
       "      <td>False</td>\n",
       "      <td>False</td>\n",
       "      <td>False</td>\n",
       "      <td>False</td>\n",
       "      <td>False</td>\n",
       "      <td>False</td>\n",
       "      <td>False</td>\n",
       "      <td>False</td>\n",
       "      <td>False</td>\n",
       "      <td>False</td>\n",
       "    </tr>\n",
       "    <tr>\n",
       "      <th>...</th>\n",
       "      <td>...</td>\n",
       "      <td>...</td>\n",
       "      <td>...</td>\n",
       "      <td>...</td>\n",
       "      <td>...</td>\n",
       "      <td>...</td>\n",
       "      <td>...</td>\n",
       "      <td>...</td>\n",
       "      <td>...</td>\n",
       "      <td>...</td>\n",
       "      <td>...</td>\n",
       "      <td>...</td>\n",
       "      <td>...</td>\n",
       "      <td>...</td>\n",
       "      <td>...</td>\n",
       "      <td>...</td>\n",
       "      <td>...</td>\n",
       "      <td>...</td>\n",
       "      <td>...</td>\n",
       "      <td>...</td>\n",
       "      <td>...</td>\n",
       "    </tr>\n",
       "    <tr>\n",
       "      <th>276</th>\n",
       "      <td>False</td>\n",
       "      <td>False</td>\n",
       "      <td>False</td>\n",
       "      <td>False</td>\n",
       "      <td>False</td>\n",
       "      <td>False</td>\n",
       "      <td>False</td>\n",
       "      <td>True</td>\n",
       "      <td>True</td>\n",
       "      <td>True</td>\n",
       "      <td>...</td>\n",
       "      <td>False</td>\n",
       "      <td>False</td>\n",
       "      <td>False</td>\n",
       "      <td>False</td>\n",
       "      <td>False</td>\n",
       "      <td>False</td>\n",
       "      <td>False</td>\n",
       "      <td>False</td>\n",
       "      <td>False</td>\n",
       "      <td>False</td>\n",
       "    </tr>\n",
       "    <tr>\n",
       "      <th>277</th>\n",
       "      <td>False</td>\n",
       "      <td>False</td>\n",
       "      <td>False</td>\n",
       "      <td>False</td>\n",
       "      <td>False</td>\n",
       "      <td>False</td>\n",
       "      <td>False</td>\n",
       "      <td>True</td>\n",
       "      <td>True</td>\n",
       "      <td>True</td>\n",
       "      <td>...</td>\n",
       "      <td>False</td>\n",
       "      <td>False</td>\n",
       "      <td>False</td>\n",
       "      <td>False</td>\n",
       "      <td>False</td>\n",
       "      <td>False</td>\n",
       "      <td>False</td>\n",
       "      <td>False</td>\n",
       "      <td>False</td>\n",
       "      <td>False</td>\n",
       "    </tr>\n",
       "    <tr>\n",
       "      <th>278</th>\n",
       "      <td>False</td>\n",
       "      <td>False</td>\n",
       "      <td>False</td>\n",
       "      <td>False</td>\n",
       "      <td>False</td>\n",
       "      <td>False</td>\n",
       "      <td>False</td>\n",
       "      <td>False</td>\n",
       "      <td>False</td>\n",
       "      <td>False</td>\n",
       "      <td>...</td>\n",
       "      <td>False</td>\n",
       "      <td>False</td>\n",
       "      <td>False</td>\n",
       "      <td>False</td>\n",
       "      <td>False</td>\n",
       "      <td>False</td>\n",
       "      <td>False</td>\n",
       "      <td>False</td>\n",
       "      <td>False</td>\n",
       "      <td>False</td>\n",
       "    </tr>\n",
       "    <tr>\n",
       "      <th>279</th>\n",
       "      <td>False</td>\n",
       "      <td>False</td>\n",
       "      <td>False</td>\n",
       "      <td>False</td>\n",
       "      <td>False</td>\n",
       "      <td>False</td>\n",
       "      <td>False</td>\n",
       "      <td>False</td>\n",
       "      <td>False</td>\n",
       "      <td>False</td>\n",
       "      <td>...</td>\n",
       "      <td>False</td>\n",
       "      <td>False</td>\n",
       "      <td>False</td>\n",
       "      <td>False</td>\n",
       "      <td>False</td>\n",
       "      <td>False</td>\n",
       "      <td>False</td>\n",
       "      <td>False</td>\n",
       "      <td>False</td>\n",
       "      <td>False</td>\n",
       "    </tr>\n",
       "    <tr>\n",
       "      <th>280</th>\n",
       "      <td>False</td>\n",
       "      <td>False</td>\n",
       "      <td>False</td>\n",
       "      <td>False</td>\n",
       "      <td>False</td>\n",
       "      <td>False</td>\n",
       "      <td>False</td>\n",
       "      <td>False</td>\n",
       "      <td>False</td>\n",
       "      <td>False</td>\n",
       "      <td>...</td>\n",
       "      <td>False</td>\n",
       "      <td>False</td>\n",
       "      <td>False</td>\n",
       "      <td>False</td>\n",
       "      <td>False</td>\n",
       "      <td>False</td>\n",
       "      <td>False</td>\n",
       "      <td>False</td>\n",
       "      <td>False</td>\n",
       "      <td>False</td>\n",
       "    </tr>\n",
       "  </tbody>\n",
       "</table>\n",
       "<p>281 rows × 55 columns</p>\n",
       "</div>"
      ],
      "text/plain": [
       "     area_code   area  item_code   item  element_code  element   unit  y1971  \\\n",
       "0        False  False      False  False         False    False  False   True   \n",
       "1        False  False      False  False         False    False  False   True   \n",
       "2        False  False      False  False         False    False  False   True   \n",
       "3        False  False      False  False         False    False  False  False   \n",
       "4        False  False      False  False         False    False  False   True   \n",
       "..         ...    ...        ...    ...           ...      ...    ...    ...   \n",
       "276      False  False      False  False         False    False  False   True   \n",
       "277      False  False      False  False         False    False  False   True   \n",
       "278      False  False      False  False         False    False  False  False   \n",
       "279      False  False      False  False         False    False  False  False   \n",
       "280      False  False      False  False         False    False  False  False   \n",
       "\n",
       "     y1972  y1973  ...  y2009  y2010  y2011  y2012  y2013  y2014  y2015  \\\n",
       "0     True   True  ...   True   True   True   True   True   True   True   \n",
       "1     True   True  ...   True   True   True   True   True   True   True   \n",
       "2     True   True  ...   True   True   True   True   True   True   True   \n",
       "3     True   True  ...   True   True   True   True   True   True   True   \n",
       "4     True   True  ...  False  False  False  False  False  False  False   \n",
       "..     ...    ...  ...    ...    ...    ...    ...    ...    ...    ...   \n",
       "276   True   True  ...  False  False  False  False  False  False  False   \n",
       "277   True   True  ...  False  False  False  False  False  False  False   \n",
       "278  False  False  ...  False  False  False  False  False  False  False   \n",
       "279  False  False  ...  False  False  False  False  False  False  False   \n",
       "280  False  False  ...  False  False  False  False  False  False  False   \n",
       "\n",
       "     y2016  y2017  y2018  \n",
       "0     True   True  False  \n",
       "1     True   True  False  \n",
       "2     True   True   True  \n",
       "3     True   True   True  \n",
       "4    False  False  False  \n",
       "..     ...    ...    ...  \n",
       "276  False  False  False  \n",
       "277  False  False  False  \n",
       "278  False  False  False  \n",
       "279  False  False  False  \n",
       "280  False  False  False  \n",
       "\n",
       "[281 rows x 55 columns]"
      ]
     },
     "execution_count": 125,
     "metadata": {},
     "output_type": "execute_result"
    }
   ],
   "source": [
    "data_crops.isna()"
   ]
  },
  {
   "cell_type": "markdown",
   "metadata": {},
   "source": [
    "##### 5.1.4.2 Replacing NAN with 0"
   ]
  },
  {
   "cell_type": "code",
   "execution_count": 126,
   "metadata": {},
   "outputs": [
    {
     "data": {
      "text/html": [
       "<div>\n",
       "<style scoped>\n",
       "    .dataframe tbody tr th:only-of-type {\n",
       "        vertical-align: middle;\n",
       "    }\n",
       "\n",
       "    .dataframe tbody tr th {\n",
       "        vertical-align: top;\n",
       "    }\n",
       "\n",
       "    .dataframe thead th {\n",
       "        text-align: right;\n",
       "    }\n",
       "</style>\n",
       "<table border=\"1\" class=\"dataframe\">\n",
       "  <thead>\n",
       "    <tr style=\"text-align: right;\">\n",
       "      <th></th>\n",
       "      <th>area_code</th>\n",
       "      <th>area</th>\n",
       "      <th>item_code</th>\n",
       "      <th>item</th>\n",
       "      <th>element_code</th>\n",
       "      <th>element</th>\n",
       "      <th>unit</th>\n",
       "      <th>y1971</th>\n",
       "      <th>y1972</th>\n",
       "      <th>y1973</th>\n",
       "      <th>...</th>\n",
       "      <th>y2009</th>\n",
       "      <th>y2010</th>\n",
       "      <th>y2011</th>\n",
       "      <th>y2012</th>\n",
       "      <th>y2013</th>\n",
       "      <th>y2014</th>\n",
       "      <th>y2015</th>\n",
       "      <th>y2016</th>\n",
       "      <th>y2017</th>\n",
       "      <th>y2018</th>\n",
       "    </tr>\n",
       "  </thead>\n",
       "  <tbody>\n",
       "    <tr>\n",
       "      <th>0</th>\n",
       "      <td>173</td>\n",
       "      <td>Poland</td>\n",
       "      <td>221</td>\n",
       "      <td>Almonds, with shell</td>\n",
       "      <td>5312</td>\n",
       "      <td>Area harvested</td>\n",
       "      <td>ha</td>\n",
       "      <td>0.00</td>\n",
       "      <td>0.00</td>\n",
       "      <td>0.00</td>\n",
       "      <td>...</td>\n",
       "      <td>0.00</td>\n",
       "      <td>0.00</td>\n",
       "      <td>0.00</td>\n",
       "      <td>0.00</td>\n",
       "      <td>0.00</td>\n",
       "      <td>0.00</td>\n",
       "      <td>0.00</td>\n",
       "      <td>0.00</td>\n",
       "      <td>0.00</td>\n",
       "      <td>0.00</td>\n",
       "    </tr>\n",
       "    <tr>\n",
       "      <th>1</th>\n",
       "      <td>173</td>\n",
       "      <td>Poland</td>\n",
       "      <td>221</td>\n",
       "      <td>Almonds, with shell</td>\n",
       "      <td>5510</td>\n",
       "      <td>Production</td>\n",
       "      <td>tonnes</td>\n",
       "      <td>0.00</td>\n",
       "      <td>0.00</td>\n",
       "      <td>0.00</td>\n",
       "      <td>...</td>\n",
       "      <td>0.00</td>\n",
       "      <td>0.00</td>\n",
       "      <td>0.00</td>\n",
       "      <td>0.00</td>\n",
       "      <td>0.00</td>\n",
       "      <td>0.00</td>\n",
       "      <td>0.00</td>\n",
       "      <td>0.00</td>\n",
       "      <td>0.00</td>\n",
       "      <td>0.00</td>\n",
       "    </tr>\n",
       "    <tr>\n",
       "      <th>2</th>\n",
       "      <td>173</td>\n",
       "      <td>Poland</td>\n",
       "      <td>711</td>\n",
       "      <td>Anise, badian, fennel, coriander</td>\n",
       "      <td>5312</td>\n",
       "      <td>Area harvested</td>\n",
       "      <td>ha</td>\n",
       "      <td>0.00</td>\n",
       "      <td>0.00</td>\n",
       "      <td>0.00</td>\n",
       "      <td>...</td>\n",
       "      <td>0.00</td>\n",
       "      <td>0.00</td>\n",
       "      <td>0.00</td>\n",
       "      <td>0.00</td>\n",
       "      <td>0.00</td>\n",
       "      <td>0.00</td>\n",
       "      <td>0.00</td>\n",
       "      <td>0.00</td>\n",
       "      <td>0.00</td>\n",
       "      <td>0.00</td>\n",
       "    </tr>\n",
       "    <tr>\n",
       "      <th>3</th>\n",
       "      <td>173</td>\n",
       "      <td>Poland</td>\n",
       "      <td>711</td>\n",
       "      <td>Anise, badian, fennel, coriander</td>\n",
       "      <td>5510</td>\n",
       "      <td>Production</td>\n",
       "      <td>tonnes</td>\n",
       "      <td>3,400.00</td>\n",
       "      <td>0.00</td>\n",
       "      <td>0.00</td>\n",
       "      <td>...</td>\n",
       "      <td>0.00</td>\n",
       "      <td>0.00</td>\n",
       "      <td>0.00</td>\n",
       "      <td>0.00</td>\n",
       "      <td>0.00</td>\n",
       "      <td>0.00</td>\n",
       "      <td>0.00</td>\n",
       "      <td>0.00</td>\n",
       "      <td>0.00</td>\n",
       "      <td>0.00</td>\n",
       "    </tr>\n",
       "    <tr>\n",
       "      <th>4</th>\n",
       "      <td>173</td>\n",
       "      <td>Poland</td>\n",
       "      <td>515</td>\n",
       "      <td>Apples</td>\n",
       "      <td>5312</td>\n",
       "      <td>Area harvested</td>\n",
       "      <td>ha</td>\n",
       "      <td>0.00</td>\n",
       "      <td>0.00</td>\n",
       "      <td>0.00</td>\n",
       "      <td>...</td>\n",
       "      <td>173,607.00</td>\n",
       "      <td>170,443.00</td>\n",
       "      <td>183,526.00</td>\n",
       "      <td>194,680.00</td>\n",
       "      <td>193,439.00</td>\n",
       "      <td>176,335.00</td>\n",
       "      <td>180,399.00</td>\n",
       "      <td>177,203.00</td>\n",
       "      <td>176,352.00</td>\n",
       "      <td>166,150.00</td>\n",
       "    </tr>\n",
       "    <tr>\n",
       "      <th>...</th>\n",
       "      <td>...</td>\n",
       "      <td>...</td>\n",
       "      <td>...</td>\n",
       "      <td>...</td>\n",
       "      <td>...</td>\n",
       "      <td>...</td>\n",
       "      <td>...</td>\n",
       "      <td>...</td>\n",
       "      <td>...</td>\n",
       "      <td>...</td>\n",
       "      <td>...</td>\n",
       "      <td>...</td>\n",
       "      <td>...</td>\n",
       "      <td>...</td>\n",
       "      <td>...</td>\n",
       "      <td>...</td>\n",
       "      <td>...</td>\n",
       "      <td>...</td>\n",
       "      <td>...</td>\n",
       "      <td>...</td>\n",
       "      <td>...</td>\n",
       "    </tr>\n",
       "    <tr>\n",
       "      <th>276</th>\n",
       "      <td>173</td>\n",
       "      <td>Poland</td>\n",
       "      <td>1729</td>\n",
       "      <td>Treenuts, Total</td>\n",
       "      <td>5419</td>\n",
       "      <td>Yield</td>\n",
       "      <td>hg/ha</td>\n",
       "      <td>0.00</td>\n",
       "      <td>0.00</td>\n",
       "      <td>0.00</td>\n",
       "      <td>...</td>\n",
       "      <td>6,873.00</td>\n",
       "      <td>3,734.00</td>\n",
       "      <td>4,637.00</td>\n",
       "      <td>8,406.00</td>\n",
       "      <td>19,370.00</td>\n",
       "      <td>18,345.00</td>\n",
       "      <td>20,716.00</td>\n",
       "      <td>19,529.00</td>\n",
       "      <td>12,926.00</td>\n",
       "      <td>25,075.00</td>\n",
       "    </tr>\n",
       "    <tr>\n",
       "      <th>277</th>\n",
       "      <td>173</td>\n",
       "      <td>Poland</td>\n",
       "      <td>1729</td>\n",
       "      <td>Treenuts, Total</td>\n",
       "      <td>5510</td>\n",
       "      <td>Production</td>\n",
       "      <td>tonnes</td>\n",
       "      <td>0.00</td>\n",
       "      <td>0.00</td>\n",
       "      <td>0.00</td>\n",
       "      <td>...</td>\n",
       "      <td>15,650.00</td>\n",
       "      <td>12,187.00</td>\n",
       "      <td>13,930.00</td>\n",
       "      <td>16,993.00</td>\n",
       "      <td>13,594.00</td>\n",
       "      <td>12,467.00</td>\n",
       "      <td>12,502.00</td>\n",
       "      <td>12,741.00</td>\n",
       "      <td>8,353.00</td>\n",
       "      <td>15,120.00</td>\n",
       "    </tr>\n",
       "    <tr>\n",
       "      <th>278</th>\n",
       "      <td>173</td>\n",
       "      <td>Poland</td>\n",
       "      <td>1735</td>\n",
       "      <td>Vegetables Primary</td>\n",
       "      <td>5312</td>\n",
       "      <td>Area harvested</td>\n",
       "      <td>ha</td>\n",
       "      <td>233,905.00</td>\n",
       "      <td>200,454.00</td>\n",
       "      <td>238,313.00</td>\n",
       "      <td>...</td>\n",
       "      <td>212,151.00</td>\n",
       "      <td>165,970.00</td>\n",
       "      <td>184,480.00</td>\n",
       "      <td>181,070.00</td>\n",
       "      <td>148,478.00</td>\n",
       "      <td>178,360.00</td>\n",
       "      <td>181,445.00</td>\n",
       "      <td>184,337.00</td>\n",
       "      <td>183,441.00</td>\n",
       "      <td>191,705.00</td>\n",
       "    </tr>\n",
       "    <tr>\n",
       "      <th>279</th>\n",
       "      <td>173</td>\n",
       "      <td>Poland</td>\n",
       "      <td>1735</td>\n",
       "      <td>Vegetables Primary</td>\n",
       "      <td>5419</td>\n",
       "      <td>Yield</td>\n",
       "      <td>hg/ha</td>\n",
       "      <td>152,635.00</td>\n",
       "      <td>184,122.00</td>\n",
       "      <td>171,518.00</td>\n",
       "      <td>...</td>\n",
       "      <td>273,983.00</td>\n",
       "      <td>308,092.00</td>\n",
       "      <td>314,489.00</td>\n",
       "      <td>312,919.00</td>\n",
       "      <td>352,941.00</td>\n",
       "      <td>329,477.00</td>\n",
       "      <td>279,425.00</td>\n",
       "      <td>319,869.00</td>\n",
       "      <td>327,189.00</td>\n",
       "      <td>287,097.00</td>\n",
       "    </tr>\n",
       "    <tr>\n",
       "      <th>280</th>\n",
       "      <td>173</td>\n",
       "      <td>Poland</td>\n",
       "      <td>1735</td>\n",
       "      <td>Vegetables Primary</td>\n",
       "      <td>5510</td>\n",
       "      <td>Production</td>\n",
       "      <td>tonnes</td>\n",
       "      <td>3,570,202.00</td>\n",
       "      <td>3,690,807.00</td>\n",
       "      <td>4,087,492.00</td>\n",
       "      <td>...</td>\n",
       "      <td>5,812,587.00</td>\n",
       "      <td>5,113,402.00</td>\n",
       "      <td>5,801,702.00</td>\n",
       "      <td>5,666,027.00</td>\n",
       "      <td>5,240,397.00</td>\n",
       "      <td>5,876,549.00</td>\n",
       "      <td>5,070,030.00</td>\n",
       "      <td>5,896,363.00</td>\n",
       "      <td>6,001,996.00</td>\n",
       "      <td>5,503,800.00</td>\n",
       "    </tr>\n",
       "  </tbody>\n",
       "</table>\n",
       "<p>281 rows × 55 columns</p>\n",
       "</div>"
      ],
      "text/plain": [
       "     area_code    area  item_code                              item  \\\n",
       "0          173  Poland        221               Almonds, with shell   \n",
       "1          173  Poland        221               Almonds, with shell   \n",
       "2          173  Poland        711  Anise, badian, fennel, coriander   \n",
       "3          173  Poland        711  Anise, badian, fennel, coriander   \n",
       "4          173  Poland        515                            Apples   \n",
       "..         ...     ...        ...                               ...   \n",
       "276        173  Poland       1729                   Treenuts, Total   \n",
       "277        173  Poland       1729                   Treenuts, Total   \n",
       "278        173  Poland       1735                Vegetables Primary   \n",
       "279        173  Poland       1735                Vegetables Primary   \n",
       "280        173  Poland       1735                Vegetables Primary   \n",
       "\n",
       "     element_code         element    unit        y1971        y1972  \\\n",
       "0            5312  Area harvested      ha         0.00         0.00   \n",
       "1            5510      Production  tonnes         0.00         0.00   \n",
       "2            5312  Area harvested      ha         0.00         0.00   \n",
       "3            5510      Production  tonnes     3,400.00         0.00   \n",
       "4            5312  Area harvested      ha         0.00         0.00   \n",
       "..            ...             ...     ...          ...          ...   \n",
       "276          5419           Yield   hg/ha         0.00         0.00   \n",
       "277          5510      Production  tonnes         0.00         0.00   \n",
       "278          5312  Area harvested      ha   233,905.00   200,454.00   \n",
       "279          5419           Yield   hg/ha   152,635.00   184,122.00   \n",
       "280          5510      Production  tonnes 3,570,202.00 3,690,807.00   \n",
       "\n",
       "           y1973  ...        y2009        y2010        y2011        y2012  \\\n",
       "0           0.00  ...         0.00         0.00         0.00         0.00   \n",
       "1           0.00  ...         0.00         0.00         0.00         0.00   \n",
       "2           0.00  ...         0.00         0.00         0.00         0.00   \n",
       "3           0.00  ...         0.00         0.00         0.00         0.00   \n",
       "4           0.00  ...   173,607.00   170,443.00   183,526.00   194,680.00   \n",
       "..           ...  ...          ...          ...          ...          ...   \n",
       "276         0.00  ...     6,873.00     3,734.00     4,637.00     8,406.00   \n",
       "277         0.00  ...    15,650.00    12,187.00    13,930.00    16,993.00   \n",
       "278   238,313.00  ...   212,151.00   165,970.00   184,480.00   181,070.00   \n",
       "279   171,518.00  ...   273,983.00   308,092.00   314,489.00   312,919.00   \n",
       "280 4,087,492.00  ... 5,812,587.00 5,113,402.00 5,801,702.00 5,666,027.00   \n",
       "\n",
       "           y2013        y2014        y2015        y2016        y2017  \\\n",
       "0           0.00         0.00         0.00         0.00         0.00   \n",
       "1           0.00         0.00         0.00         0.00         0.00   \n",
       "2           0.00         0.00         0.00         0.00         0.00   \n",
       "3           0.00         0.00         0.00         0.00         0.00   \n",
       "4     193,439.00   176,335.00   180,399.00   177,203.00   176,352.00   \n",
       "..           ...          ...          ...          ...          ...   \n",
       "276    19,370.00    18,345.00    20,716.00    19,529.00    12,926.00   \n",
       "277    13,594.00    12,467.00    12,502.00    12,741.00     8,353.00   \n",
       "278   148,478.00   178,360.00   181,445.00   184,337.00   183,441.00   \n",
       "279   352,941.00   329,477.00   279,425.00   319,869.00   327,189.00   \n",
       "280 5,240,397.00 5,876,549.00 5,070,030.00 5,896,363.00 6,001,996.00   \n",
       "\n",
       "           y2018  \n",
       "0           0.00  \n",
       "1           0.00  \n",
       "2           0.00  \n",
       "3           0.00  \n",
       "4     166,150.00  \n",
       "..           ...  \n",
       "276    25,075.00  \n",
       "277    15,120.00  \n",
       "278   191,705.00  \n",
       "279   287,097.00  \n",
       "280 5,503,800.00  \n",
       "\n",
       "[281 rows x 55 columns]"
      ]
     },
     "execution_count": 126,
     "metadata": {},
     "output_type": "execute_result"
    }
   ],
   "source": [
    "data_crops.replace(np.nan, 0)"
   ]
  },
  {
   "cell_type": "markdown",
   "metadata": {},
   "source": [
    "##### 5.1.4.3 Describing **data_crops** Dataset"
   ]
  },
  {
   "cell_type": "code",
   "execution_count": 127,
   "metadata": {},
   "outputs": [
    {
     "name": "stdout",
     "output_type": "stream",
     "text": [
      "       area_code  item_code  element_code         y1971         y1972  \\\n",
      "count     281.00     281.00        281.00        139.00        137.00   \n",
      "mean      173.00     549.43      5,413.57  1,337,679.62  1,517,007.68   \n",
      "std         0.00     485.83         84.36  5,291,723.22  6,359,745.23   \n",
      "min       173.00      15.00      5,312.00          0.00      2,000.00   \n",
      "25%       173.00     234.00      5,312.00     17,333.50     15,597.00   \n",
      "50%       173.00     423.00      5,419.00     58,100.00     55,500.00   \n",
      "75%       173.00     554.00      5,510.00    344,950.00    327,420.00   \n",
      "max       173.00   1,841.00      5,510.00 39,801,104.00 48,735,408.00   \n",
      "\n",
      "              y1973         y1974         y1975         y1976         y1977  \\\n",
      "count        137.00        137.00        137.00        136.00        134.00   \n",
      "mean   1,581,959.62  1,523,738.79  1,499,987.72  1,581,047.73  1,451,646.66   \n",
      "std    6,725,453.28  6,360,684.95  6,115,782.55  6,532,992.92  5,603,411.45   \n",
      "min        2,000.00      2,000.00      1,052.00          0.00        812.00   \n",
      "25%       17,000.00     13,604.00     18,600.00     18,665.50     17,898.00   \n",
      "50%       53,000.00     55,200.00     61,219.00     62,994.50     59,258.00   \n",
      "75%      346,630.00    294,862.00    329,927.00    383,290.25    359,463.25   \n",
      "max   51,928,208.00 48,518,800.00 46,429,040.00 49,951,088.00 41,147,616.00   \n",
      "\n",
      "       ...         y2009         y2010         y2011         y2012  \\\n",
      "count  ...        221.00        221.00        221.00        221.00   \n",
      "mean   ...    716,338.82    650,480.99    678,442.25    700,831.53   \n",
      "std    ...  2,645,785.89  2,397,053.10  2,475,072.31  2,580,421.64   \n",
      "min    ...         28.00         28.00         28.00         30.00   \n",
      "25%    ...     11,023.00     10,797.00     10,812.00     11,457.00   \n",
      "50%    ...     35,678.00     34,541.00     33,369.00     35,338.00   \n",
      "75%    ...    206,613.00    210,838.00    222,222.00    243,751.00   \n",
      "max    ... 29,826,416.00 27,228,098.00 26,767,403.00 28,543,870.00   \n",
      "\n",
      "              y2013         y2014         y2015         y2016         y2017  \\\n",
      "count        220.00        219.00        219.00        220.00        220.00   \n",
      "mean     687,824.83    765,630.36    662,024.27    742,512.31    782,658.25   \n",
      "std    2,499,649.72  2,837,224.94  2,414,471.23  2,735,219.60  2,954,905.89   \n",
      "min            0.00          0.00          0.00         29.00         28.00   \n",
      "25%       11,722.00     12,653.00     12,434.00     12,468.75     12,234.50   \n",
      "50%       35,162.50     40,173.00     40,679.00     40,586.00     35,636.00   \n",
      "75%      238,513.75    265,880.00    240,549.50    249,120.25    263,481.25   \n",
      "max   28,455,154.00 31,945,433.00 28,002,726.00 29,849,223.00 31,924,964.00   \n",
      "\n",
      "              y2018  \n",
      "count        234.00  \n",
      "mean     658,372.72  \n",
      "std    2,464,466.63  \n",
      "min            0.00  \n",
      "25%        5,097.50  \n",
      "50%       31,202.50  \n",
      "75%      217,175.25  \n",
      "max   26,281,580.00  \n",
      "\n",
      "[8 rows x 51 columns]\n"
     ]
    }
   ],
   "source": [
    "print(data_crops.describe())"
   ]
  },
  {
   "cell_type": "markdown",
   "metadata": {},
   "source": [
    "##### 5.1.4.4 Grouping **data_crops** dataset by item"
   ]
  },
  {
   "cell_type": "code",
   "execution_count": 128,
   "metadata": {},
   "outputs": [],
   "source": [
    "dataCropsGrouped = data_crops.groupby([\"item\"]).sum()"
   ]
  },
  {
   "cell_type": "code",
   "execution_count": 129,
   "metadata": {},
   "outputs": [],
   "source": [
    "dataCropsGrouped = dataCropsGrouped.drop(columns=[\"area_code\", \"item_code\", \"element_code\"])"
   ]
  },
  {
   "cell_type": "code",
   "execution_count": 257,
   "metadata": {},
   "outputs": [
    {
     "data": {
      "text/html": [
       "<div>\n",
       "<style scoped>\n",
       "    .dataframe tbody tr th:only-of-type {\n",
       "        vertical-align: middle;\n",
       "    }\n",
       "\n",
       "    .dataframe tbody tr th {\n",
       "        vertical-align: top;\n",
       "    }\n",
       "\n",
       "    .dataframe thead th {\n",
       "        text-align: right;\n",
       "    }\n",
       "</style>\n",
       "<table border=\"1\" class=\"dataframe\">\n",
       "  <thead>\n",
       "    <tr style=\"text-align: right;\">\n",
       "      <th></th>\n",
       "      <th>y1971</th>\n",
       "      <th>y1972</th>\n",
       "      <th>y1973</th>\n",
       "      <th>y1974</th>\n",
       "      <th>y1975</th>\n",
       "      <th>y1976</th>\n",
       "      <th>y1977</th>\n",
       "      <th>y1978</th>\n",
       "      <th>y1979</th>\n",
       "      <th>y1980</th>\n",
       "      <th>...</th>\n",
       "      <th>y2009</th>\n",
       "      <th>y2010</th>\n",
       "      <th>y2011</th>\n",
       "      <th>y2012</th>\n",
       "      <th>y2013</th>\n",
       "      <th>y2014</th>\n",
       "      <th>y2015</th>\n",
       "      <th>y2016</th>\n",
       "      <th>y2017</th>\n",
       "      <th>y2018</th>\n",
       "    </tr>\n",
       "    <tr>\n",
       "      <th>item</th>\n",
       "      <th></th>\n",
       "      <th></th>\n",
       "      <th></th>\n",
       "      <th></th>\n",
       "      <th></th>\n",
       "      <th></th>\n",
       "      <th></th>\n",
       "      <th></th>\n",
       "      <th></th>\n",
       "      <th></th>\n",
       "      <th></th>\n",
       "      <th></th>\n",
       "      <th></th>\n",
       "      <th></th>\n",
       "      <th></th>\n",
       "      <th></th>\n",
       "      <th></th>\n",
       "      <th></th>\n",
       "      <th></th>\n",
       "      <th></th>\n",
       "      <th></th>\n",
       "    </tr>\n",
       "  </thead>\n",
       "  <tbody>\n",
       "    <tr>\n",
       "      <th>Almonds, with shell</th>\n",
       "      <td>0.00</td>\n",
       "      <td>0.00</td>\n",
       "      <td>0.00</td>\n",
       "      <td>0.00</td>\n",
       "      <td>0.00</td>\n",
       "      <td>0.00</td>\n",
       "      <td>0.00</td>\n",
       "      <td>0.00</td>\n",
       "      <td>0.00</td>\n",
       "      <td>0.00</td>\n",
       "      <td>...</td>\n",
       "      <td>0.00</td>\n",
       "      <td>0.00</td>\n",
       "      <td>0.00</td>\n",
       "      <td>0.00</td>\n",
       "      <td>0.00</td>\n",
       "      <td>0.00</td>\n",
       "      <td>0.00</td>\n",
       "      <td>0.00</td>\n",
       "      <td>0.00</td>\n",
       "      <td>0.00</td>\n",
       "    </tr>\n",
       "    <tr>\n",
       "      <th>Anise, badian, fennel, coriander</th>\n",
       "      <td>3,400.00</td>\n",
       "      <td>0.00</td>\n",
       "      <td>0.00</td>\n",
       "      <td>0.00</td>\n",
       "      <td>0.00</td>\n",
       "      <td>0.00</td>\n",
       "      <td>0.00</td>\n",
       "      <td>0.00</td>\n",
       "      <td>0.00</td>\n",
       "      <td>0.00</td>\n",
       "      <td>...</td>\n",
       "      <td>0.00</td>\n",
       "      <td>0.00</td>\n",
       "      <td>0.00</td>\n",
       "      <td>0.00</td>\n",
       "      <td>0.00</td>\n",
       "      <td>0.00</td>\n",
       "      <td>0.00</td>\n",
       "      <td>0.00</td>\n",
       "      <td>0.00</td>\n",
       "      <td>0.00</td>\n",
       "    </tr>\n",
       "    <tr>\n",
       "      <th>Apples</th>\n",
       "      <td>563,200.00</td>\n",
       "      <td>558,500.00</td>\n",
       "      <td>682,500.00</td>\n",
       "      <td>594,300.00</td>\n",
       "      <td>840,722.00</td>\n",
       "      <td>1,160,890.00</td>\n",
       "      <td>911,928.00</td>\n",
       "      <td>1,030,343.00</td>\n",
       "      <td>1,050,671.00</td>\n",
       "      <td>844,106.00</td>\n",
       "      <td>...</td>\n",
       "      <td>2,951,157.00</td>\n",
       "      <td>2,158,527.00</td>\n",
       "      <td>2,812,447.00</td>\n",
       "      <td>3,219,814.00</td>\n",
       "      <td>3,437,999.00</td>\n",
       "      <td>3,552,840.00</td>\n",
       "      <td>3,524,873.00</td>\n",
       "      <td>3,984,872.00</td>\n",
       "      <td>2,756,184.00</td>\n",
       "      <td>4,406,387.00</td>\n",
       "    </tr>\n",
       "    <tr>\n",
       "      <th>Apricots</th>\n",
       "      <td>0.00</td>\n",
       "      <td>0.00</td>\n",
       "      <td>0.00</td>\n",
       "      <td>0.00</td>\n",
       "      <td>0.00</td>\n",
       "      <td>0.00</td>\n",
       "      <td>0.00</td>\n",
       "      <td>0.00</td>\n",
       "      <td>0.00</td>\n",
       "      <td>0.00</td>\n",
       "      <td>...</td>\n",
       "      <td>35,862.00</td>\n",
       "      <td>25,295.00</td>\n",
       "      <td>29,499.00</td>\n",
       "      <td>25,704.00</td>\n",
       "      <td>34,849.00</td>\n",
       "      <td>34,003.00</td>\n",
       "      <td>38,043.00</td>\n",
       "      <td>32,657.00</td>\n",
       "      <td>15,110.00</td>\n",
       "      <td>41,683.00</td>\n",
       "    </tr>\n",
       "    <tr>\n",
       "      <th>Artichokes</th>\n",
       "      <td>0.00</td>\n",
       "      <td>0.00</td>\n",
       "      <td>0.00</td>\n",
       "      <td>0.00</td>\n",
       "      <td>0.00</td>\n",
       "      <td>0.00</td>\n",
       "      <td>0.00</td>\n",
       "      <td>0.00</td>\n",
       "      <td>0.00</td>\n",
       "      <td>0.00</td>\n",
       "      <td>...</td>\n",
       "      <td>0.00</td>\n",
       "      <td>0.00</td>\n",
       "      <td>0.00</td>\n",
       "      <td>0.00</td>\n",
       "      <td>0.00</td>\n",
       "      <td>0.00</td>\n",
       "      <td>0.00</td>\n",
       "      <td>0.00</td>\n",
       "      <td>0.00</td>\n",
       "      <td>0.00</td>\n",
       "    </tr>\n",
       "  </tbody>\n",
       "</table>\n",
       "<p>5 rows × 48 columns</p>\n",
       "</div>"
      ],
      "text/plain": [
       "                                      y1971      y1972      y1973      y1974  \\\n",
       "item                                                                           \n",
       "Almonds, with shell                    0.00       0.00       0.00       0.00   \n",
       "Anise, badian, fennel, coriander   3,400.00       0.00       0.00       0.00   \n",
       "Apples                           563,200.00 558,500.00 682,500.00 594,300.00   \n",
       "Apricots                               0.00       0.00       0.00       0.00   \n",
       "Artichokes                             0.00       0.00       0.00       0.00   \n",
       "\n",
       "                                      y1975        y1976      y1977  \\\n",
       "item                                                                  \n",
       "Almonds, with shell                    0.00         0.00       0.00   \n",
       "Anise, badian, fennel, coriander       0.00         0.00       0.00   \n",
       "Apples                           840,722.00 1,160,890.00 911,928.00   \n",
       "Apricots                               0.00         0.00       0.00   \n",
       "Artichokes                             0.00         0.00       0.00   \n",
       "\n",
       "                                        y1978        y1979      y1980  ...  \\\n",
       "item                                                                   ...   \n",
       "Almonds, with shell                      0.00         0.00       0.00  ...   \n",
       "Anise, badian, fennel, coriander         0.00         0.00       0.00  ...   \n",
       "Apples                           1,030,343.00 1,050,671.00 844,106.00  ...   \n",
       "Apricots                                 0.00         0.00       0.00  ...   \n",
       "Artichokes                               0.00         0.00       0.00  ...   \n",
       "\n",
       "                                        y2009        y2010        y2011  \\\n",
       "item                                                                      \n",
       "Almonds, with shell                      0.00         0.00         0.00   \n",
       "Anise, badian, fennel, coriander         0.00         0.00         0.00   \n",
       "Apples                           2,951,157.00 2,158,527.00 2,812,447.00   \n",
       "Apricots                            35,862.00    25,295.00    29,499.00   \n",
       "Artichokes                               0.00         0.00         0.00   \n",
       "\n",
       "                                        y2012        y2013        y2014  \\\n",
       "item                                                                      \n",
       "Almonds, with shell                      0.00         0.00         0.00   \n",
       "Anise, badian, fennel, coriander         0.00         0.00         0.00   \n",
       "Apples                           3,219,814.00 3,437,999.00 3,552,840.00   \n",
       "Apricots                            25,704.00    34,849.00    34,003.00   \n",
       "Artichokes                               0.00         0.00         0.00   \n",
       "\n",
       "                                        y2015        y2016        y2017  \\\n",
       "item                                                                      \n",
       "Almonds, with shell                      0.00         0.00         0.00   \n",
       "Anise, badian, fennel, coriander         0.00         0.00         0.00   \n",
       "Apples                           3,524,873.00 3,984,872.00 2,756,184.00   \n",
       "Apricots                            38,043.00    32,657.00    15,110.00   \n",
       "Artichokes                               0.00         0.00         0.00   \n",
       "\n",
       "                                        y2018  \n",
       "item                                           \n",
       "Almonds, with shell                      0.00  \n",
       "Anise, badian, fennel, coriander         0.00  \n",
       "Apples                           4,406,387.00  \n",
       "Apricots                            41,683.00  \n",
       "Artichokes                               0.00  \n",
       "\n",
       "[5 rows x 48 columns]"
      ]
     },
     "execution_count": 257,
     "metadata": {},
     "output_type": "execute_result"
    }
   ],
   "source": [
    "dataCropsGrouped.head()"
   ]
  },
  {
   "cell_type": "markdown",
   "metadata": {},
   "source": [
    "##### 5.1.4.5 Checking for the most important crops from **dataCropsGrouped** dataset"
   ]
  },
  {
   "cell_type": "code",
   "execution_count": 131,
   "metadata": {},
   "outputs": [],
   "source": [
    "dataCropsGroupedSum = dataCropsGrouped.sum(axis=1)"
   ]
  },
  {
   "cell_type": "code",
   "execution_count": 132,
   "metadata": {},
   "outputs": [
    {
     "data": {
      "text/plain": [
       "item\n",
       "Cereals, Total            1,583,068,952.00\n",
       "Roots and Tubers, Total   1,334,122,051.00\n",
       "Potatoes                  1,334,122,051.00\n",
       "Sugar Crops Primary         682,033,347.00\n",
       "Sugar beet                  682,033,347.00\n",
       "                                ...       \n",
       "Sorghum                               0.00\n",
       "Figs                                  0.00\n",
       "Eggplants (aubergines)                0.00\n",
       "Cranberries                           0.00\n",
       "Almonds, with shell                   0.00\n",
       "Length: 102, dtype: float64"
      ]
     },
     "execution_count": 132,
     "metadata": {},
     "output_type": "execute_result"
    }
   ],
   "source": [
    "dataCropsGroupedSum.sort_values(ascending=False)"
   ]
  },
  {
   "cell_type": "markdown",
   "metadata": {},
   "source": [
    "The most prolific crop products produced in Poland between 1961 and 2019 are:\n",
    "\n",
    "1. Cereals                                 1,866,275,855.00\n",
    "2. Roots and Tubers                        1,828,499,656.00\n",
    "3. Potatoes                                1,828,499,656.00\n"
   ]
  },
  {
   "cell_type": "markdown",
   "metadata": {},
   "source": [
    "##### 5.1.4.6 Deleting all the rows with 0 sum"
   ]
  },
  {
   "cell_type": "code",
   "execution_count": 133,
   "metadata": {},
   "outputs": [],
   "source": [
    "cleanDataCrops = dataCropsGroupedSum.loc[~(dataCropsGroupedSum == 0)]"
   ]
  },
  {
   "cell_type": "markdown",
   "metadata": {},
   "source": [
    "##### 5.1.4.7 Calculating mean and median"
   ]
  },
  {
   "cell_type": "code",
   "execution_count": 134,
   "metadata": {},
   "outputs": [
    {
     "name": "stdout",
     "output_type": "stream",
     "text": [
      "The mean is: 83768657.25490196\n",
      "The median is: 2892161.0\n"
     ]
    }
   ],
   "source": [
    "print(f\"The mean is: {dataCropsGroupedSum.mean()}\")\n",
    "print(f\"The median is: {dataCropsGroupedSum.median()}\")"
   ]
  },
  {
   "cell_type": "markdown",
   "metadata": {},
   "source": [
    "##### 5.1.4.8 Getting all the rows above the median value (3,513,392.5)"
   ]
  },
  {
   "cell_type": "code",
   "execution_count": 135,
   "metadata": {},
   "outputs": [],
   "source": [
    "ImportantDataCrops = cleanDataCrops[cleanDataCrops > 3513392.5]"
   ]
  },
  {
   "cell_type": "code",
   "execution_count": 136,
   "metadata": {},
   "outputs": [
    {
     "data": {
      "text/plain": [
       "item\n",
       "Cereals, Total                       1,583,068,952.00\n",
       "Potatoes                             1,334,122,051.00\n",
       "Roots and Tubers, Total              1,334,122,051.00\n",
       "Sugar beet                             682,033,347.00\n",
       "Sugar Crops Primary                    682,033,347.00\n",
       "Wheat                                  481,914,327.00\n",
       "Rye                                    357,267,735.00\n",
       "Vegetables Primary                     272,225,930.00\n",
       "Barley                                 223,207,509.00\n",
       "Grain, mixed                           193,430,115.00\n",
       "Fruit Primary                          144,404,694.00\n",
       "Triticale                              134,487,774.00\n",
       "Oats                                   128,929,791.00\n",
       "Apples                                  94,693,448.00\n",
       "Oilcrops                                90,830,209.00\n",
       "Cabbages and other brassicas            89,368,578.00\n",
       "Rapeseed                                86,585,212.00\n",
       "Maize                                   66,068,760.00\n",
       "Oilcrops, Cake Equivalent               65,446,793.00\n",
       "Vegetables, fresh nes                   61,448,457.00\n",
       "Oilcrops, Oil Equivalent                51,335,465.00\n",
       "Carrots and turnips                     49,363,505.00\n",
       "Tomatoes                                37,774,850.00\n",
       "Onions, dry                             37,534,921.00\n",
       "Cucumbers and gherkins                  29,426,975.00\n",
       "Pulses, Total                           28,136,439.00\n",
       "Cauliflowers and broccoli               19,582,317.00\n",
       "Pulses nes                              13,510,398.00\n",
       "Strawberries                            13,357,574.00\n",
       "Currants                                10,177,397.00\n",
       "Leeks, other alliaceous vegetables       8,228,364.00\n",
       "Pumpkins, squash and gourds              8,183,405.00\n",
       "Chicory roots                            7,940,146.00\n",
       "Cherries, sour                           7,939,953.00\n",
       "Plums and sloes                          7,609,392.00\n",
       "Lupins                                   7,338,320.00\n",
       "Lettuce and chicory                      6,420,782.00\n",
       "Beans, green                             6,211,761.00\n",
       "Buckwheat                                6,168,774.00\n",
       "Pears                                    5,856,879.00\n",
       "Mushrooms and truffles                   5,322,545.00\n",
       "Tobacco, unmanufactured                  5,082,116.00\n",
       "Peas, dry                                4,810,637.00\n",
       "Raspberries                              4,694,268.00\n",
       "String beans                             4,179,811.00\n",
       "Maize, green                             3,574,993.00\n",
       "dtype: float64"
      ]
     },
     "execution_count": 136,
     "metadata": {},
     "output_type": "execute_result"
    }
   ],
   "source": [
    "ImportantDataCrops.sort_values(ascending=False)"
   ]
  },
  {
   "cell_type": "markdown",
   "metadata": {},
   "source": [
    "##### 5.1.4.9 Removing all rows with 0 values from the **dataCropsCleaned** dataset"
   ]
  },
  {
   "cell_type": "code",
   "execution_count": 137,
   "metadata": {},
   "outputs": [],
   "source": [
    "dataCropsCleaned = dataCropsGrouped.loc[~(dataCropsGrouped == 0).all(axis=1)]"
   ]
  },
  {
   "cell_type": "markdown",
   "metadata": {},
   "source": [
    "##### 5.1.4.10 Transposing the **dataCropsCleaned** dataset"
   ]
  },
  {
   "cell_type": "code",
   "execution_count": 138,
   "metadata": {},
   "outputs": [],
   "source": [
    "dataCropsTransposed = dataCropsCleaned.transpose()"
   ]
  },
  {
   "cell_type": "code",
   "execution_count": 139,
   "metadata": {},
   "outputs": [
    {
     "data": {
      "text/plain": [
       "[<matplotlib.lines.Line2D at 0x202f67a8700>,\n",
       " <matplotlib.lines.Line2D at 0x202f67a85b0>,\n",
       " <matplotlib.lines.Line2D at 0x202f67a8790>,\n",
       " <matplotlib.lines.Line2D at 0x202f67a8880>,\n",
       " <matplotlib.lines.Line2D at 0x202f67a8940>,\n",
       " <matplotlib.lines.Line2D at 0x202f67a8a00>,\n",
       " <matplotlib.lines.Line2D at 0x202f67a8ac0>,\n",
       " <matplotlib.lines.Line2D at 0x202f67a8b80>,\n",
       " <matplotlib.lines.Line2D at 0x202f67a8c40>,\n",
       " <matplotlib.lines.Line2D at 0x202f67a8d00>,\n",
       " <matplotlib.lines.Line2D at 0x202f578f9a0>,\n",
       " <matplotlib.lines.Line2D at 0x202f67a8e50>,\n",
       " <matplotlib.lines.Line2D at 0x202f67a8f10>,\n",
       " <matplotlib.lines.Line2D at 0x202f67a8fd0>,\n",
       " <matplotlib.lines.Line2D at 0x202f67b20d0>,\n",
       " <matplotlib.lines.Line2D at 0x202f67b2190>,\n",
       " <matplotlib.lines.Line2D at 0x202f67b2250>,\n",
       " <matplotlib.lines.Line2D at 0x202f67b2310>,\n",
       " <matplotlib.lines.Line2D at 0x202f67b23d0>,\n",
       " <matplotlib.lines.Line2D at 0x202f67b2490>,\n",
       " <matplotlib.lines.Line2D at 0x202f67b2550>,\n",
       " <matplotlib.lines.Line2D at 0x202f67b2610>,\n",
       " <matplotlib.lines.Line2D at 0x202f67b26d0>,\n",
       " <matplotlib.lines.Line2D at 0x202f67b2790>,\n",
       " <matplotlib.lines.Line2D at 0x202f67b2850>,\n",
       " <matplotlib.lines.Line2D at 0x202f67b2910>,\n",
       " <matplotlib.lines.Line2D at 0x202f67b29d0>,\n",
       " <matplotlib.lines.Line2D at 0x202f67b2a90>,\n",
       " <matplotlib.lines.Line2D at 0x202f67b2b50>,\n",
       " <matplotlib.lines.Line2D at 0x202f67b2c10>,\n",
       " <matplotlib.lines.Line2D at 0x202f67b2cd0>,\n",
       " <matplotlib.lines.Line2D at 0x202f67b2d90>,\n",
       " <matplotlib.lines.Line2D at 0x202f67b2e50>,\n",
       " <matplotlib.lines.Line2D at 0x202f67b2f10>,\n",
       " <matplotlib.lines.Line2D at 0x202f67b2fd0>,\n",
       " <matplotlib.lines.Line2D at 0x202f67b90d0>,\n",
       " <matplotlib.lines.Line2D at 0x202f67b9190>,\n",
       " <matplotlib.lines.Line2D at 0x202f67b9250>,\n",
       " <matplotlib.lines.Line2D at 0x202f67b9310>,\n",
       " <matplotlib.lines.Line2D at 0x202f67b93d0>,\n",
       " <matplotlib.lines.Line2D at 0x202f67b9490>,\n",
       " <matplotlib.lines.Line2D at 0x202f67b9550>,\n",
       " <matplotlib.lines.Line2D at 0x202f67b9610>,\n",
       " <matplotlib.lines.Line2D at 0x202f67b96d0>,\n",
       " <matplotlib.lines.Line2D at 0x202f67b9790>,\n",
       " <matplotlib.lines.Line2D at 0x202f67b9850>,\n",
       " <matplotlib.lines.Line2D at 0x202f67b9910>,\n",
       " <matplotlib.lines.Line2D at 0x202f67b99d0>,\n",
       " <matplotlib.lines.Line2D at 0x202f67b9a90>,\n",
       " <matplotlib.lines.Line2D at 0x202f67b9b50>,\n",
       " <matplotlib.lines.Line2D at 0x202f67b9c10>,\n",
       " <matplotlib.lines.Line2D at 0x202f67b9cd0>,\n",
       " <matplotlib.lines.Line2D at 0x202f67b9d90>,\n",
       " <matplotlib.lines.Line2D at 0x202f67b9e50>,\n",
       " <matplotlib.lines.Line2D at 0x202f67b9f10>,\n",
       " <matplotlib.lines.Line2D at 0x202f67b9fd0>,\n",
       " <matplotlib.lines.Line2D at 0x202f67c00d0>,\n",
       " <matplotlib.lines.Line2D at 0x202f67c0190>,\n",
       " <matplotlib.lines.Line2D at 0x202f67c0250>,\n",
       " <matplotlib.lines.Line2D at 0x202f67c0310>,\n",
       " <matplotlib.lines.Line2D at 0x202f67c03d0>,\n",
       " <matplotlib.lines.Line2D at 0x202f67c0490>,\n",
       " <matplotlib.lines.Line2D at 0x202f67c0550>,\n",
       " <matplotlib.lines.Line2D at 0x202f67c0610>,\n",
       " <matplotlib.lines.Line2D at 0x202f67c06d0>,\n",
       " <matplotlib.lines.Line2D at 0x202f67c0790>,\n",
       " <matplotlib.lines.Line2D at 0x202f67c0850>,\n",
       " <matplotlib.lines.Line2D at 0x202f67c0910>,\n",
       " <matplotlib.lines.Line2D at 0x202f67c09d0>,\n",
       " <matplotlib.lines.Line2D at 0x202f67c0a90>,\n",
       " <matplotlib.lines.Line2D at 0x202f67c0b50>,\n",
       " <matplotlib.lines.Line2D at 0x202f67c0c10>,\n",
       " <matplotlib.lines.Line2D at 0x202f67c0cd0>,\n",
       " <matplotlib.lines.Line2D at 0x202f67c0d90>,\n",
       " <matplotlib.lines.Line2D at 0x202f67c0e50>,\n",
       " <matplotlib.lines.Line2D at 0x202f67c0f10>,\n",
       " <matplotlib.lines.Line2D at 0x202f67c0fd0>,\n",
       " <matplotlib.lines.Line2D at 0x202f67c50d0>,\n",
       " <matplotlib.lines.Line2D at 0x202f67c5190>,\n",
       " <matplotlib.lines.Line2D at 0x202f67c5250>,\n",
       " <matplotlib.lines.Line2D at 0x202f67c5310>]"
      ]
     },
     "execution_count": 139,
     "metadata": {},
     "output_type": "execute_result"
    },
    {
     "data": {
      "image/png": "[encoded data removed]",
      "text/plain": [
       "<Figure size 432x288 with 1 Axes>"
      ]
     },
     "metadata": {},
     "output_type": "display_data"
    }
   ],
   "source": [
    "plt.plot(dataCropsTransposed)"
   ]
  },
  {
   "cell_type": "markdown",
   "metadata": {},
   "source": [
    "#### 5.1.5 Plotting **dataCropsTransposed**"
   ]
  },
  {
   "cell_type": "code",
   "execution_count": 247,
   "metadata": {},
   "outputs": [],
   "source": [
    "dataCropsTransposed.to_csv(\"dataCropsTransposed.csv\", index=False, header=True)"
   ]
  },
  {
   "cell_type": "code",
   "execution_count": 203,
   "metadata": {},
   "outputs": [
    {
     "data": {
      "image/png": "[encoded data removed]",
      "text/plain": [
       "<Figure size 432x288 with 1 Axes>"
      ]
     },
     "metadata": {},
     "output_type": "display_data"
    }
   ],
   "source": [
    "#Plotting cereals\n",
    "plt.plot(dataCropsTransposed[\"Cereals, Total\"])\n",
    "plt.xlabel(\"Year\")\n",
    "plt.ylabel(\"Production\")\n",
    "plt.show()"
   ]
  },
  {
   "cell_type": "code",
   "execution_count": 202,
   "metadata": {},
   "outputs": [
    {
     "data": {
      "image/png": "[encoded data removed]",
      "text/plain": [
       "<Figure size 432x288 with 1 Axes>"
      ]
     },
     "metadata": {},
     "output_type": "display_data"
    }
   ],
   "source": [
    "#Ploting \"Roots and Tubers, Total\"\n",
    "plt.plot(dataCropsTransposed[\"Roots and Tubers, Total\"])\n",
    "plt.xlabel(\"Year\")\n",
    "plt.ylabel(\"Production\")\n",
    "plt.show()"
   ]
  },
  {
   "cell_type": "code",
   "execution_count": 204,
   "metadata": {},
   "outputs": [
    {
     "data": {
      "image/png": "[encoded data removed]",
      "text/plain": [
       "<Figure size 432x288 with 1 Axes>"
      ]
     },
     "metadata": {},
     "output_type": "display_data"
    }
   ],
   "source": [
    "#Plotting \"Potatoes\"\n",
    "plt.plot(dataCropsTransposed[\"Potatoes\"])\n",
    "plt.xlabel(\"Year\")\n",
    "plt.ylabel(\"Production\")\n",
    "plt.show()"
   ]
  },
  {
   "cell_type": "code",
   "execution_count": 144,
   "metadata": {},
   "outputs": [
    {
     "data": {
      "text/plain": [
       "[<matplotlib.lines.Line2D at 0x202f6a2cd60>]"
      ]
     },
     "execution_count": 144,
     "metadata": {},
     "output_type": "execute_result"
    },
    {
     "data": {
      "image/png": "[encoded data removed]",
      "text/plain": [
       "<Figure size 432x288 with 1 Axes>"
      ]
     },
     "metadata": {},
     "output_type": "display_data"
    }
   ],
   "source": [
    "# Plotting the three together\n",
    "plt.plot(dataCropsTransposed[\"Cereals, Total\"], color = 'blue')\n",
    "plt.plot(dataCropsTransposed[\"Roots and Tubers, Total\"], color = \"green\")\n",
    "plt.plot(dataCropsTransposed[\"Potatoes\"], color = 'red')"
   ]
  },
  {
   "cell_type": "markdown",
   "metadata": {},
   "source": [
    "### 5.2 GHG emission data collection procedure"
   ]
  },
  {
   "cell_type": "markdown",
   "metadata": {},
   "source": [
    "The datasets of Nitrous Oxide (N2O), Methane (CH4) and Carbon dioxide (CO2), were gathered from the *databank.worldbank.org*. Those datasets were filtered using the the tools provided by the website itself to include only Poland from the period from 1971 to 2019."
   ]
  },
  {
   "cell_type": "markdown",
   "metadata": {},
   "source": [
    "#### 5.2.1 Loading the dataset"
   ]
  },
  {
   "cell_type": "code",
   "execution_count": 167,
   "metadata": {},
   "outputs": [],
   "source": [
    "# Loading Nitrous Oxide (N2O) dataset\n",
    "data_nitrox = pd.read_csv(r\"C:\\Users\\USER\\Documents\\Desarrollador\\PYTHON\\2021-Python-exercises\\statistics-projects\\2022-02-18-tarea-phd-statistics\\2019-1971-nitrous-TRANSPOSED-Poland.csv\", index_col=None)"
   ]
  },
  {
   "cell_type": "markdown",
   "metadata": {},
   "source": [
    "#### 5.2.2 Describing the N20 dataset"
   ]
  },
  {
   "cell_type": "code",
   "execution_count": 168,
   "metadata": {},
   "outputs": [
    {
     "data": {
      "text/plain": [
       "Index(['Year', 'Nitrous oxide emissions (thousand metric tons of CO2 equivalent)'], dtype='object')"
      ]
     },
     "execution_count": 168,
     "metadata": {},
     "output_type": "execute_result"
    }
   ],
   "source": [
    "data_nitrox.columns"
   ]
  },
  {
   "cell_type": "code",
   "execution_count": 71,
   "metadata": {},
   "outputs": [],
   "source": [
    "vars_ghg_charact = ([[\"Variable\", \"Description\", \"Type\", \"Level\"],\n",
    "                     [\"Series Name\", \"Nitrous Oxide\", \"String\", \"Nominal\"],\n",
    "                     [\"Series Code\", \"Code of the series\", \"String\", \"Nominal\"],\n",
    "                     [\"Country Name\", \"Poland\", \"String\", \"Nominal\"],\n",
    "                     [\"Country Code\", \"POL\", \"String\", \"Nominal\"],\n",
    "                     [\"Year\", \"From 1971 to 2019\", \"Float\", \"Ratio\"]])"
   ]
  },
  {
   "cell_type": "code",
   "execution_count": 169,
   "metadata": {},
   "outputs": [
    {
     "name": "stdout",
     "output_type": "stream",
     "text": [
      "╒══════════════╤════════════════════╤════════╤═════════╕\n",
      "│ Variable     │ Description        │ Type   │ Level   │\n",
      "╞══════════════╪════════════════════╪════════╪═════════╡\n",
      "│ Series Name  │ Nitrous Oxide      │ String │ Nominal │\n",
      "├──────────────┼────────────────────┼────────┼─────────┤\n",
      "│ Series Code  │ Code of the series │ String │ Nominal │\n",
      "├──────────────┼────────────────────┼────────┼─────────┤\n",
      "│ Country Name │ Poland             │ String │ Nominal │\n",
      "├──────────────┼────────────────────┼────────┼─────────┤\n",
      "│ Country Code │ POL                │ String │ Nominal │\n",
      "├──────────────┼────────────────────┼────────┼─────────┤\n",
      "│ Year         │ From 1971 to 2019  │ Float  │ Ratio   │\n",
      "╘══════════════╧════════════════════╧════════╧═════════╛\n"
     ]
    }
   ],
   "source": [
    "print(tabulate(vars_ghg_charact, headers=\"firstrow\", tablefmt=\"fancy_grid\"))"
   ]
  },
  {
   "cell_type": "code",
   "execution_count": 170,
   "metadata": {},
   "outputs": [
    {
     "data": {
      "text/html": [
       "<div>\n",
       "<style scoped>\n",
       "    .dataframe tbody tr th:only-of-type {\n",
       "        vertical-align: middle;\n",
       "    }\n",
       "\n",
       "    .dataframe tbody tr th {\n",
       "        vertical-align: top;\n",
       "    }\n",
       "\n",
       "    .dataframe thead th {\n",
       "        text-align: right;\n",
       "    }\n",
       "</style>\n",
       "<table border=\"1\" class=\"dataframe\">\n",
       "  <thead>\n",
       "    <tr style=\"text-align: right;\">\n",
       "      <th></th>\n",
       "      <th>Nitrous oxide emissions (thousand metric tons of CO2 equivalent)</th>\n",
       "    </tr>\n",
       "  </thead>\n",
       "  <tbody>\n",
       "    <tr>\n",
       "      <th>count</th>\n",
       "      <td>48.00</td>\n",
       "    </tr>\n",
       "    <tr>\n",
       "      <th>mean</th>\n",
       "      <td>30,026.39</td>\n",
       "    </tr>\n",
       "    <tr>\n",
       "      <th>std</th>\n",
       "      <td>8,996.23</td>\n",
       "    </tr>\n",
       "    <tr>\n",
       "      <th>min</th>\n",
       "      <td>20,500.00</td>\n",
       "    </tr>\n",
       "    <tr>\n",
       "      <th>25%</th>\n",
       "      <td>23,230.00</td>\n",
       "    </tr>\n",
       "    <tr>\n",
       "      <th>50%</th>\n",
       "      <td>24,595.00</td>\n",
       "    </tr>\n",
       "    <tr>\n",
       "      <th>75%</th>\n",
       "      <td>38,085.51</td>\n",
       "    </tr>\n",
       "    <tr>\n",
       "      <th>max</th>\n",
       "      <td>46,495.35</td>\n",
       "    </tr>\n",
       "  </tbody>\n",
       "</table>\n",
       "</div>"
      ],
      "text/plain": [
       "       Nitrous oxide emissions (thousand metric tons of CO2 equivalent)\n",
       "count                                              48.00               \n",
       "mean                                           30,026.39               \n",
       "std                                             8,996.23               \n",
       "min                                            20,500.00               \n",
       "25%                                            23,230.00               \n",
       "50%                                            24,595.00               \n",
       "75%                                            38,085.51               \n",
       "max                                            46,495.35               "
      ]
     },
     "execution_count": 170,
     "metadata": {},
     "output_type": "execute_result"
    }
   ],
   "source": [
    "data_nitrox.describe()"
   ]
  },
  {
   "cell_type": "markdown",
   "metadata": {},
   "source": [
    "#### 5.2.3 Preparing **data_nitrox** dataset for plotting"
   ]
  },
  {
   "cell_type": "code",
   "execution_count": 149,
   "metadata": {},
   "outputs": [
    {
     "data": {
      "text/plain": [
       "0    37,691.04\n",
       "1    38,576.71\n",
       "2    43,345.13\n",
       "3    45,306.19\n",
       "4    46,495.35\n",
       "5    45,570.62\n",
       "6    45,052.30\n",
       "7    45,157.70\n",
       "8    43,692.33\n",
       "9    42,734.12\n",
       "10   39,221.51\n",
       "11   38,505.41\n",
       "12   38,738.53\n",
       "13   37,945.55\n",
       "14   36,851.87\n",
       "15   37,214.88\n",
       "16   36,149.10\n",
       "17   36,435.54\n",
       "18   35,743.00\n",
       "19   24,920.00\n",
       "20   24,010.00\n",
       "21   23,110.00\n",
       "22   23,780.00\n",
       "23   24,040.00\n",
       "24   24,550.00\n",
       "25   24,600.00\n",
       "26   25,110.00\n",
       "27   23,650.00\n",
       "28   23,270.00\n",
       "29   23,720.00\n",
       "30   23,500.00\n",
       "31   23,040.00\n",
       "32   23,670.00\n",
       "33   23,760.00\n",
       "34   24,590.00\n",
       "35   24,670.00\n",
       "36   25,570.00\n",
       "37   24,350.00\n",
       "38   21,020.00\n",
       "39   21,740.00\n",
       "40   21,420.00\n",
       "41   21,890.00\n",
       "42   21,030.00\n",
       "43   20,500.00\n",
       "44   20,680.00\n",
       "45   21,620.00\n",
       "46   21,550.00\n",
       "47   21,480.00\n",
       "Name: Nitrous oxide emissions (thousand metric tons of CO2 equivalent), dtype: float64"
      ]
     },
     "execution_count": 149,
     "metadata": {},
     "output_type": "execute_result"
    }
   ],
   "source": [
    "pd.to_numeric(data_nitrox[\"Nitrous oxide emissions (thousand metric tons of CO2 equivalent)\"])"
   ]
  },
  {
   "cell_type": "markdown",
   "metadata": {},
   "source": [
    "#### 5.2.4 Plotting **data_nitrox**"
   ]
  },
  {
   "cell_type": "code",
   "execution_count": 171,
   "metadata": {},
   "outputs": [
    {
     "data": {
      "text/plain": [
       "[<matplotlib.lines.Line2D at 0x202f7a20f40>]"
      ]
     },
     "execution_count": 171,
     "metadata": {},
     "output_type": "execute_result"
    },
    {
     "data": {
      "image/png": "[encoded data removed]",
      "text/plain": [
       "<Figure size 432x288 with 1 Axes>"
      ]
     },
     "metadata": {},
     "output_type": "display_data"
    }
   ],
   "source": [
    "plt.plot(data_nitrox[\"Year\"], data_nitrox[\"Nitrous oxide emissions (thousand metric tons of CO2 equivalent)\"])"
   ]
  },
  {
   "cell_type": "markdown",
   "metadata": {},
   "source": [
    "## 6. Data analysis"
   ]
  },
  {
   "cell_type": "markdown",
   "metadata": {},
   "source": [
    "To analyze the data, it was required to create a correlation analysis."
   ]
  },
  {
   "cell_type": "markdown",
   "metadata": {},
   "source": [
    "#### 6.1 Bivariate analysis"
   ]
  },
  {
   "cell_type": "markdown",
   "metadata": {},
   "source": [
    "##### 6.1.1 Scatter plot  and Regression: N2O vs Cereals"
   ]
  },
  {
   "cell_type": "code",
   "execution_count": 190,
   "metadata": {},
   "outputs": [],
   "source": [
    "y = data_nitrox[\"Nitrous oxide emissions (thousand metric tons of CO2 equivalent)\"].tolist()\n",
    "x1 = dataCropsTransposed[\"Cereals, Total\"].tolist()"
   ]
  },
  {
   "cell_type": "code",
   "execution_count": 206,
   "metadata": {},
   "outputs": [
    {
     "name": "stderr",
     "output_type": "stream",
     "text": [
      "C:\\Users\\USER\\Anaconda\\lib\\site-packages\\seaborn\\_decorators.py:36: FutureWarning: Pass the following variables as keyword args: x, y. From version 0.12, the only valid positional argument will be `data`, and passing other arguments without an explicit keyword will result in an error or misinterpretation.\n",
      "  warnings.warn(\n"
     ]
    },
    {
     "data": {
      "image/png": "[encoded data removed]",
      "text/plain": [
       "<Figure size 432x288 with 1 Axes>"
      ]
     },
     "metadata": {},
     "output_type": "display_data"
    }
   ],
   "source": [
    "sns.regplot(x1, y)\n",
    "plt.xlabel(\"Cereals production\")\n",
    "plt.ylabel(\"N2O emissions\")\n",
    "plt.show()"
   ]
  },
  {
   "cell_type": "code",
   "execution_count": 193,
   "metadata": {},
   "outputs": [
    {
     "data": {
      "text/html": [
       "<table class=\"simpletable\">\n",
       "<caption>OLS Regression Results</caption>\n",
       "<tr>\n",
       "  <th>Dep. Variable:</th>            <td>y</td>        <th>  R-squared:         </th> <td>   0.552</td>\n",
       "</tr>\n",
       "<tr>\n",
       "  <th>Model:</th>                   <td>OLS</td>       <th>  Adj. R-squared:    </th> <td>   0.542</td>\n",
       "</tr>\n",
       "<tr>\n",
       "  <th>Method:</th>             <td>Least Squares</td>  <th>  F-statistic:       </th> <td>   56.57</td>\n",
       "</tr>\n",
       "<tr>\n",
       "  <th>Date:</th>             <td>Fri, 18 Feb 2022</td> <th>  Prob (F-statistic):</th> <td>1.51e-09</td>\n",
       "</tr>\n",
       "<tr>\n",
       "  <th>Time:</th>                 <td>11:38:58</td>     <th>  Log-Likelihood:    </th> <td> -485.38</td>\n",
       "</tr>\n",
       "<tr>\n",
       "  <th>No. Observations:</th>      <td>    48</td>      <th>  AIC:               </th> <td>   974.8</td>\n",
       "</tr>\n",
       "<tr>\n",
       "  <th>Df Residuals:</th>          <td>    46</td>      <th>  BIC:               </th> <td>   978.5</td>\n",
       "</tr>\n",
       "<tr>\n",
       "  <th>Df Model:</th>              <td>     1</td>      <th>                     </th>     <td> </td>   \n",
       "</tr>\n",
       "<tr>\n",
       "  <th>Covariance Type:</th>      <td>nonrobust</td>    <th>                     </th>     <td> </td>   \n",
       "</tr>\n",
       "</table>\n",
       "<table class=\"simpletable\">\n",
       "<tr>\n",
       "    <td></td>       <th>coef</th>     <th>std err</th>      <th>t</th>      <th>P>|t|</th>  <th>[0.025</th>    <th>0.975]</th>  \n",
       "</tr>\n",
       "<tr>\n",
       "  <th>const</th> <td> 9.057e+04</td> <td> 8097.572</td> <td>   11.185</td> <td> 0.000</td> <td> 7.43e+04</td> <td> 1.07e+05</td>\n",
       "</tr>\n",
       "<tr>\n",
       "  <th>x1</th>    <td>   -0.0018</td> <td>    0.000</td> <td>   -7.521</td> <td> 0.000</td> <td>   -0.002</td> <td>   -0.001</td>\n",
       "</tr>\n",
       "</table>\n",
       "<table class=\"simpletable\">\n",
       "<tr>\n",
       "  <th>Omnibus:</th>       <td> 0.590</td> <th>  Durbin-Watson:     </th> <td>   0.885</td>\n",
       "</tr>\n",
       "<tr>\n",
       "  <th>Prob(Omnibus):</th> <td> 0.744</td> <th>  Jarque-Bera (JB):  </th> <td>   0.580</td>\n",
       "</tr>\n",
       "<tr>\n",
       "  <th>Skew:</th>          <td>-0.245</td> <th>  Prob(JB):          </th> <td>   0.748</td>\n",
       "</tr>\n",
       "<tr>\n",
       "  <th>Kurtosis:</th>      <td> 2.776</td> <th>  Cond. No.          </th> <td>3.06e+08</td>\n",
       "</tr>\n",
       "</table><br/><br/>Notes:<br/>[1] Standard Errors assume that the covariance matrix of the errors is correctly specified.<br/>[2] The condition number is large, 3.06e+08. This might indicate that there are<br/>strong multicollinearity or other numerical problems."
      ],
      "text/plain": [
       "<class 'statsmodels.iolib.summary.Summary'>\n",
       "\"\"\"\n",
       "                            OLS Regression Results                            \n",
       "==============================================================================\n",
       "Dep. Variable:                      y   R-squared:                       0.552\n",
       "Model:                            OLS   Adj. R-squared:                  0.542\n",
       "Method:                 Least Squares   F-statistic:                     56.57\n",
       "Date:                Fri, 18 Feb 2022   Prob (F-statistic):           1.51e-09\n",
       "Time:                        11:38:58   Log-Likelihood:                -485.38\n",
       "No. Observations:                  48   AIC:                             974.8\n",
       "Df Residuals:                      46   BIC:                             978.5\n",
       "Df Model:                           1                                         \n",
       "Covariance Type:            nonrobust                                         \n",
       "==============================================================================\n",
       "                 coef    std err          t      P>|t|      [0.025      0.975]\n",
       "------------------------------------------------------------------------------\n",
       "const       9.057e+04   8097.572     11.185      0.000    7.43e+04    1.07e+05\n",
       "x1            -0.0018      0.000     -7.521      0.000      -0.002      -0.001\n",
       "==============================================================================\n",
       "Omnibus:                        0.590   Durbin-Watson:                   0.885\n",
       "Prob(Omnibus):                  0.744   Jarque-Bera (JB):                0.580\n",
       "Skew:                          -0.245   Prob(JB):                        0.748\n",
       "Kurtosis:                       2.776   Cond. No.                     3.06e+08\n",
       "==============================================================================\n",
       "\n",
       "Notes:\n",
       "[1] Standard Errors assume that the covariance matrix of the errors is correctly specified.\n",
       "[2] The condition number is large, 3.06e+08. This might indicate that there are\n",
       "strong multicollinearity or other numerical problems.\n",
       "\"\"\""
      ]
     },
     "execution_count": 193,
     "metadata": {},
     "output_type": "execute_result"
    }
   ],
   "source": [
    "X_cereals = sm.add_constant(x1)\n",
    "results_cereals = sm.OLS(y,X_cereals).fit()\n",
    "results_cereals.summary()"
   ]
  },
  {
   "cell_type": "markdown",
   "metadata": {},
   "source": [
    "##### 6.1.2 Scatter plot and Regression: Nitrox vs Roots and Tubers"
   ]
  },
  {
   "cell_type": "code",
   "execution_count": 195,
   "metadata": {},
   "outputs": [],
   "source": [
    "x2 = dataCropsTransposed[\"Roots and Tubers, Total\"].tolist()"
   ]
  },
  {
   "cell_type": "code",
   "execution_count": 205,
   "metadata": {},
   "outputs": [
    {
     "name": "stderr",
     "output_type": "stream",
     "text": [
      "C:\\Users\\USER\\Anaconda\\lib\\site-packages\\seaborn\\_decorators.py:36: FutureWarning: Pass the following variables as keyword args: x, y. From version 0.12, the only valid positional argument will be `data`, and passing other arguments without an explicit keyword will result in an error or misinterpretation.\n",
      "  warnings.warn(\n"
     ]
    },
    {
     "data": {
      "image/png": "[encoded data removed]",
      "text/plain": [
       "<Figure size 432x288 with 1 Axes>"
      ]
     },
     "metadata": {},
     "output_type": "display_data"
    }
   ],
   "source": [
    "sns.regplot(x2, y)\n",
    "plt.xlabel(\"Roots and Tubers production\")\n",
    "plt.ylabel(\"Nitrous oxide emissions\")\n",
    "plt.show()"
   ]
  },
  {
   "cell_type": "code",
   "execution_count": 197,
   "metadata": {},
   "outputs": [
    {
     "data": {
      "text/html": [
       "<table class=\"simpletable\">\n",
       "<caption>OLS Regression Results</caption>\n",
       "<tr>\n",
       "  <th>Dep. Variable:</th>            <td>y</td>        <th>  R-squared:         </th> <td>   0.766</td>\n",
       "</tr>\n",
       "<tr>\n",
       "  <th>Model:</th>                   <td>OLS</td>       <th>  Adj. R-squared:    </th> <td>   0.761</td>\n",
       "</tr>\n",
       "<tr>\n",
       "  <th>Method:</th>             <td>Least Squares</td>  <th>  F-statistic:       </th> <td>   150.6</td>\n",
       "</tr>\n",
       "<tr>\n",
       "  <th>Date:</th>             <td>Fri, 18 Feb 2022</td> <th>  Prob (F-statistic):</th> <td>4.13e-16</td>\n",
       "</tr>\n",
       "<tr>\n",
       "  <th>Time:</th>                 <td>11:53:30</td>     <th>  Log-Likelihood:    </th> <td> -469.77</td>\n",
       "</tr>\n",
       "<tr>\n",
       "  <th>No. Observations:</th>      <td>    48</td>      <th>  AIC:               </th> <td>   943.5</td>\n",
       "</tr>\n",
       "<tr>\n",
       "  <th>Df Residuals:</th>          <td>    46</td>      <th>  BIC:               </th> <td>   947.3</td>\n",
       "</tr>\n",
       "<tr>\n",
       "  <th>Df Model:</th>              <td>     1</td>      <th>                     </th>     <td> </td>   \n",
       "</tr>\n",
       "<tr>\n",
       "  <th>Covariance Type:</th>      <td>nonrobust</td>    <th>                     </th>     <td> </td>   \n",
       "</tr>\n",
       "</table>\n",
       "<table class=\"simpletable\">\n",
       "<tr>\n",
       "    <td></td>       <th>coef</th>     <th>std err</th>      <th>t</th>      <th>P>|t|</th>  <th>[0.025</th>    <th>0.975]</th>  \n",
       "</tr>\n",
       "<tr>\n",
       "  <th>const</th> <td>  1.58e+04</td> <td> 1322.186</td> <td>   11.946</td> <td> 0.000</td> <td> 1.31e+04</td> <td> 1.85e+04</td>\n",
       "</tr>\n",
       "<tr>\n",
       "  <th>x1</th>    <td>    0.0005</td> <td> 4.17e-05</td> <td>   12.271</td> <td> 0.000</td> <td>    0.000</td> <td>    0.001</td>\n",
       "</tr>\n",
       "</table>\n",
       "<table class=\"simpletable\">\n",
       "<tr>\n",
       "  <th>Omnibus:</th>       <td> 4.151</td> <th>  Durbin-Watson:     </th> <td>   0.774</td>\n",
       "</tr>\n",
       "<tr>\n",
       "  <th>Prob(Omnibus):</th> <td> 0.126</td> <th>  Jarque-Bera (JB):  </th> <td>   3.277</td>\n",
       "</tr>\n",
       "<tr>\n",
       "  <th>Skew:</th>          <td>-0.379</td> <th>  Prob(JB):          </th> <td>   0.194</td>\n",
       "</tr>\n",
       "<tr>\n",
       "  <th>Kurtosis:</th>      <td> 4.031</td> <th>  Cond. No.          </th> <td>6.60e+07</td>\n",
       "</tr>\n",
       "</table><br/><br/>Notes:<br/>[1] Standard Errors assume that the covariance matrix of the errors is correctly specified.<br/>[2] The condition number is large, 6.6e+07. This might indicate that there are<br/>strong multicollinearity or other numerical problems."
      ],
      "text/plain": [
       "<class 'statsmodels.iolib.summary.Summary'>\n",
       "\"\"\"\n",
       "                            OLS Regression Results                            \n",
       "==============================================================================\n",
       "Dep. Variable:                      y   R-squared:                       0.766\n",
       "Model:                            OLS   Adj. R-squared:                  0.761\n",
       "Method:                 Least Squares   F-statistic:                     150.6\n",
       "Date:                Fri, 18 Feb 2022   Prob (F-statistic):           4.13e-16\n",
       "Time:                        11:53:30   Log-Likelihood:                -469.77\n",
       "No. Observations:                  48   AIC:                             943.5\n",
       "Df Residuals:                      46   BIC:                             947.3\n",
       "Df Model:                           1                                         \n",
       "Covariance Type:            nonrobust                                         \n",
       "==============================================================================\n",
       "                 coef    std err          t      P>|t|      [0.025      0.975]\n",
       "------------------------------------------------------------------------------\n",
       "const        1.58e+04   1322.186     11.946      0.000    1.31e+04    1.85e+04\n",
       "x1             0.0005   4.17e-05     12.271      0.000       0.000       0.001\n",
       "==============================================================================\n",
       "Omnibus:                        4.151   Durbin-Watson:                   0.774\n",
       "Prob(Omnibus):                  0.126   Jarque-Bera (JB):                3.277\n",
       "Skew:                          -0.379   Prob(JB):                        0.194\n",
       "Kurtosis:                       4.031   Cond. No.                     6.60e+07\n",
       "==============================================================================\n",
       "\n",
       "Notes:\n",
       "[1] Standard Errors assume that the covariance matrix of the errors is correctly specified.\n",
       "[2] The condition number is large, 6.6e+07. This might indicate that there are\n",
       "strong multicollinearity or other numerical problems.\n",
       "\"\"\""
      ]
     },
     "execution_count": 197,
     "metadata": {},
     "output_type": "execute_result"
    }
   ],
   "source": [
    "X_RootsTubers = sm.add_constant(x2)\n",
    "results_RootsTubers = sm.OLS(y, X_RootsTubers).fit()\n",
    "results_RootsTubers.summary()"
   ]
  },
  {
   "cell_type": "markdown",
   "metadata": {},
   "source": [
    "##### 6.1.3 Scatter plot and Regression: Nitrox vs Potatoes"
   ]
  },
  {
   "cell_type": "code",
   "execution_count": 198,
   "metadata": {},
   "outputs": [],
   "source": [
    "x3 = dataCropsTransposed[\"Potatoes\"].tolist()"
   ]
  },
  {
   "cell_type": "code",
   "execution_count": 207,
   "metadata": {},
   "outputs": [
    {
     "name": "stderr",
     "output_type": "stream",
     "text": [
      "C:\\Users\\USER\\Anaconda\\lib\\site-packages\\seaborn\\_decorators.py:36: FutureWarning: Pass the following variables as keyword args: x, y. From version 0.12, the only valid positional argument will be `data`, and passing other arguments without an explicit keyword will result in an error or misinterpretation.\n",
      "  warnings.warn(\n"
     ]
    },
    {
     "data": {
      "image/png": "[encoded data removed]",
      "text/plain": [
       "<Figure size 432x288 with 1 Axes>"
      ]
     },
     "metadata": {},
     "output_type": "display_data"
    }
   ],
   "source": [
    "sns.regplot(x3, y)\n",
    "plt.xlabel(\"Potatoes production\")\n",
    "plt.ylabel(\"Nitrous oxide emissions\")\n",
    "plt.show()"
   ]
  },
  {
   "cell_type": "code",
   "execution_count": 200,
   "metadata": {},
   "outputs": [
    {
     "data": {
      "text/html": [
       "<table class=\"simpletable\">\n",
       "<caption>OLS Regression Results</caption>\n",
       "<tr>\n",
       "  <th>Dep. Variable:</th>            <td>y</td>        <th>  R-squared:         </th> <td>   0.766</td>\n",
       "</tr>\n",
       "<tr>\n",
       "  <th>Model:</th>                   <td>OLS</td>       <th>  Adj. R-squared:    </th> <td>   0.761</td>\n",
       "</tr>\n",
       "<tr>\n",
       "  <th>Method:</th>             <td>Least Squares</td>  <th>  F-statistic:       </th> <td>   150.6</td>\n",
       "</tr>\n",
       "<tr>\n",
       "  <th>Date:</th>             <td>Fri, 18 Feb 2022</td> <th>  Prob (F-statistic):</th> <td>4.13e-16</td>\n",
       "</tr>\n",
       "<tr>\n",
       "  <th>Time:</th>                 <td>11:55:46</td>     <th>  Log-Likelihood:    </th> <td> -469.77</td>\n",
       "</tr>\n",
       "<tr>\n",
       "  <th>No. Observations:</th>      <td>    48</td>      <th>  AIC:               </th> <td>   943.5</td>\n",
       "</tr>\n",
       "<tr>\n",
       "  <th>Df Residuals:</th>          <td>    46</td>      <th>  BIC:               </th> <td>   947.3</td>\n",
       "</tr>\n",
       "<tr>\n",
       "  <th>Df Model:</th>              <td>     1</td>      <th>                     </th>     <td> </td>   \n",
       "</tr>\n",
       "<tr>\n",
       "  <th>Covariance Type:</th>      <td>nonrobust</td>    <th>                     </th>     <td> </td>   \n",
       "</tr>\n",
       "</table>\n",
       "<table class=\"simpletable\">\n",
       "<tr>\n",
       "    <td></td>       <th>coef</th>     <th>std err</th>      <th>t</th>      <th>P>|t|</th>  <th>[0.025</th>    <th>0.975]</th>  \n",
       "</tr>\n",
       "<tr>\n",
       "  <th>const</th> <td>  1.58e+04</td> <td> 1322.186</td> <td>   11.946</td> <td> 0.000</td> <td> 1.31e+04</td> <td> 1.85e+04</td>\n",
       "</tr>\n",
       "<tr>\n",
       "  <th>x1</th>    <td>    0.0005</td> <td> 4.17e-05</td> <td>   12.271</td> <td> 0.000</td> <td>    0.000</td> <td>    0.001</td>\n",
       "</tr>\n",
       "</table>\n",
       "<table class=\"simpletable\">\n",
       "<tr>\n",
       "  <th>Omnibus:</th>       <td> 4.151</td> <th>  Durbin-Watson:     </th> <td>   0.774</td>\n",
       "</tr>\n",
       "<tr>\n",
       "  <th>Prob(Omnibus):</th> <td> 0.126</td> <th>  Jarque-Bera (JB):  </th> <td>   3.277</td>\n",
       "</tr>\n",
       "<tr>\n",
       "  <th>Skew:</th>          <td>-0.379</td> <th>  Prob(JB):          </th> <td>   0.194</td>\n",
       "</tr>\n",
       "<tr>\n",
       "  <th>Kurtosis:</th>      <td> 4.031</td> <th>  Cond. No.          </th> <td>6.60e+07</td>\n",
       "</tr>\n",
       "</table><br/><br/>Notes:<br/>[1] Standard Errors assume that the covariance matrix of the errors is correctly specified.<br/>[2] The condition number is large, 6.6e+07. This might indicate that there are<br/>strong multicollinearity or other numerical problems."
      ],
      "text/plain": [
       "<class 'statsmodels.iolib.summary.Summary'>\n",
       "\"\"\"\n",
       "                            OLS Regression Results                            \n",
       "==============================================================================\n",
       "Dep. Variable:                      y   R-squared:                       0.766\n",
       "Model:                            OLS   Adj. R-squared:                  0.761\n",
       "Method:                 Least Squares   F-statistic:                     150.6\n",
       "Date:                Fri, 18 Feb 2022   Prob (F-statistic):           4.13e-16\n",
       "Time:                        11:55:46   Log-Likelihood:                -469.77\n",
       "No. Observations:                  48   AIC:                             943.5\n",
       "Df Residuals:                      46   BIC:                             947.3\n",
       "Df Model:                           1                                         \n",
       "Covariance Type:            nonrobust                                         \n",
       "==============================================================================\n",
       "                 coef    std err          t      P>|t|      [0.025      0.975]\n",
       "------------------------------------------------------------------------------\n",
       "const        1.58e+04   1322.186     11.946      0.000    1.31e+04    1.85e+04\n",
       "x1             0.0005   4.17e-05     12.271      0.000       0.000       0.001\n",
       "==============================================================================\n",
       "Omnibus:                        4.151   Durbin-Watson:                   0.774\n",
       "Prob(Omnibus):                  0.126   Jarque-Bera (JB):                3.277\n",
       "Skew:                          -0.379   Prob(JB):                        0.194\n",
       "Kurtosis:                       4.031   Cond. No.                     6.60e+07\n",
       "==============================================================================\n",
       "\n",
       "Notes:\n",
       "[1] Standard Errors assume that the covariance matrix of the errors is correctly specified.\n",
       "[2] The condition number is large, 6.6e+07. This might indicate that there are\n",
       "strong multicollinearity or other numerical problems.\n",
       "\"\"\""
      ]
     },
     "execution_count": 200,
     "metadata": {},
     "output_type": "execute_result"
    }
   ],
   "source": [
    "X_Potatoes = sm.add_constant(x3)\n",
    "results_Potatoes = sm.OLS(y, X_Potatoes).fit()\n",
    "results_Potatoes.summary()"
   ]
  },
  {
   "cell_type": "markdown",
   "metadata": {},
   "source": [
    "#### 6.2 Multiple variables analysis"
   ]
  },
  {
   "cell_type": "markdown",
   "metadata": {},
   "source": [
    "A new file was created in RStudio. This file contains the two datasets merged."
   ]
  },
  {
   "cell_type": "code",
   "execution_count": 259,
   "metadata": {},
   "outputs": [],
   "source": [
    "CropsNitrox = pd.read_csv(r\"C:\\Users\\USER\\Documents\\Desarrollador\\PYTHON\\2021-Python-exercises\\statistics-projects\\CropsNitrox.csv\")"
   ]
  },
  {
   "cell_type": "code",
   "execution_count": 274,
   "metadata": {},
   "outputs": [
    {
     "data": {
      "text/html": [
       "<div>\n",
       "<style scoped>\n",
       "    .dataframe tbody tr th:only-of-type {\n",
       "        vertical-align: middle;\n",
       "    }\n",
       "\n",
       "    .dataframe tbody tr th {\n",
       "        vertical-align: top;\n",
       "    }\n",
       "\n",
       "    .dataframe thead th {\n",
       "        text-align: right;\n",
       "    }\n",
       "</style>\n",
       "<table border=\"1\" class=\"dataframe\">\n",
       "  <thead>\n",
       "    <tr style=\"text-align: right;\">\n",
       "      <th></th>\n",
       "      <th>Nitrous.oxide.emissions..thousand.metric.tons.of.CO2.equivalent.</th>\n",
       "      <th>Cereals..Total</th>\n",
       "      <th>Roots.and.Tubers..Total</th>\n",
       "      <th>Potatoes</th>\n",
       "    </tr>\n",
       "  </thead>\n",
       "  <tbody>\n",
       "    <tr>\n",
       "      <th>count</th>\n",
       "      <td>48.00</td>\n",
       "      <td>48.00</td>\n",
       "      <td>48.00</td>\n",
       "      <td>48.00</td>\n",
       "    </tr>\n",
       "    <tr>\n",
       "      <th>mean</th>\n",
       "      <td>30,026.39</td>\n",
       "      <td>32,980,603.17</td>\n",
       "      <td>27,794,209.40</td>\n",
       "      <td>27,794,209.40</td>\n",
       "    </tr>\n",
       "    <tr>\n",
       "      <th>std</th>\n",
       "      <td>8,996.23</td>\n",
       "      <td>3,639,354.81</td>\n",
       "      <td>15,377,540.62</td>\n",
       "      <td>15,377,540.62</td>\n",
       "    </tr>\n",
       "    <tr>\n",
       "      <th>min</th>\n",
       "      <td>20,500.00</td>\n",
       "      <td>25,234,198.00</td>\n",
       "      <td>6,824,231.00</td>\n",
       "      <td>6,824,231.00</td>\n",
       "    </tr>\n",
       "    <tr>\n",
       "      <th>25%</th>\n",
       "      <td>23,230.00</td>\n",
       "      <td>30,170,408.00</td>\n",
       "      <td>11,184,625.75</td>\n",
       "      <td>11,184,625.75</td>\n",
       "    </tr>\n",
       "    <tr>\n",
       "      <th>50%</th>\n",
       "      <td>24,595.00</td>\n",
       "      <td>34,084,246.00</td>\n",
       "      <td>27,010,621.50</td>\n",
       "      <td>27,010,621.50</td>\n",
       "    </tr>\n",
       "    <tr>\n",
       "      <th>75%</th>\n",
       "      <td>38,085.51</td>\n",
       "      <td>35,616,846.50</td>\n",
       "      <td>39,051,279.75</td>\n",
       "      <td>39,051,279.75</td>\n",
       "    </tr>\n",
       "    <tr>\n",
       "      <th>max</th>\n",
       "      <td>46,495.35</td>\n",
       "      <td>39,568,956.00</td>\n",
       "      <td>54,800,486.00</td>\n",
       "      <td>54,800,486.00</td>\n",
       "    </tr>\n",
       "  </tbody>\n",
       "</table>\n",
       "</div>"
      ],
      "text/plain": [
       "       Nitrous.oxide.emissions..thousand.metric.tons.of.CO2.equivalent.  \\\n",
       "count                                              48.00                  \n",
       "mean                                           30,026.39                  \n",
       "std                                             8,996.23                  \n",
       "min                                            20,500.00                  \n",
       "25%                                            23,230.00                  \n",
       "50%                                            24,595.00                  \n",
       "75%                                            38,085.51                  \n",
       "max                                            46,495.35                  \n",
       "\n",
       "       Cereals..Total  Roots.and.Tubers..Total      Potatoes  \n",
       "count           48.00                    48.00         48.00  \n",
       "mean    32,980,603.17            27,794,209.40 27,794,209.40  \n",
       "std      3,639,354.81            15,377,540.62 15,377,540.62  \n",
       "min     25,234,198.00             6,824,231.00  6,824,231.00  \n",
       "25%     30,170,408.00            11,184,625.75 11,184,625.75  \n",
       "50%     34,084,246.00            27,010,621.50 27,010,621.50  \n",
       "75%     35,616,846.50            39,051,279.75 39,051,279.75  \n",
       "max     39,568,956.00            54,800,486.00 54,800,486.00  "
      ]
     },
     "execution_count": 274,
     "metadata": {},
     "output_type": "execute_result"
    }
   ],
   "source": [
    "CropsNitrox.describe()"
   ]
  },
  {
   "cell_type": "code",
   "execution_count": 260,
   "metadata": {},
   "outputs": [
    {
     "data": {
      "text/html": [
       "<div>\n",
       "<style scoped>\n",
       "    .dataframe tbody tr th:only-of-type {\n",
       "        vertical-align: middle;\n",
       "    }\n",
       "\n",
       "    .dataframe tbody tr th {\n",
       "        vertical-align: top;\n",
       "    }\n",
       "\n",
       "    .dataframe thead th {\n",
       "        text-align: right;\n",
       "    }\n",
       "</style>\n",
       "<table border=\"1\" class=\"dataframe\">\n",
       "  <thead>\n",
       "    <tr style=\"text-align: right;\">\n",
       "      <th></th>\n",
       "      <th>Year</th>\n",
       "      <th>Nitrous.oxide.emissions..thousand.metric.tons.of.CO2.equivalent.</th>\n",
       "      <th>Cereals..Total</th>\n",
       "      <th>Roots.and.Tubers..Total</th>\n",
       "      <th>Potatoes</th>\n",
       "    </tr>\n",
       "  </thead>\n",
       "  <tbody>\n",
       "    <tr>\n",
       "      <th>0</th>\n",
       "      <td>1971 [YR1971]</td>\n",
       "      <td>37,691.04</td>\n",
       "      <td>28346210</td>\n",
       "      <td>42619605</td>\n",
       "      <td>42619605</td>\n",
       "    </tr>\n",
       "    <tr>\n",
       "      <th>1</th>\n",
       "      <td>1972 [YR1972]</td>\n",
       "      <td>38,576.71</td>\n",
       "      <td>28911646</td>\n",
       "      <td>51574900</td>\n",
       "      <td>51574900</td>\n",
       "    </tr>\n",
       "    <tr>\n",
       "      <th>2</th>\n",
       "      <td>1973 [YR1973]</td>\n",
       "      <td>43,345.13</td>\n",
       "      <td>30132506</td>\n",
       "      <td>54800486</td>\n",
       "      <td>54800486</td>\n",
       "    </tr>\n",
       "    <tr>\n",
       "      <th>3</th>\n",
       "      <td>1974 [YR1974]</td>\n",
       "      <td>45,306.19</td>\n",
       "      <td>31093909</td>\n",
       "      <td>51383477</td>\n",
       "      <td>51383477</td>\n",
       "    </tr>\n",
       "    <tr>\n",
       "      <th>4</th>\n",
       "      <td>1975 [YR1975]</td>\n",
       "      <td>46,495.35</td>\n",
       "      <td>27446629</td>\n",
       "      <td>49189801</td>\n",
       "      <td>49189801</td>\n",
       "    </tr>\n",
       "  </tbody>\n",
       "</table>\n",
       "</div>"
      ],
      "text/plain": [
       "            Year  \\\n",
       "0  1971 [YR1971]   \n",
       "1  1972 [YR1972]   \n",
       "2  1973 [YR1973]   \n",
       "3  1974 [YR1974]   \n",
       "4  1975 [YR1975]   \n",
       "\n",
       "   Nitrous.oxide.emissions..thousand.metric.tons.of.CO2.equivalent.  \\\n",
       "0                                          37,691.04                  \n",
       "1                                          38,576.71                  \n",
       "2                                          43,345.13                  \n",
       "3                                          45,306.19                  \n",
       "4                                          46,495.35                  \n",
       "\n",
       "   Cereals..Total  Roots.and.Tubers..Total  Potatoes  \n",
       "0        28346210                 42619605  42619605  \n",
       "1        28911646                 51574900  51574900  \n",
       "2        30132506                 54800486  54800486  \n",
       "3        31093909                 51383477  51383477  \n",
       "4        27446629                 49189801  49189801  "
      ]
     },
     "execution_count": 260,
     "metadata": {},
     "output_type": "execute_result"
    }
   ],
   "source": [
    "CropsNitrox.head()"
   ]
  },
  {
   "cell_type": "code",
   "execution_count": 261,
   "metadata": {},
   "outputs": [
    {
     "data": {
      "text/plain": [
       "Index(['Year',\n",
       "       'Nitrous.oxide.emissions..thousand.metric.tons.of.CO2.equivalent.',\n",
       "       'Cereals..Total', 'Roots.and.Tubers..Total', 'Potatoes'],\n",
       "      dtype='object')"
      ]
     },
     "execution_count": 261,
     "metadata": {},
     "output_type": "execute_result"
    }
   ],
   "source": [
    "CropsNitrox.columns"
   ]
  },
  {
   "cell_type": "code",
   "execution_count": 273,
   "metadata": {},
   "outputs": [
    {
     "data": {
      "text/plain": [
       "<mpl_toolkits.mplot3d.art3d.Path3DCollection at 0x202f9371850>"
      ]
     },
     "execution_count": 273,
     "metadata": {},
     "output_type": "execute_result"
    },
    {
     "data": {
      "image/png": "[encoded data removed]",
      "text/plain": [
       "<Figure size 576x432 with 1 Axes>"
      ]
     },
     "metadata": {},
     "output_type": "display_data"
    }
   ],
   "source": [
    "fig = plt.figure(figsize=(8,6))\n",
    "ax = Axes3D(fig)\n",
    "\n",
    "x1_Cereals = CropsNitrox[\"Cereals..Total\"]\n",
    "x2_RnT = CropsNitrox['Roots.and.Tubers..Total']\n",
    "x3_Potatoes = CropsNitrox['Potatoes']\n",
    "y_ntwoo = CropsNitrox['Nitrous.oxide.emissions..thousand.metric.tons.of.CO2.equivalent.']\n",
    "\n",
    "ax.scatter(x1_Cereals, x3_Potatoes, y_ntwoo, \n",
    "           edgecolor = \"k\",\n",
    "           s= 200,\n",
    "           c= y_ntwoo)"
   ]
  },
  {
   "cell_type": "code",
   "execution_count": 268,
   "metadata": {},
   "outputs": [],
   "source": [
    "regMultiNitrox = smf.ols(\"y_ntwoo ~ x1_Cereals + x2_RnT + x3_Potatoes\", \n",
    "                         data = CropsNitrox).fit()"
   ]
  },
  {
   "cell_type": "code",
   "execution_count": 269,
   "metadata": {},
   "outputs": [
    {
     "data": {
      "text/html": [
       "<table class=\"simpletable\">\n",
       "<caption>OLS Regression Results</caption>\n",
       "<tr>\n",
       "  <th>Dep. Variable:</th>         <td>y_ntwoo</td>     <th>  R-squared:         </th> <td>   0.805</td>\n",
       "</tr>\n",
       "<tr>\n",
       "  <th>Model:</th>                   <td>OLS</td>       <th>  Adj. R-squared:    </th> <td>   0.796</td>\n",
       "</tr>\n",
       "<tr>\n",
       "  <th>Method:</th>             <td>Least Squares</td>  <th>  F-statistic:       </th> <td>   92.76</td>\n",
       "</tr>\n",
       "<tr>\n",
       "  <th>Date:</th>             <td>Fri, 18 Feb 2022</td> <th>  Prob (F-statistic):</th> <td>1.09e-16</td>\n",
       "</tr>\n",
       "<tr>\n",
       "  <th>Time:</th>                 <td>21:39:54</td>     <th>  Log-Likelihood:    </th> <td> -465.41</td>\n",
       "</tr>\n",
       "<tr>\n",
       "  <th>No. Observations:</th>      <td>    48</td>      <th>  AIC:               </th> <td>   936.8</td>\n",
       "</tr>\n",
       "<tr>\n",
       "  <th>Df Residuals:</th>          <td>    45</td>      <th>  BIC:               </th> <td>   942.4</td>\n",
       "</tr>\n",
       "<tr>\n",
       "  <th>Df Model:</th>              <td>     2</td>      <th>                     </th>     <td> </td>   \n",
       "</tr>\n",
       "<tr>\n",
       "  <th>Covariance Type:</th>      <td>nonrobust</td>    <th>                     </th>     <td> </td>   \n",
       "</tr>\n",
       "</table>\n",
       "<table class=\"simpletable\">\n",
       "<tr>\n",
       "       <td></td>          <th>coef</th>     <th>std err</th>      <th>t</th>      <th>P>|t|</th>  <th>[0.025</th>    <th>0.975]</th>  \n",
       "</tr>\n",
       "<tr>\n",
       "  <th>Intercept</th>   <td> 4.083e+04</td> <td> 8458.901</td> <td>    4.827</td> <td> 0.000</td> <td> 2.38e+04</td> <td> 5.79e+04</td>\n",
       "</tr>\n",
       "<tr>\n",
       "  <th>x1_Cereals</th>  <td>   -0.0007</td> <td>    0.000</td> <td>   -2.991</td> <td> 0.004</td> <td>   -0.001</td> <td>   -0.000</td>\n",
       "</tr>\n",
       "<tr>\n",
       "  <th>x2_RnT</th>      <td>-1.512e-05</td> <td> 6.74e-05</td> <td>   -0.224</td> <td> 0.824</td> <td>   -0.000</td> <td>    0.000</td>\n",
       "</tr>\n",
       "<tr>\n",
       "  <th>x3_Potatoes</th> <td>    0.0004</td> <td> 2.99e-05</td> <td>   14.034</td> <td> 0.000</td> <td>    0.000</td> <td>    0.000</td>\n",
       "</tr>\n",
       "</table>\n",
       "<table class=\"simpletable\">\n",
       "<tr>\n",
       "  <th>Omnibus:</th>       <td> 5.907</td> <th>  Durbin-Watson:     </th> <td>   0.752</td>\n",
       "</tr>\n",
       "<tr>\n",
       "  <th>Prob(Omnibus):</th> <td> 0.052</td> <th>  Jarque-Bera (JB):  </th> <td>   5.172</td>\n",
       "</tr>\n",
       "<tr>\n",
       "  <th>Skew:</th>          <td>-0.797</td> <th>  Prob(JB):          </th> <td>  0.0753</td>\n",
       "</tr>\n",
       "<tr>\n",
       "  <th>Kurtosis:</th>      <td> 3.212</td> <th>  Cond. No.          </th> <td>3.53e+16</td>\n",
       "</tr>\n",
       "</table><br/><br/>Notes:<br/>[1] Standard Errors assume that the covariance matrix of the errors is correctly specified.<br/>[2] The smallest eigenvalue is 1.11e-16. This might indicate that there are<br/>strong multicollinearity problems or that the design matrix is singular."
      ],
      "text/plain": [
       "<class 'statsmodels.iolib.summary.Summary'>\n",
       "\"\"\"\n",
       "                            OLS Regression Results                            \n",
       "==============================================================================\n",
       "Dep. Variable:                y_ntwoo   R-squared:                       0.805\n",
       "Model:                            OLS   Adj. R-squared:                  0.796\n",
       "Method:                 Least Squares   F-statistic:                     92.76\n",
       "Date:                Fri, 18 Feb 2022   Prob (F-statistic):           1.09e-16\n",
       "Time:                        21:39:54   Log-Likelihood:                -465.41\n",
       "No. Observations:                  48   AIC:                             936.8\n",
       "Df Residuals:                      45   BIC:                             942.4\n",
       "Df Model:                           2                                         \n",
       "Covariance Type:            nonrobust                                         \n",
       "===============================================================================\n",
       "                  coef    std err          t      P>|t|      [0.025      0.975]\n",
       "-------------------------------------------------------------------------------\n",
       "Intercept    4.083e+04   8458.901      4.827      0.000    2.38e+04    5.79e+04\n",
       "x1_Cereals     -0.0007      0.000     -2.991      0.004      -0.001      -0.000\n",
       "x2_RnT      -1.512e-05   6.74e-05     -0.224      0.824      -0.000       0.000\n",
       "x3_Potatoes     0.0004   2.99e-05     14.034      0.000       0.000       0.000\n",
       "==============================================================================\n",
       "Omnibus:                        5.907   Durbin-Watson:                   0.752\n",
       "Prob(Omnibus):                  0.052   Jarque-Bera (JB):                5.172\n",
       "Skew:                          -0.797   Prob(JB):                       0.0753\n",
       "Kurtosis:                       3.212   Cond. No.                     3.53e+16\n",
       "==============================================================================\n",
       "\n",
       "Notes:\n",
       "[1] Standard Errors assume that the covariance matrix of the errors is correctly specified.\n",
       "[2] The smallest eigenvalue is 1.11e-16. This might indicate that there are\n",
       "strong multicollinearity problems or that the design matrix is singular.\n",
       "\"\"\""
      ]
     },
     "execution_count": 269,
     "metadata": {},
     "output_type": "execute_result"
    }
   ],
   "source": [
    "regMultiNitrox.summary()"
   ]
  },
  {
   "cell_type": "markdown",
   "metadata": {},
   "source": [
    "#### 7. Discussion"
   ]
  }
 ],
 "metadata": {
  "interpreter": {
   "hash": "a41f48461941a5aefc82610e94371dafd9500cffa630c3ca9566e477af78c3ed"
  },
  "kernelspec": {
   "display_name": "Python 3.8.5 ('base')",
   "language": "python",
   "name": "python3"
  },
  "language_info": {
   "codemirror_mode": {
    "name": "ipython",
    "version": 3
   },
   "file_extension": ".py",
   "mimetype": "text/x-python",
   "name": "python",
   "nbconvert_exporter": "python",
   "pygments_lexer": "ipython3",
   "version": "3.8.5"
  },
  "orig_nbformat": 4
 },
 "nbformat": 4,
 "nbformat_minor": 2
}
